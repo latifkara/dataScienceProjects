{
 "cells": [
  {
   "cell_type": "markdown",
   "id": "8dd48a85-7e7f-4391-8704-26d8465d6b4e",
   "metadata": {},
   "source": [
    "# Import Libraries"
   ]
  },
  {
   "cell_type": "code",
   "execution_count": 1,
   "id": "9fb49627-2e27-48ac-a6fa-e235c0b02e2e",
   "metadata": {},
   "outputs": [],
   "source": [
    "import numpy as np\n",
    "import pandas as pd\n",
    "import seaborn as sns\n",
    "import matplotlib.pyplot as plt\n",
    "%matplotlib inline"
   ]
  },
  {
   "cell_type": "markdown",
   "id": "37bfca6d-92bd-40a7-a00f-366116b13fd0",
   "metadata": {},
   "source": [
    "# Read Dataset"
   ]
  },
  {
   "cell_type": "code",
   "execution_count": 2,
   "id": "09d5ee9e-67f5-4210-b6c4-82435509d0e7",
   "metadata": {},
   "outputs": [],
   "source": [
    "books_df = pd.read_excel('datasets/Amazon_top100_bestselling_books_2009to2021.xlsx')"
   ]
  },
  {
   "cell_type": "code",
   "execution_count": 3,
   "id": "018904d1-1cc8-4025-b569-ed2969871cfa",
   "metadata": {},
   "outputs": [
    {
     "data": {
      "text/html": [
       "<div>\n",
       "<style scoped>\n",
       "    .dataframe tbody tr th:only-of-type {\n",
       "        vertical-align: middle;\n",
       "    }\n",
       "\n",
       "    .dataframe tbody tr th {\n",
       "        vertical-align: top;\n",
       "    }\n",
       "\n",
       "    .dataframe thead th {\n",
       "        text-align: right;\n",
       "    }\n",
       "</style>\n",
       "<table border=\"1\" class=\"dataframe\">\n",
       "  <thead>\n",
       "    <tr style=\"text-align: right;\">\n",
       "      <th></th>\n",
       "      <th>Unnamed: 0</th>\n",
       "      <th>price</th>\n",
       "      <th>ranks</th>\n",
       "      <th>title</th>\n",
       "      <th>no_of_reviews</th>\n",
       "      <th>ratings</th>\n",
       "      <th>author</th>\n",
       "      <th>cover_type</th>\n",
       "      <th>year</th>\n",
       "      <th>genre</th>\n",
       "    </tr>\n",
       "  </thead>\n",
       "  <tbody>\n",
       "    <tr>\n",
       "      <th>0</th>\n",
       "      <td>0</td>\n",
       "      <td>12.49</td>\n",
       "      <td>1.0</td>\n",
       "      <td>The Lost Symbol</td>\n",
       "      <td>16118.0</td>\n",
       "      <td>4.4</td>\n",
       "      <td>Dan Brown</td>\n",
       "      <td>Hardcover</td>\n",
       "      <td>2009</td>\n",
       "      <td>Fiction</td>\n",
       "    </tr>\n",
       "    <tr>\n",
       "      <th>1</th>\n",
       "      <td>1</td>\n",
       "      <td>13.40</td>\n",
       "      <td>2.0</td>\n",
       "      <td>The Shack: Where Tragedy Confronts Eternity</td>\n",
       "      <td>23392.0</td>\n",
       "      <td>4.7</td>\n",
       "      <td>William P. Young</td>\n",
       "      <td>Paperback</td>\n",
       "      <td>2009</td>\n",
       "      <td>Fiction</td>\n",
       "    </tr>\n",
       "    <tr>\n",
       "      <th>2</th>\n",
       "      <td>2</td>\n",
       "      <td>9.93</td>\n",
       "      <td>3.0</td>\n",
       "      <td>Liberty and Tyranny: A Conservative Manifesto</td>\n",
       "      <td>5036.0</td>\n",
       "      <td>4.8</td>\n",
       "      <td>Mark R. Levin</td>\n",
       "      <td>Hardcover</td>\n",
       "      <td>2009</td>\n",
       "      <td>Non Fiction</td>\n",
       "    </tr>\n",
       "    <tr>\n",
       "      <th>3</th>\n",
       "      <td>3</td>\n",
       "      <td>14.30</td>\n",
       "      <td>4.0</td>\n",
       "      <td>Breaking Dawn (The Twilight Saga, Book 4)</td>\n",
       "      <td>16912.0</td>\n",
       "      <td>4.7</td>\n",
       "      <td>Stephenie Meyer</td>\n",
       "      <td>Hardcover</td>\n",
       "      <td>2009</td>\n",
       "      <td>Fiction</td>\n",
       "    </tr>\n",
       "    <tr>\n",
       "      <th>4</th>\n",
       "      <td>4</td>\n",
       "      <td>9.99</td>\n",
       "      <td>5.0</td>\n",
       "      <td>Going Rogue: An American Life</td>\n",
       "      <td>1572.0</td>\n",
       "      <td>4.6</td>\n",
       "      <td>Sarah Palin</td>\n",
       "      <td>Hardcover</td>\n",
       "      <td>2009</td>\n",
       "      <td>Non Fiction</td>\n",
       "    </tr>\n",
       "  </tbody>\n",
       "</table>\n",
       "</div>"
      ],
      "text/plain": [
       "   Unnamed: 0  price  ranks                                          title  \\\n",
       "0           0  12.49    1.0                                The Lost Symbol   \n",
       "1           1  13.40    2.0    The Shack: Where Tragedy Confronts Eternity   \n",
       "2           2   9.93    3.0  Liberty and Tyranny: A Conservative Manifesto   \n",
       "3           3  14.30    4.0      Breaking Dawn (The Twilight Saga, Book 4)   \n",
       "4           4   9.99    5.0                  Going Rogue: An American Life   \n",
       "\n",
       "   no_of_reviews  ratings            author cover_type  year        genre  \n",
       "0        16118.0      4.4         Dan Brown  Hardcover  2009      Fiction  \n",
       "1        23392.0      4.7  William P. Young  Paperback  2009      Fiction  \n",
       "2         5036.0      4.8     Mark R. Levin  Hardcover  2009  Non Fiction  \n",
       "3        16912.0      4.7   Stephenie Meyer  Hardcover  2009      Fiction  \n",
       "4         1572.0      4.6       Sarah Palin  Hardcover  2009  Non Fiction  "
      ]
     },
     "execution_count": 3,
     "metadata": {},
     "output_type": "execute_result"
    }
   ],
   "source": [
    "books_df.head()"
   ]
  },
  {
   "cell_type": "code",
   "execution_count": null,
   "id": "466107cb-10b9-4fd6-b913-027e0356a709",
   "metadata": {},
   "outputs": [],
   "source": []
  },
  {
   "cell_type": "code",
   "execution_count": null,
   "id": "a62a6c8e-cec4-45aa-8a1a-25da6a28fea9",
   "metadata": {},
   "outputs": [],
   "source": []
  },
  {
   "cell_type": "markdown",
   "id": "41655c4b-d4e8-40a6-87fb-1e42360ab4a5",
   "metadata": {},
   "source": [
    "# Data Analysis"
   ]
  },
  {
   "cell_type": "code",
   "execution_count": 4,
   "id": "b992d77c-5938-4696-9fa9-0526bf7dce0a",
   "metadata": {},
   "outputs": [
    {
     "data": {
      "text/plain": [
       "(1291, 10)"
      ]
     },
     "execution_count": 4,
     "metadata": {},
     "output_type": "execute_result"
    }
   ],
   "source": [
    "books_df.shape"
   ]
  },
  {
   "cell_type": "code",
   "execution_count": 5,
   "id": "61904fd0-b68e-4e90-8047-dbfbeb7f964a",
   "metadata": {},
   "outputs": [
    {
     "name": "stdout",
     "output_type": "stream",
     "text": [
      "<class 'pandas.core.frame.DataFrame'>\n",
      "RangeIndex: 1291 entries, 0 to 1290\n",
      "Data columns (total 10 columns):\n",
      " #   Column         Non-Null Count  Dtype  \n",
      "---  ------         --------------  -----  \n",
      " 0   Unnamed: 0     1291 non-null   int64  \n",
      " 1   price          1287 non-null   float64\n",
      " 2   ranks          1287 non-null   float64\n",
      " 3   title          1286 non-null   object \n",
      " 4   no_of_reviews  1287 non-null   float64\n",
      " 5   ratings        1287 non-null   float64\n",
      " 6   author         1286 non-null   object \n",
      " 7   cover_type     1286 non-null   object \n",
      " 8   year           1291 non-null   int64  \n",
      " 9   genre          1288 non-null   object \n",
      "dtypes: float64(4), int64(2), object(4)\n",
      "memory usage: 101.0+ KB\n"
     ]
    }
   ],
   "source": [
    "books_df.info()"
   ]
  },
  {
   "cell_type": "code",
   "execution_count": 6,
   "id": "c36f855f-053a-45f5-af21-f647b5247e6f",
   "metadata": {},
   "outputs": [
    {
     "data": {
      "text/html": [
       "<div>\n",
       "<style scoped>\n",
       "    .dataframe tbody tr th:only-of-type {\n",
       "        vertical-align: middle;\n",
       "    }\n",
       "\n",
       "    .dataframe tbody tr th {\n",
       "        vertical-align: top;\n",
       "    }\n",
       "\n",
       "    .dataframe thead th {\n",
       "        text-align: right;\n",
       "    }\n",
       "</style>\n",
       "<table border=\"1\" class=\"dataframe\">\n",
       "  <thead>\n",
       "    <tr style=\"text-align: right;\">\n",
       "      <th></th>\n",
       "      <th>count</th>\n",
       "      <th>mean</th>\n",
       "      <th>std</th>\n",
       "      <th>min</th>\n",
       "      <th>25%</th>\n",
       "      <th>50%</th>\n",
       "      <th>75%</th>\n",
       "      <th>max</th>\n",
       "    </tr>\n",
       "  </thead>\n",
       "  <tbody>\n",
       "    <tr>\n",
       "      <th>Unnamed: 0</th>\n",
       "      <td>1291.0</td>\n",
       "      <td>645.00</td>\n",
       "      <td>372.82</td>\n",
       "      <td>0.00</td>\n",
       "      <td>322.50</td>\n",
       "      <td>645.0</td>\n",
       "      <td>967.50</td>\n",
       "      <td>1290.0</td>\n",
       "    </tr>\n",
       "    <tr>\n",
       "      <th>price</th>\n",
       "      <td>1287.0</td>\n",
       "      <td>13.76</td>\n",
       "      <td>10.05</td>\n",
       "      <td>1.17</td>\n",
       "      <td>8.55</td>\n",
       "      <td>12.1</td>\n",
       "      <td>16.29</td>\n",
       "      <td>144.0</td>\n",
       "    </tr>\n",
       "    <tr>\n",
       "      <th>ranks</th>\n",
       "      <td>1287.0</td>\n",
       "      <td>50.25</td>\n",
       "      <td>28.80</td>\n",
       "      <td>1.00</td>\n",
       "      <td>25.00</td>\n",
       "      <td>50.0</td>\n",
       "      <td>75.00</td>\n",
       "      <td>100.0</td>\n",
       "    </tr>\n",
       "    <tr>\n",
       "      <th>no_of_reviews</th>\n",
       "      <td>1287.0</td>\n",
       "      <td>25827.71</td>\n",
       "      <td>32224.06</td>\n",
       "      <td>50.00</td>\n",
       "      <td>6769.00</td>\n",
       "      <td>16845.0</td>\n",
       "      <td>32326.00</td>\n",
       "      <td>344811.0</td>\n",
       "    </tr>\n",
       "    <tr>\n",
       "      <th>ratings</th>\n",
       "      <td>1287.0</td>\n",
       "      <td>4.65</td>\n",
       "      <td>0.20</td>\n",
       "      <td>3.40</td>\n",
       "      <td>4.60</td>\n",
       "      <td>4.7</td>\n",
       "      <td>4.80</td>\n",
       "      <td>4.9</td>\n",
       "    </tr>\n",
       "    <tr>\n",
       "      <th>year</th>\n",
       "      <td>1291.0</td>\n",
       "      <td>2015.03</td>\n",
       "      <td>3.73</td>\n",
       "      <td>2009.00</td>\n",
       "      <td>2012.00</td>\n",
       "      <td>2015.0</td>\n",
       "      <td>2018.00</td>\n",
       "      <td>2021.0</td>\n",
       "    </tr>\n",
       "  </tbody>\n",
       "</table>\n",
       "</div>"
      ],
      "text/plain": [
       "                count      mean       std      min      25%      50%  \\\n",
       "Unnamed: 0     1291.0    645.00    372.82     0.00   322.50    645.0   \n",
       "price          1287.0     13.76     10.05     1.17     8.55     12.1   \n",
       "ranks          1287.0     50.25     28.80     1.00    25.00     50.0   \n",
       "no_of_reviews  1287.0  25827.71  32224.06    50.00  6769.00  16845.0   \n",
       "ratings        1287.0      4.65      0.20     3.40     4.60      4.7   \n",
       "year           1291.0   2015.03      3.73  2009.00  2012.00   2015.0   \n",
       "\n",
       "                    75%       max  \n",
       "Unnamed: 0       967.50    1290.0  \n",
       "price             16.29     144.0  \n",
       "ranks             75.00     100.0  \n",
       "no_of_reviews  32326.00  344811.0  \n",
       "ratings            4.80       4.9  \n",
       "year            2018.00    2021.0  "
      ]
     },
     "execution_count": 6,
     "metadata": {},
     "output_type": "execute_result"
    }
   ],
   "source": [
    "books_df.describe().T.round(2)"
   ]
  },
  {
   "cell_type": "code",
   "execution_count": null,
   "id": "16f9f6ff-069a-484d-9600-85540d905665",
   "metadata": {},
   "outputs": [],
   "source": []
  },
  {
   "cell_type": "markdown",
   "id": "5a52fda8-b281-4ea5-9883-81cb0f2a9105",
   "metadata": {},
   "source": [
    "## Missed Value Problem"
   ]
  },
  {
   "cell_type": "code",
   "execution_count": 7,
   "id": "6971cace-800f-4651-a857-41bc24804230",
   "metadata": {},
   "outputs": [
    {
     "data": {
      "text/plain": [
       "Unnamed: 0       0\n",
       "price            4\n",
       "ranks            4\n",
       "title            5\n",
       "no_of_reviews    4\n",
       "ratings          4\n",
       "author           5\n",
       "cover_type       5\n",
       "year             0\n",
       "genre            3\n",
       "dtype: int64"
      ]
     },
     "execution_count": 7,
     "metadata": {},
     "output_type": "execute_result"
    }
   ],
   "source": [
    "books_df.isnull().sum()"
   ]
  },
  {
   "cell_type": "code",
   "execution_count": 8,
   "id": "fde59940-160c-4487-8c35-9903feebfec5",
   "metadata": {},
   "outputs": [
    {
     "data": {
      "text/plain": [
       "34"
      ]
     },
     "execution_count": 8,
     "metadata": {},
     "output_type": "execute_result"
    }
   ],
   "source": [
    "books_df.isnull().values.sum()"
   ]
  },
  {
   "cell_type": "code",
   "execution_count": 9,
   "id": "1157d9d2-9de3-4db0-b5f1-16aeaebe45ef",
   "metadata": {},
   "outputs": [],
   "source": [
    "books_df.interpolate(method='linear', limit_direction='forward', inplace=True, axis=0)"
   ]
  },
  {
   "cell_type": "code",
   "execution_count": 10,
   "id": "9f261295-7cbf-445e-aa4f-1d9b9a6cd97f",
   "metadata": {},
   "outputs": [],
   "source": [
    "numeric_cols = books_df.select_dtypes(np.number).columns"
   ]
  },
  {
   "cell_type": "code",
   "execution_count": 11,
   "id": "44679358-c058-4ebc-89a1-54019dcb4dff",
   "metadata": {},
   "outputs": [
    {
     "data": {
      "text/plain": [
       "Index(['Unnamed: 0', 'price', 'ranks', 'no_of_reviews', 'ratings', 'year'], dtype='object')"
      ]
     },
     "execution_count": 11,
     "metadata": {},
     "output_type": "execute_result"
    }
   ],
   "source": [
    "numeric_cols"
   ]
  },
  {
   "cell_type": "code",
   "execution_count": 12,
   "id": "39a91fe3-8fe6-4474-9e5d-086a25c8bc8a",
   "metadata": {},
   "outputs": [
    {
     "name": "stderr",
     "output_type": "stream",
     "text": [
      "F:\\4.yil_birinci_dnem\\Data Science\\data\\lib\\site-packages\\ipykernel_launcher.py:1: FutureWarning: Dropping of nuisance columns in DataFrame reductions (with 'numeric_only=None') is deprecated; in a future version this will raise TypeError.  Select only valid columns before calling the reduction.\n",
      "  \"\"\"Entry point for launching an IPython kernel.\n"
     ]
    }
   ],
   "source": [
    "books_df = books_df.fillna(books_df.median())"
   ]
  },
  {
   "cell_type": "code",
   "execution_count": 13,
   "id": "bf16e758-f7fe-455c-9051-2aa1142c31dd",
   "metadata": {},
   "outputs": [],
   "source": [
    "books_df.dropna(axis=0, inplace=True)"
   ]
  },
  {
   "cell_type": "code",
   "execution_count": 14,
   "id": "28d2717a-c5c2-4834-a57f-5805fa9c439f",
   "metadata": {},
   "outputs": [],
   "source": [
    "books_df.drop('Unnamed: 0', axis=1, inplace=True)"
   ]
  },
  {
   "cell_type": "code",
   "execution_count": null,
   "id": "98f90bf4-5246-494e-bbc1-217388b94a39",
   "metadata": {},
   "outputs": [],
   "source": []
  },
  {
   "cell_type": "markdown",
   "id": "53fd361c-30f8-45fc-8c8d-891d5715f048",
   "metadata": {},
   "source": [
    "## Convert Data Type"
   ]
  },
  {
   "cell_type": "code",
   "execution_count": 15,
   "id": "2e78ab12-0b6a-4790-b5f1-ed34f02d846c",
   "metadata": {},
   "outputs": [],
   "source": [
    "books_df['no_of_reviews'] = books_df['no_of_reviews'].astype(np.float64)"
   ]
  },
  {
   "cell_type": "code",
   "execution_count": 16,
   "id": "17a2fadf-cfaa-4dc4-babd-c26a1b7167f7",
   "metadata": {},
   "outputs": [
    {
     "name": "stdout",
     "output_type": "stream",
     "text": [
      "<class 'pandas.core.frame.DataFrame'>\n",
      "Int64Index: 1285 entries, 0 to 1290\n",
      "Data columns (total 9 columns):\n",
      " #   Column         Non-Null Count  Dtype  \n",
      "---  ------         --------------  -----  \n",
      " 0   price          1285 non-null   float64\n",
      " 1   ranks          1285 non-null   float64\n",
      " 2   title          1285 non-null   object \n",
      " 3   no_of_reviews  1285 non-null   float64\n",
      " 4   ratings        1285 non-null   float64\n",
      " 5   author         1285 non-null   object \n",
      " 6   cover_type     1285 non-null   object \n",
      " 7   year           1285 non-null   int64  \n",
      " 8   genre          1285 non-null   object \n",
      "dtypes: float64(4), int64(1), object(4)\n",
      "memory usage: 100.4+ KB\n"
     ]
    }
   ],
   "source": [
    "books_df.info()"
   ]
  },
  {
   "cell_type": "code",
   "execution_count": 17,
   "id": "9afeee9d-b2a0-4d29-8bf1-61b873c07169",
   "metadata": {},
   "outputs": [
    {
     "data": {
      "text/plain": [
       "0       16118.0\n",
       "1       23392.0\n",
       "2        5036.0\n",
       "3       16912.0\n",
       "4        1572.0\n",
       "         ...   \n",
       "1286    21401.0\n",
       "1287    79872.0\n",
       "1288    15753.0\n",
       "1289     7246.0\n",
       "1290    27332.0\n",
       "Name: no_of_reviews, Length: 1285, dtype: float64"
      ]
     },
     "execution_count": 17,
     "metadata": {},
     "output_type": "execute_result"
    }
   ],
   "source": [
    "books_df['no_of_reviews']"
   ]
  },
  {
   "cell_type": "code",
   "execution_count": 18,
   "id": "f359a4a5-971b-4be3-933b-27bb191e3d9c",
   "metadata": {},
   "outputs": [],
   "source": [
    "def density_plot(dataframe, col):\n",
    "    plt.figure(figsize=(12, 6))\n",
    "    sns.kdeplot(dataframe[col], color='green', fill=True)"
   ]
  },
  {
   "cell_type": "code",
   "execution_count": 19,
   "id": "7bba3898-5469-4904-bce6-49ea38b79535",
   "metadata": {},
   "outputs": [
    {
     "data": {
      "text/plain": [
       "<AxesSubplot:xlabel='no_of_reviews', ylabel='Density'>"
      ]
     },
     "execution_count": 19,
     "metadata": {},
     "output_type": "execute_result"
    },
    {
     "data": {
      "image/png": "[encoded data removed]",
      "text/plain": [
       "<Figure size 640x480 with 1 Axes>"
      ]
     },
     "metadata": {},
     "output_type": "display_data"
    }
   ],
   "source": [
    "sns.kdeplot(books_df['no_of_reviews'], color='green', fill=True)"
   ]
  },
  {
   "cell_type": "code",
   "execution_count": 20,
   "id": "9efa498f-410a-4aab-9579-00bf433f7956",
   "metadata": {},
   "outputs": [
    {
     "data": {
      "image/png": "[encoded data removed]",
      "text/plain": [
       "<Figure size 1200x600 with 1 Axes>"
      ]
     },
     "metadata": {},
     "output_type": "display_data"
    }
   ],
   "source": [
    "density_plot(books_df, 'price')"
   ]
  },
  {
   "cell_type": "code",
   "execution_count": 24,
   "id": "f27db642-9bc7-44d1-bdc4-44e0cd2418c7",
   "metadata": {},
   "outputs": [
    {
     "data": {
      "text/plain": [
       "<AxesSubplot:xlabel='price', ylabel='ranks'>"
      ]
     },
     "execution_count": 24,
     "metadata": {},
     "output_type": "execute_result"
    },
    {
     "data": {
      "image/png": "[encoded data removed]",
      "text/plain": [
       "<Figure size 640x480 with 1 Axes>"
      ]
     },
     "metadata": {},
     "output_type": "display_data"
    }
   ],
   "source": [
    "sns.scatterplot(x=books_df.price, y=books_df.ranks, hue=)"
   ]
  },
  {
   "cell_type": "code",
   "execution_count": null,
   "id": "e523dbcb-700b-4ffb-a538-b88c43a18bd1",
   "metadata": {},
   "outputs": [],
   "source": []
  },
  {
   "cell_type": "code",
   "execution_count": null,
   "id": "0c22eb92-3cb3-4605-9c11-dcd2a591727e",
   "metadata": {},
   "outputs": [],
   "source": []
  },
  {
   "cell_type": "code",
   "execution_count": null,
   "id": "99b3f53e-e73c-4c68-9231-45708ca03e07",
   "metadata": {},
   "outputs": [],
   "source": []
  },
  {
   "cell_type": "code",
   "execution_count": null,
   "id": "441cfd8d-09c5-4890-9f06-ee37b63c86a8",
   "metadata": {},
   "outputs": [],
   "source": []
  },
  {
   "cell_type": "code",
   "execution_count": null,
   "id": "95a74524-4478-4e57-9068-c25b9a9b9108",
   "metadata": {},
   "outputs": [],
   "source": []
  },
  {
   "cell_type": "code",
   "execution_count": null,
   "id": "4d658034-886a-470b-9f65-40ae6dc4c370",
   "metadata": {},
   "outputs": [],
   "source": []
  },
  {
   "cell_type": "code",
   "execution_count": null,
   "id": "349e659b-5a50-4d32-b775-58da5576fd5d",
   "metadata": {},
   "outputs": [],
   "source": []
  },
  {
   "cell_type": "code",
   "execution_count": null,
   "id": "050b2065-c971-4147-a788-0e8c64bff74b",
   "metadata": {},
   "outputs": [],
   "source": []
  },
  {
   "cell_type": "code",
   "execution_count": null,
   "id": "9dd856f2-35b8-4c82-8b2b-d4a36bd4b4cc",
   "metadata": {},
   "outputs": [],
   "source": []
  },
  {
   "cell_type": "code",
   "execution_count": null,
   "id": "9ac482a5-de51-49ea-8b97-99220626d176",
   "metadata": {},
   "outputs": [],
   "source": []
  },
  {
   "cell_type": "code",
   "execution_count": null,
   "id": "b74e95e9-09f1-48a7-8f47-337c9be496b3",
   "metadata": {},
   "outputs": [],
   "source": []
  },
  {
   "cell_type": "code",
   "execution_count": null,
   "id": "07105b1f-924f-4344-86fb-a2798c18aad0",
   "metadata": {},
   "outputs": [],
   "source": []
  },
  {
   "cell_type": "code",
   "execution_count": null,
   "id": "1210c03a-eb5a-42c5-9403-5729d9af12c2",
   "metadata": {},
   "outputs": [],
   "source": []
  },
  {
   "cell_type": "code",
   "execution_count": null,
   "id": "731b24e3-8eef-434f-ad3b-b8ee62e8f4c6",
   "metadata": {},
   "outputs": [],
   "source": []
  },
  {
   "cell_type": "code",
   "execution_count": null,
   "id": "dd23d838-cfdf-4403-bf37-43dad3f856f7",
   "metadata": {},
   "outputs": [],
   "source": []
  },
  {
   "cell_type": "code",
   "execution_count": null,
   "id": "c65ff91d-70ed-4365-a9e7-4a9af2a7a7d0",
   "metadata": {},
   "outputs": [],
   "source": []
  },
  {
   "cell_type": "code",
   "execution_count": null,
   "id": "47f29303-f9fb-4da0-99cd-276ce6748c65",
   "metadata": {},
   "outputs": [],
   "source": []
  },
  {
   "cell_type": "code",
   "execution_count": null,
   "id": "2b5d4259-8c60-4513-b125-bcb731948e44",
   "metadata": {},
   "outputs": [],
   "source": []
  },
  {
   "cell_type": "code",
   "execution_count": null,
   "id": "bce9ad8b-2734-4fcf-b52d-3605cd92f210",
   "metadata": {},
   "outputs": [],
   "source": []
  },
  {
   "cell_type": "code",
   "execution_count": null,
   "id": "9cd60bd6-0652-4a23-b583-be3f94697433",
   "metadata": {},
   "outputs": [],
   "source": []
  },
  {
   "cell_type": "code",
   "execution_count": null,
   "id": "fc8e9750-18d4-45ea-99d4-e059a68d47e0",
   "metadata": {},
   "outputs": [],
   "source": []
  },
  {
   "cell_type": "code",
   "execution_count": null,
   "id": "b5650acb-3ac2-4ce7-8544-1311da93beaf",
   "metadata": {},
   "outputs": [],
   "source": []
  },
  {
   "cell_type": "code",
   "execution_count": null,
   "id": "df82e557-38eb-4272-9758-ffb0fdfe6a07",
   "metadata": {},
   "outputs": [],
   "source": []
  },
  {
   "cell_type": "code",
   "execution_count": null,
   "id": "cd77a1c8-f36e-478c-8def-16ea78f295e6",
   "metadata": {},
   "outputs": [],
   "source": []
  }
 ],
 "metadata": {
  "kernelspec": {
   "display_name": "dataScience",
   "language": "python",
   "name": "datascience"
  },
  "language_info": {
   "codemirror_mode": {
    "name": "ipython",
    "version": 3
   },
   "file_extension": ".py",
   "mimetype": "text/x-python",
   "name": "python",
   "nbconvert_exporter": "python",
   "pygments_lexer": "ipython3",
   "version": "3.7.9"
  }
 },
 "nbformat": 4,
 "nbformat_minor": 5
}
