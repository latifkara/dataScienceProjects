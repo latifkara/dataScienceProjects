{
 "cells": [
  {
   "cell_type": "markdown",
   "id": "f8348385-5715-478b-b7a4-bd7fa4c24645",
   "metadata": {},
   "source": [
    "# Import Libraries"
   ]
  },
  {
   "cell_type": "code",
   "execution_count": 1,
   "id": "d880a695-f9b7-4b10-8157-7d8b6b8d4abc",
   "metadata": {},
   "outputs": [],
   "source": [
    "import numpy as np\n",
    "import pandas as pd\n",
    "import seaborn as sns\n",
    "import matplotlib.pyplot as plt\n",
    "from sklearn.preprocessing import LabelEncoder\n",
    "%matplotlib inline"
   ]
  },
  {
   "cell_type": "code",
   "execution_count": null,
   "id": "dc76b8e6-4911-41fd-a523-3294262efd86",
   "metadata": {},
   "outputs": [],
   "source": []
  },
  {
   "cell_type": "markdown",
   "id": "9705aa01-f9b1-48c6-af0b-e52c573d2645",
   "metadata": {},
   "source": [
    "# Read Data"
   ]
  },
  {
   "cell_type": "code",
   "execution_count": 2,
   "id": "179459d0-5a99-4826-ada1-fd6e7e81f3d3",
   "metadata": {},
   "outputs": [],
   "source": [
    "job_df = pd.read_csv('datasets/DataAnalyst.csv')"
   ]
  },
  {
   "cell_type": "code",
   "execution_count": 25,
   "id": "9e5ce4a0-2f73-44a7-b7cc-048f96f9ac65",
   "metadata": {},
   "outputs": [
    {
     "data": {
      "text/html": [
       "<div>\n",
       "<style scoped>\n",
       "    .dataframe tbody tr th:only-of-type {\n",
       "        vertical-align: middle;\n",
       "    }\n",
       "\n",
       "    .dataframe tbody tr th {\n",
       "        vertical-align: top;\n",
       "    }\n",
       "\n",
       "    .dataframe thead th {\n",
       "        text-align: right;\n",
       "    }\n",
       "</style>\n",
       "<table border=\"1\" class=\"dataframe\">\n",
       "  <thead>\n",
       "    <tr style=\"text-align: right;\">\n",
       "      <th></th>\n",
       "      <th>Job Title</th>\n",
       "      <th>Job Description</th>\n",
       "      <th>Rating</th>\n",
       "      <th>Company Name</th>\n",
       "      <th>Location</th>\n",
       "      <th>Headquarters</th>\n",
       "      <th>Size</th>\n",
       "      <th>Founded</th>\n",
       "      <th>Type of ownership</th>\n",
       "      <th>Industry</th>\n",
       "      <th>Sector</th>\n",
       "      <th>Revenue</th>\n",
       "      <th>Competitors</th>\n",
       "      <th>Easy Apply</th>\n",
       "      <th>Min_Salary</th>\n",
       "      <th>Max_Salary</th>\n",
       "      <th>Department</th>\n",
       "    </tr>\n",
       "  </thead>\n",
       "  <tbody>\n",
       "    <tr>\n",
       "      <th>0</th>\n",
       "      <td>Data Analyst, Center on Immigration and Justice</td>\n",
       "      <td>Are you eager to roll up your sleeves and harn...</td>\n",
       "      <td>3.2</td>\n",
       "      <td>Vera Institute of Justice</td>\n",
       "      <td>New York, NY</td>\n",
       "      <td>New York, NY</td>\n",
       "      <td>201 to 500 employees</td>\n",
       "      <td>1961.0</td>\n",
       "      <td>Nonprofit Organization</td>\n",
       "      <td>Social Assistance</td>\n",
       "      <td>Non-Profit</td>\n",
       "      <td>$100 to $500 million (USD)</td>\n",
       "      <td>NaN</td>\n",
       "      <td>True</td>\n",
       "      <td>37</td>\n",
       "      <td>66</td>\n",
       "      <td>CIJ)</td>\n",
       "    </tr>\n",
       "    <tr>\n",
       "      <th>1</th>\n",
       "      <td>Quality Data Analyst</td>\n",
       "      <td>Overview\\n\\nProvides analytical and technical ...</td>\n",
       "      <td>3.8</td>\n",
       "      <td>Visiting Nurse Service of New York</td>\n",
       "      <td>New York, NY</td>\n",
       "      <td>New York, NY</td>\n",
       "      <td>10000+ employees</td>\n",
       "      <td>1893.0</td>\n",
       "      <td>Nonprofit Organization</td>\n",
       "      <td>Health Care Services &amp; Hospitals</td>\n",
       "      <td>Health Care</td>\n",
       "      <td>$2 to $5 billion (USD)</td>\n",
       "      <td>NaN</td>\n",
       "      <td>False</td>\n",
       "      <td>37</td>\n",
       "      <td>66</td>\n",
       "      <td>NaN</td>\n",
       "    </tr>\n",
       "    <tr>\n",
       "      <th>2</th>\n",
       "      <td>Senior Data Analyst, Insights &amp; Analytics Team...</td>\n",
       "      <td>We’re looking for a Senior Data Analyst who ha...</td>\n",
       "      <td>3.4</td>\n",
       "      <td>Squarespace</td>\n",
       "      <td>New York, NY</td>\n",
       "      <td>New York, NY</td>\n",
       "      <td>1001 to 5000 employees</td>\n",
       "      <td>2003.0</td>\n",
       "      <td>Company - Private</td>\n",
       "      <td>Internet</td>\n",
       "      <td>Information Technology</td>\n",
       "      <td>Unknown / Non-Applicable</td>\n",
       "      <td>GoDaddy</td>\n",
       "      <td>False</td>\n",
       "      <td>37</td>\n",
       "      <td>66</td>\n",
       "      <td>NaN</td>\n",
       "    </tr>\n",
       "    <tr>\n",
       "      <th>3</th>\n",
       "      <td>Data Analyst</td>\n",
       "      <td>Requisition NumberRR-0001939\\nRemote:Yes\\nWe c...</td>\n",
       "      <td>4.1</td>\n",
       "      <td>Celerity</td>\n",
       "      <td>New York, NY</td>\n",
       "      <td>McLean, VA</td>\n",
       "      <td>201 to 500 employees</td>\n",
       "      <td>2002.0</td>\n",
       "      <td>Subsidiary or Business Segment</td>\n",
       "      <td>IT Services</td>\n",
       "      <td>Information Technology</td>\n",
       "      <td>$50 to $100 million (USD)</td>\n",
       "      <td>NaN</td>\n",
       "      <td>False</td>\n",
       "      <td>37</td>\n",
       "      <td>66</td>\n",
       "      <td>NaN</td>\n",
       "    </tr>\n",
       "    <tr>\n",
       "      <th>4</th>\n",
       "      <td>Reporting Data Analyst</td>\n",
       "      <td>ABOUT FANDUEL GROUP\\n\\nFanDuel Group is a worl...</td>\n",
       "      <td>3.9</td>\n",
       "      <td>FanDuel</td>\n",
       "      <td>New York, NY</td>\n",
       "      <td>New York, NY</td>\n",
       "      <td>501 to 1000 employees</td>\n",
       "      <td>2009.0</td>\n",
       "      <td>Company - Private</td>\n",
       "      <td>Sports &amp; Recreation</td>\n",
       "      <td>Arts, Entertainment &amp; Recreation</td>\n",
       "      <td>$100 to $500 million (USD)</td>\n",
       "      <td>DraftKings</td>\n",
       "      <td>True</td>\n",
       "      <td>37</td>\n",
       "      <td>66</td>\n",
       "      <td>NaN</td>\n",
       "    </tr>\n",
       "  </tbody>\n",
       "</table>\n",
       "</div>"
      ],
      "text/plain": [
       "                                           Job Title  \\\n",
       "0   Data Analyst, Center on Immigration and Justice    \n",
       "1                               Quality Data Analyst   \n",
       "2  Senior Data Analyst, Insights & Analytics Team...   \n",
       "3                                       Data Analyst   \n",
       "4                             Reporting Data Analyst   \n",
       "\n",
       "                                     Job Description  Rating  \\\n",
       "0  Are you eager to roll up your sleeves and harn...     3.2   \n",
       "1  Overview\\n\\nProvides analytical and technical ...     3.8   \n",
       "2  We’re looking for a Senior Data Analyst who ha...     3.4   \n",
       "3  Requisition NumberRR-0001939\\nRemote:Yes\\nWe c...     4.1   \n",
       "4  ABOUT FANDUEL GROUP\\n\\nFanDuel Group is a worl...     3.9   \n",
       "\n",
       "                         Company Name      Location  Headquarters  \\\n",
       "0           Vera Institute of Justice  New York, NY  New York, NY   \n",
       "1  Visiting Nurse Service of New York  New York, NY  New York, NY   \n",
       "2                         Squarespace  New York, NY  New York, NY   \n",
       "3                            Celerity  New York, NY    McLean, VA   \n",
       "4                             FanDuel  New York, NY  New York, NY   \n",
       "\n",
       "                     Size  Founded               Type of ownership  \\\n",
       "0    201 to 500 employees   1961.0          Nonprofit Organization   \n",
       "1        10000+ employees   1893.0          Nonprofit Organization   \n",
       "2  1001 to 5000 employees   2003.0               Company - Private   \n",
       "3    201 to 500 employees   2002.0  Subsidiary or Business Segment   \n",
       "4   501 to 1000 employees   2009.0               Company - Private   \n",
       "\n",
       "                           Industry                            Sector  \\\n",
       "0                 Social Assistance                        Non-Profit   \n",
       "1  Health Care Services & Hospitals                       Health Care   \n",
       "2                          Internet            Information Technology   \n",
       "3                       IT Services            Information Technology   \n",
       "4               Sports & Recreation  Arts, Entertainment & Recreation   \n",
       "\n",
       "                      Revenue Competitors  Easy Apply  Min_Salary  Max_Salary  \\\n",
       "0  $100 to $500 million (USD)         NaN        True          37          66   \n",
       "1      $2 to $5 billion (USD)         NaN       False          37          66   \n",
       "2    Unknown / Non-Applicable     GoDaddy       False          37          66   \n",
       "3   $50 to $100 million (USD)         NaN       False          37          66   \n",
       "4  $100 to $500 million (USD)  DraftKings        True          37          66   \n",
       "\n",
       "  Department  \n",
       "0       CIJ)  \n",
       "1        NaN  \n",
       "2        NaN  \n",
       "3        NaN  \n",
       "4        NaN  "
      ]
     },
     "execution_count": 25,
     "metadata": {},
     "output_type": "execute_result"
    }
   ],
   "source": [
    "job_df.head()"
   ]
  },
  {
   "cell_type": "code",
   "execution_count": null,
   "id": "8bd18838-392c-4f22-b0c5-4ca0078c7915",
   "metadata": {},
   "outputs": [],
   "source": []
  },
  {
   "cell_type": "markdown",
   "id": "1db902ff-560c-41e6-9ce9-708b867a8c66",
   "metadata": {},
   "source": [
    "# Data Anlysis"
   ]
  },
  {
   "cell_type": "code",
   "execution_count": 4,
   "id": "bd09e73f-74bc-46ba-927f-6e7defe161fa",
   "metadata": {},
   "outputs": [
    {
     "data": {
      "text/html": [
       "<div>\n",
       "<style scoped>\n",
       "    .dataframe tbody tr th:only-of-type {\n",
       "        vertical-align: middle;\n",
       "    }\n",
       "\n",
       "    .dataframe tbody tr th {\n",
       "        vertical-align: top;\n",
       "    }\n",
       "\n",
       "    .dataframe thead th {\n",
       "        text-align: right;\n",
       "    }\n",
       "</style>\n",
       "<table border=\"1\" class=\"dataframe\">\n",
       "  <thead>\n",
       "    <tr style=\"text-align: right;\">\n",
       "      <th></th>\n",
       "      <th>count</th>\n",
       "      <th>mean</th>\n",
       "      <th>std</th>\n",
       "      <th>min</th>\n",
       "      <th>25%</th>\n",
       "      <th>50%</th>\n",
       "      <th>75%</th>\n",
       "      <th>max</th>\n",
       "    </tr>\n",
       "  </thead>\n",
       "  <tbody>\n",
       "    <tr>\n",
       "      <th>Unnamed: 0</th>\n",
       "      <td>2253.0</td>\n",
       "      <td>1126.00</td>\n",
       "      <td>650.53</td>\n",
       "      <td>0.0</td>\n",
       "      <td>563.0</td>\n",
       "      <td>1126.0</td>\n",
       "      <td>1689.0</td>\n",
       "      <td>2252.0</td>\n",
       "    </tr>\n",
       "    <tr>\n",
       "      <th>Rating</th>\n",
       "      <td>2253.0</td>\n",
       "      <td>3.16</td>\n",
       "      <td>1.67</td>\n",
       "      <td>-1.0</td>\n",
       "      <td>3.1</td>\n",
       "      <td>3.6</td>\n",
       "      <td>4.0</td>\n",
       "      <td>5.0</td>\n",
       "    </tr>\n",
       "    <tr>\n",
       "      <th>Founded</th>\n",
       "      <td>2253.0</td>\n",
       "      <td>1398.52</td>\n",
       "      <td>901.93</td>\n",
       "      <td>-1.0</td>\n",
       "      <td>-1.0</td>\n",
       "      <td>1979.0</td>\n",
       "      <td>2002.0</td>\n",
       "      <td>2019.0</td>\n",
       "    </tr>\n",
       "  </tbody>\n",
       "</table>\n",
       "</div>"
      ],
      "text/plain": [
       "             count     mean     std  min    25%     50%     75%     max\n",
       "Unnamed: 0  2253.0  1126.00  650.53  0.0  563.0  1126.0  1689.0  2252.0\n",
       "Rating      2253.0     3.16    1.67 -1.0    3.1     3.6     4.0     5.0\n",
       "Founded     2253.0  1398.52  901.93 -1.0   -1.0  1979.0  2002.0  2019.0"
      ]
     },
     "execution_count": 4,
     "metadata": {},
     "output_type": "execute_result"
    }
   ],
   "source": [
    "job_df.describe().T.round(2)"
   ]
  },
  {
   "cell_type": "code",
   "execution_count": 5,
   "id": "b69306ee-2034-412c-80f5-d9931eb594a4",
   "metadata": {},
   "outputs": [
    {
     "name": "stdout",
     "output_type": "stream",
     "text": [
      "<class 'pandas.core.frame.DataFrame'>\n",
      "RangeIndex: 2253 entries, 0 to 2252\n",
      "Data columns (total 16 columns):\n",
      " #   Column             Non-Null Count  Dtype  \n",
      "---  ------             --------------  -----  \n",
      " 0   Unnamed: 0         2253 non-null   int64  \n",
      " 1   Job Title          2253 non-null   object \n",
      " 2   Salary Estimate    2253 non-null   object \n",
      " 3   Job Description    2253 non-null   object \n",
      " 4   Rating             2253 non-null   float64\n",
      " 5   Company Name       2252 non-null   object \n",
      " 6   Location           2253 non-null   object \n",
      " 7   Headquarters       2253 non-null   object \n",
      " 8   Size               2253 non-null   object \n",
      " 9   Founded            2253 non-null   int64  \n",
      " 10  Type of ownership  2253 non-null   object \n",
      " 11  Industry           2253 non-null   object \n",
      " 12  Sector             2253 non-null   object \n",
      " 13  Revenue            2253 non-null   object \n",
      " 14  Competitors        2253 non-null   object \n",
      " 15  Easy Apply         2253 non-null   object \n",
      "dtypes: float64(1), int64(2), object(13)\n",
      "memory usage: 281.8+ KB\n"
     ]
    }
   ],
   "source": [
    "job_df.info()"
   ]
  },
  {
   "cell_type": "code",
   "execution_count": 6,
   "id": "6dbcabfa-a00f-4989-b89c-75a1b34bbc63",
   "metadata": {
    "scrolled": true,
    "tags": []
   },
   "outputs": [
    {
     "data": {
      "text/plain": [
       "90"
      ]
     },
     "execution_count": 6,
     "metadata": {},
     "output_type": "execute_result"
    }
   ],
   "source": [
    "job_df['Salary Estimate'].nunique()"
   ]
  },
  {
   "cell_type": "code",
   "execution_count": 7,
   "id": "0a8b38b1-9285-440b-807b-73d1b30ed176",
   "metadata": {},
   "outputs": [
    {
     "data": {
      "text/plain": [
       "Job Title\n",
       "Data Validation Analyst                      5.0\n",
       "Software Engineer/Data Analyst               5.0\n",
       "Data Studio Analyst                          5.0\n",
       "Data Transformation Analyst                  5.0\n",
       "QA Data Analyst                              5.0\n",
       "                                            ... \n",
       "Partner Training Data Analyst               -1.0\n",
       "Patient Recruitment Data Analyst (ArcGIS)   -1.0\n",
       "Pharmaceutical Data Analyst – Analytics     -1.0\n",
       "Power BI Data Analyst                       -1.0\n",
       "【1yr OPT+Intern】Data Analyst 保实习保就业         -1.0\n",
       "Name: Rating, Length: 1272, dtype: float64"
      ]
     },
     "execution_count": 7,
     "metadata": {},
     "output_type": "execute_result"
    }
   ],
   "source": [
    "job_df.groupby('Job Title')['Rating'].mean().sort_values(ascending=False)"
   ]
  },
  {
   "cell_type": "code",
   "execution_count": 8,
   "id": "ed60194a-42db-4f7d-861e-fe51fd137e16",
   "metadata": {},
   "outputs": [],
   "source": [
    "job_df=job_df.replace(-1,np.nan)\n",
    "job_df=job_df.replace(-1.0,np.nan)\n",
    "job_df=job_df.replace('-1',np.nan)\n",
    "job_df=job_df.replace('', np.nan)"
   ]
  },
  {
   "cell_type": "code",
   "execution_count": 9,
   "id": "88d164fa-4628-40f1-9196-67d2440222cb",
   "metadata": {},
   "outputs": [
    {
     "name": "stderr",
     "output_type": "stream",
     "text": [
      "F:\\4.yil_birinci_dnem\\Data Science\\data\\lib\\site-packages\\ipykernel_launcher.py:1: FutureWarning: Columnar iteration over characters will be deprecated in future releases.\n",
      "  \"\"\"Entry point for launching an IPython kernel.\n"
     ]
    }
   ],
   "source": [
    "job_df['Salary Estimate'], _ = job_df['Salary Estimate'].str.split('(', 1).str"
   ]
  },
  {
   "cell_type": "code",
   "execution_count": 10,
   "id": "e2cedc6d-3e4c-431f-93fb-f07a620bea6c",
   "metadata": {},
   "outputs": [
    {
     "name": "stderr",
     "output_type": "stream",
     "text": [
      "F:\\4.yil_birinci_dnem\\Data Science\\data\\lib\\site-packages\\ipykernel_launcher.py:1: FutureWarning: Columnar iteration over characters will be deprecated in future releases.\n",
      "  \"\"\"Entry point for launching an IPython kernel.\n"
     ]
    }
   ],
   "source": [
    "job_df['Min_Salary'], job_df['Max_Salary'] = job_df['Salary Estimate'].str.split('-').str"
   ]
  },
  {
   "cell_type": "code",
   "execution_count": 11,
   "id": "49827e18-28a6-4f25-a65a-862458e5ab44",
   "metadata": {},
   "outputs": [
    {
     "data": {
      "text/plain": [
       "array(['$37K', '$46K', '$51K', '$59K', '$43K', '$60K', '$41K', '$45K',\n",
       "       '$73K', '$84K', '$27K', '$42K', '$77K', '$98K', '$48K', '$26K',\n",
       "       '$31K', '$47K', '$49K', '$30K', '$55K', '$57K', '$35K', '$65K',\n",
       "       '$113K', '$67K', '$97K', '$68K', '$29K', '$74K', '$53K', '$38K',\n",
       "       '$64K', '$50K', '$76K', '$34K', '$24K', '$44K', '$110K', '$89K',\n",
       "       '$69K', '$58K', '$63K', '$40K', '$28K', '$54K', '$99K', '$93K',\n",
       "       '$82K', nan, '$32K', '$36K', '$78K'], dtype=object)"
      ]
     },
     "execution_count": 11,
     "metadata": {},
     "output_type": "execute_result"
    }
   ],
   "source": [
    "job_df.Min_Salary.unique()"
   ]
  },
  {
   "cell_type": "code",
   "execution_count": 12,
   "id": "f0eb2778-9218-4201-9b0b-7ec464e34ec8",
   "metadata": {},
   "outputs": [],
   "source": [
    "job_df['Min_Salary'] = job_df['Min_Salary'].str.strip(' ').str.lstrip('$').str.rstrip('K').fillna(0).astype('int')"
   ]
  },
  {
   "cell_type": "code",
   "execution_count": 13,
   "id": "36a20c94-4b64-4f85-95f9-3e88f96c6664",
   "metadata": {},
   "outputs": [],
   "source": [
    "job_df['Max_Salary'] = job_df['Max_Salary'].str.strip(' ').str.lstrip('$').str.rstrip('K').fillna(0).astype('int')"
   ]
  },
  {
   "cell_type": "code",
   "execution_count": 14,
   "id": "52d8811f-5d20-4024-a0dc-0569fea192a2",
   "metadata": {},
   "outputs": [
    {
     "name": "stderr",
     "output_type": "stream",
     "text": [
      "F:\\4.yil_birinci_dnem\\Data Science\\data\\lib\\site-packages\\ipykernel_launcher.py:1: FutureWarning: Indexing with multiple keys (implicitly converted to a tuple of keys) will be deprecated, use a list instead.\n",
      "  \"\"\"Entry point for launching an IPython kernel.\n"
     ]
    },
    {
     "data": {
      "text/html": [
       "<div>\n",
       "<style scoped>\n",
       "    .dataframe tbody tr th:only-of-type {\n",
       "        vertical-align: middle;\n",
       "    }\n",
       "\n",
       "    .dataframe tbody tr th {\n",
       "        vertical-align: top;\n",
       "    }\n",
       "\n",
       "    .dataframe thead th {\n",
       "        text-align: right;\n",
       "    }\n",
       "</style>\n",
       "<table border=\"1\" class=\"dataframe\">\n",
       "  <thead>\n",
       "    <tr style=\"text-align: right;\">\n",
       "      <th></th>\n",
       "      <th>Rating</th>\n",
       "      <th>Max_Salary</th>\n",
       "    </tr>\n",
       "    <tr>\n",
       "      <th>Job Title</th>\n",
       "      <th></th>\n",
       "      <th></th>\n",
       "    </tr>\n",
       "  </thead>\n",
       "  <tbody>\n",
       "    <tr>\n",
       "      <th>Data Analyst with Data Mapping and API</th>\n",
       "      <td>NaN</td>\n",
       "      <td>190.0</td>\n",
       "    </tr>\n",
       "    <tr>\n",
       "      <th>AI Insights Data Analyst</th>\n",
       "      <td>5.0</td>\n",
       "      <td>190.0</td>\n",
       "    </tr>\n",
       "    <tr>\n",
       "      <th>Data Analyst (SQL, Hive)</th>\n",
       "      <td>4.4</td>\n",
       "      <td>190.0</td>\n",
       "    </tr>\n",
       "    <tr>\n",
       "      <th>Data Analyst, Product Insights</th>\n",
       "      <td>3.3</td>\n",
       "      <td>190.0</td>\n",
       "    </tr>\n",
       "    <tr>\n",
       "      <th>Tableau Data Analyst Intern</th>\n",
       "      <td>4.0</td>\n",
       "      <td>190.0</td>\n",
       "    </tr>\n",
       "    <tr>\n",
       "      <th>Senior HR Data Analyst</th>\n",
       "      <td>4.6</td>\n",
       "      <td>190.0</td>\n",
       "    </tr>\n",
       "    <tr>\n",
       "      <th>Sr. Data Analyst - Growth &amp; Adoption</th>\n",
       "      <td>3.9</td>\n",
       "      <td>190.0</td>\n",
       "    </tr>\n",
       "    <tr>\n",
       "      <th>Data Analyst, Autonomy Operations</th>\n",
       "      <td>4.4</td>\n",
       "      <td>190.0</td>\n",
       "    </tr>\n",
       "    <tr>\n",
       "      <th>Senior Data Analyst Studio Finance Engineering</th>\n",
       "      <td>3.9</td>\n",
       "      <td>190.0</td>\n",
       "    </tr>\n",
       "    <tr>\n",
       "      <th>Data Studio Analyst</th>\n",
       "      <td>5.0</td>\n",
       "      <td>178.0</td>\n",
       "    </tr>\n",
       "  </tbody>\n",
       "</table>\n",
       "</div>"
      ],
      "text/plain": [
       "                                                Rating  Max_Salary\n",
       "Job Title                                                         \n",
       "Data Analyst with Data Mapping and API             NaN       190.0\n",
       "AI Insights Data Analyst                           5.0       190.0\n",
       "Data Analyst (SQL, Hive)                           4.4       190.0\n",
       "Data Analyst, Product Insights                     3.3       190.0\n",
       "Tableau Data Analyst Intern                        4.0       190.0\n",
       "Senior HR Data Analyst                             4.6       190.0\n",
       "Sr. Data Analyst - Growth & Adoption               3.9       190.0\n",
       "Data Analyst, Autonomy Operations                  4.4       190.0\n",
       "Senior Data Analyst Studio Finance Engineering     3.9       190.0\n",
       "Data Studio Analyst                                5.0       178.0"
      ]
     },
     "execution_count": 14,
     "metadata": {},
     "output_type": "execute_result"
    }
   ],
   "source": [
    "job_df.groupby('Job Title')['Rating','Max_Salary'].mean().sort_values(by='Max_Salary', ascending=False).head(10)"
   ]
  },
  {
   "cell_type": "code",
   "execution_count": 15,
   "id": "c4d74c51-26d1-4bad-9d79-c8d89d63e3e1",
   "metadata": {},
   "outputs": [],
   "source": [
    "job_df.drop('Unnamed: 0', axis=1, inplace=True)"
   ]
  },
  {
   "cell_type": "code",
   "execution_count": 16,
   "id": "c9e0208d-6290-4c41-b1da-aac18c5f1629",
   "metadata": {},
   "outputs": [],
   "source": [
    "job_df.drop('Salary Estimate', axis=1, inplace=True)"
   ]
  },
  {
   "cell_type": "code",
   "execution_count": 17,
   "id": "928716f8-9347-43b1-9d6a-12931f1bdacf",
   "metadata": {},
   "outputs": [
    {
     "name": "stderr",
     "output_type": "stream",
     "text": [
      "F:\\4.yil_birinci_dnem\\Data Science\\data\\lib\\site-packages\\ipykernel_launcher.py:1: FutureWarning: Columnar iteration over characters will be deprecated in future releases.\n",
      "  \"\"\"Entry point for launching an IPython kernel.\n"
     ]
    }
   ],
   "source": [
    "job_df['Job Title'], job_df['Department'] = job_df['Job Title'].str.split('(', 1).str"
   ]
  },
  {
   "cell_type": "code",
   "execution_count": 18,
   "id": "070a0c82-e4c0-47db-9dbc-b56ce9a046ea",
   "metadata": {},
   "outputs": [
    {
     "name": "stderr",
     "output_type": "stream",
     "text": [
      "F:\\4.yil_birinci_dnem\\Data Science\\data\\lib\\site-packages\\ipykernel_launcher.py:1: FutureWarning: Columnar iteration over characters will be deprecated in future releases.\n",
      "  \"\"\"Entry point for launching an IPython kernel.\n"
     ]
    }
   ],
   "source": [
    "job_df['Company Name'], _ = job_df['Company Name'].str.split('\\n', 1).str"
   ]
  },
  {
   "cell_type": "code",
   "execution_count": 24,
   "id": "3a4362ce-acf8-4a27-8828-9ec3b7d8d5df",
   "metadata": {},
   "outputs": [],
   "source": [
    "job_df['Easy Apply'] = job_df['Easy Apply'].fillna(False).astype('bool')"
   ]
  },
  {
   "cell_type": "code",
   "execution_count": 27,
   "id": "82e9d6fb-ab3d-4cc4-a548-23ec2cb3bf48",
   "metadata": {},
   "outputs": [],
   "source": [
    "easy_apply_df = job_df[job_df['Easy Apply'] == True]"
   ]
  },
  {
   "cell_type": "code",
   "execution_count": 34,
   "id": "a762beec-3a6f-4853-a4fe-f1376a6ea186",
   "metadata": {},
   "outputs": [],
   "source": [
    "df = easy_apply_df.groupby('Company Name')['Easy Apply'].count().reset_index()\n",
    "company_opening_df = df.sort_values(by='Easy Apply', ascending=False).head(10)"
   ]
  },
  {
   "cell_type": "code",
   "execution_count": 41,
   "id": "0f1abfbd-ec92-423b-9031-9dd42cac8d4b",
   "metadata": {},
   "outputs": [
    {
     "data": {
      "image/png": "[encoded data removed]",
      "text/plain": [
       "<Figure size 1200x600 with 1 Axes>"
      ]
     },
     "metadata": {},
     "output_type": "display_data"
    }
   ],
   "source": [
    "plt.figure(figsize=(12, 6))\n",
    "chart = sns.barplot(data=company_opening_df, x='Company Name', y='Easy Apply', palette='Set1')\n",
    "chart = chart.set_xticklabels(\n",
    "        chart.get_xticklabels(),\n",
    "        rotation=65,\n",
    "        horizontalalignment='right',\n",
    "        fontweight\n",
    ")"
   ]
  },
  {
   "cell_type": "code",
   "execution_count": null,
   "id": "6290a866-a922-4c9f-acbe-e9ec221fcc83",
   "metadata": {},
   "outputs": [],
   "source": []
  },
  {
   "cell_type": "code",
   "execution_count": null,
   "id": "69c5962c-9323-4214-a198-cbfa43674bec",
   "metadata": {},
   "outputs": [],
   "source": []
  },
  {
   "cell_type": "code",
   "execution_count": null,
   "id": "577bbc83-dfb6-4419-afba-b985c33a9638",
   "metadata": {},
   "outputs": [],
   "source": []
  },
  {
   "cell_type": "markdown",
   "id": "e9506363-7ba5-4f28-a2ea-6ae031c0dca5",
   "metadata": {},
   "source": [
    "## Missed Value"
   ]
  },
  {
   "cell_type": "code",
   "execution_count": null,
   "id": "7614a0c9-64b2-44ca-865d-5a4e9d1e630e",
   "metadata": {},
   "outputs": [],
   "source": []
  },
  {
   "cell_type": "code",
   "execution_count": null,
   "id": "c5e4f89a-789f-4201-b72a-4c4bf7f62b74",
   "metadata": {},
   "outputs": [],
   "source": []
  },
  {
   "cell_type": "code",
   "execution_count": null,
   "id": "b0a828c2-5d84-44da-9d97-fa04dbd451b6",
   "metadata": {},
   "outputs": [],
   "source": []
  },
  {
   "cell_type": "code",
   "execution_count": null,
   "id": "eb7a4252-81a4-47c6-81d8-30d556c0f4fd",
   "metadata": {},
   "outputs": [],
   "source": []
  },
  {
   "cell_type": "code",
   "execution_count": null,
   "id": "884448f1-b930-473c-91c7-a8afa51cc8da",
   "metadata": {},
   "outputs": [],
   "source": []
  },
  {
   "cell_type": "code",
   "execution_count": null,
   "id": "c15ab26c-b7d7-455e-bee2-d51cf13dc214",
   "metadata": {},
   "outputs": [],
   "source": []
  }
 ],
 "metadata": {
  "kernelspec": {
   "display_name": "dataScience",
   "language": "python",
   "name": "datascience"
  },
  "language_info": {
   "codemirror_mode": {
    "name": "ipython",
    "version": 3
   },
   "file_extension": ".py",
   "mimetype": "text/x-python",
   "name": "python",
   "nbconvert_exporter": "python",
   "pygments_lexer": "ipython3",
   "version": "3.7.9"
  }
 },
 "nbformat": 4,
 "nbformat_minor": 5
}
