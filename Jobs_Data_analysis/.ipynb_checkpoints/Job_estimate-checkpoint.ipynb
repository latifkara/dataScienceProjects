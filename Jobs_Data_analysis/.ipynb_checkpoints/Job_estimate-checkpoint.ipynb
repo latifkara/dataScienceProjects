{
 "cells": [
  {
   "cell_type": "markdown",
   "id": "f8348385-5715-478b-b7a4-bd7fa4c24645",
   "metadata": {},
   "source": [
    "# Import Libraries"
   ]
  },
  {
   "cell_type": "code",
   "execution_count": 59,
   "id": "d880a695-f9b7-4b10-8157-7d8b6b8d4abc",
   "metadata": {},
   "outputs": [],
   "source": [
    "import numpy as np\n",
    "import pandas as pd\n",
    "import seaborn as sns\n",
    "import matplotlib.pyplot as plt\n",
    "from sklearn.preprocessing import LabelEncoder\n",
    "import plotly.graph_objects as go\n",
    "%matplotlib inline"
   ]
  },
  {
   "cell_type": "code",
   "execution_count": null,
   "id": "dc76b8e6-4911-41fd-a523-3294262efd86",
   "metadata": {},
   "outputs": [],
   "source": []
  },
  {
   "cell_type": "markdown",
   "id": "9705aa01-f9b1-48c6-af0b-e52c573d2645",
   "metadata": {},
   "source": [
    "# Read Data"
   ]
  },
  {
   "cell_type": "code",
   "execution_count": 2,
   "id": "179459d0-5a99-4826-ada1-fd6e7e81f3d3",
   "metadata": {},
   "outputs": [],
   "source": [
    "job_df = pd.read_csv('datasets/DataAnalyst.csv')"
   ]
  },
  {
   "cell_type": "code",
   "execution_count": 25,
   "id": "9e5ce4a0-2f73-44a7-b7cc-048f96f9ac65",
   "metadata": {},
   "outputs": [
    {
     "data": {
      "text/html": [
       "<div>\n",
       "<style scoped>\n",
       "    .dataframe tbody tr th:only-of-type {\n",
       "        vertical-align: middle;\n",
       "    }\n",
       "\n",
       "    .dataframe tbody tr th {\n",
       "        vertical-align: top;\n",
       "    }\n",
       "\n",
       "    .dataframe thead th {\n",
       "        text-align: right;\n",
       "    }\n",
       "</style>\n",
       "<table border=\"1\" class=\"dataframe\">\n",
       "  <thead>\n",
       "    <tr style=\"text-align: right;\">\n",
       "      <th></th>\n",
       "      <th>Job Title</th>\n",
       "      <th>Job Description</th>\n",
       "      <th>Rating</th>\n",
       "      <th>Company Name</th>\n",
       "      <th>Location</th>\n",
       "      <th>Headquarters</th>\n",
       "      <th>Size</th>\n",
       "      <th>Founded</th>\n",
       "      <th>Type of ownership</th>\n",
       "      <th>Industry</th>\n",
       "      <th>Sector</th>\n",
       "      <th>Revenue</th>\n",
       "      <th>Competitors</th>\n",
       "      <th>Easy Apply</th>\n",
       "      <th>Min_Salary</th>\n",
       "      <th>Max_Salary</th>\n",
       "      <th>Department</th>\n",
       "    </tr>\n",
       "  </thead>\n",
       "  <tbody>\n",
       "    <tr>\n",
       "      <th>0</th>\n",
       "      <td>Data Analyst, Center on Immigration and Justice</td>\n",
       "      <td>Are you eager to roll up your sleeves and harn...</td>\n",
       "      <td>3.2</td>\n",
       "      <td>Vera Institute of Justice</td>\n",
       "      <td>New York, NY</td>\n",
       "      <td>New York, NY</td>\n",
       "      <td>201 to 500 employees</td>\n",
       "      <td>1961.0</td>\n",
       "      <td>Nonprofit Organization</td>\n",
       "      <td>Social Assistance</td>\n",
       "      <td>Non-Profit</td>\n",
       "      <td>$100 to $500 million (USD)</td>\n",
       "      <td>NaN</td>\n",
       "      <td>True</td>\n",
       "      <td>37</td>\n",
       "      <td>66</td>\n",
       "      <td>CIJ)</td>\n",
       "    </tr>\n",
       "    <tr>\n",
       "      <th>1</th>\n",
       "      <td>Quality Data Analyst</td>\n",
       "      <td>Overview\\n\\nProvides analytical and technical ...</td>\n",
       "      <td>3.8</td>\n",
       "      <td>Visiting Nurse Service of New York</td>\n",
       "      <td>New York, NY</td>\n",
       "      <td>New York, NY</td>\n",
       "      <td>10000+ employees</td>\n",
       "      <td>1893.0</td>\n",
       "      <td>Nonprofit Organization</td>\n",
       "      <td>Health Care Services &amp; Hospitals</td>\n",
       "      <td>Health Care</td>\n",
       "      <td>$2 to $5 billion (USD)</td>\n",
       "      <td>NaN</td>\n",
       "      <td>False</td>\n",
       "      <td>37</td>\n",
       "      <td>66</td>\n",
       "      <td>NaN</td>\n",
       "    </tr>\n",
       "    <tr>\n",
       "      <th>2</th>\n",
       "      <td>Senior Data Analyst, Insights &amp; Analytics Team...</td>\n",
       "      <td>We’re looking for a Senior Data Analyst who ha...</td>\n",
       "      <td>3.4</td>\n",
       "      <td>Squarespace</td>\n",
       "      <td>New York, NY</td>\n",
       "      <td>New York, NY</td>\n",
       "      <td>1001 to 5000 employees</td>\n",
       "      <td>2003.0</td>\n",
       "      <td>Company - Private</td>\n",
       "      <td>Internet</td>\n",
       "      <td>Information Technology</td>\n",
       "      <td>Unknown / Non-Applicable</td>\n",
       "      <td>GoDaddy</td>\n",
       "      <td>False</td>\n",
       "      <td>37</td>\n",
       "      <td>66</td>\n",
       "      <td>NaN</td>\n",
       "    </tr>\n",
       "    <tr>\n",
       "      <th>3</th>\n",
       "      <td>Data Analyst</td>\n",
       "      <td>Requisition NumberRR-0001939\\nRemote:Yes\\nWe c...</td>\n",
       "      <td>4.1</td>\n",
       "      <td>Celerity</td>\n",
       "      <td>New York, NY</td>\n",
       "      <td>McLean, VA</td>\n",
       "      <td>201 to 500 employees</td>\n",
       "      <td>2002.0</td>\n",
       "      <td>Subsidiary or Business Segment</td>\n",
       "      <td>IT Services</td>\n",
       "      <td>Information Technology</td>\n",
       "      <td>$50 to $100 million (USD)</td>\n",
       "      <td>NaN</td>\n",
       "      <td>False</td>\n",
       "      <td>37</td>\n",
       "      <td>66</td>\n",
       "      <td>NaN</td>\n",
       "    </tr>\n",
       "    <tr>\n",
       "      <th>4</th>\n",
       "      <td>Reporting Data Analyst</td>\n",
       "      <td>ABOUT FANDUEL GROUP\\n\\nFanDuel Group is a worl...</td>\n",
       "      <td>3.9</td>\n",
       "      <td>FanDuel</td>\n",
       "      <td>New York, NY</td>\n",
       "      <td>New York, NY</td>\n",
       "      <td>501 to 1000 employees</td>\n",
       "      <td>2009.0</td>\n",
       "      <td>Company - Private</td>\n",
       "      <td>Sports &amp; Recreation</td>\n",
       "      <td>Arts, Entertainment &amp; Recreation</td>\n",
       "      <td>$100 to $500 million (USD)</td>\n",
       "      <td>DraftKings</td>\n",
       "      <td>True</td>\n",
       "      <td>37</td>\n",
       "      <td>66</td>\n",
       "      <td>NaN</td>\n",
       "    </tr>\n",
       "  </tbody>\n",
       "</table>\n",
       "</div>"
      ],
      "text/plain": [
       "                                           Job Title  \\\n",
       "0   Data Analyst, Center on Immigration and Justice    \n",
       "1                               Quality Data Analyst   \n",
       "2  Senior Data Analyst, Insights & Analytics Team...   \n",
       "3                                       Data Analyst   \n",
       "4                             Reporting Data Analyst   \n",
       "\n",
       "                                     Job Description  Rating  \\\n",
       "0  Are you eager to roll up your sleeves and harn...     3.2   \n",
       "1  Overview\\n\\nProvides analytical and technical ...     3.8   \n",
       "2  We’re looking for a Senior Data Analyst who ha...     3.4   \n",
       "3  Requisition NumberRR-0001939\\nRemote:Yes\\nWe c...     4.1   \n",
       "4  ABOUT FANDUEL GROUP\\n\\nFanDuel Group is a worl...     3.9   \n",
       "\n",
       "                         Company Name      Location  Headquarters  \\\n",
       "0           Vera Institute of Justice  New York, NY  New York, NY   \n",
       "1  Visiting Nurse Service of New York  New York, NY  New York, NY   \n",
       "2                         Squarespace  New York, NY  New York, NY   \n",
       "3                            Celerity  New York, NY    McLean, VA   \n",
       "4                             FanDuel  New York, NY  New York, NY   \n",
       "\n",
       "                     Size  Founded               Type of ownership  \\\n",
       "0    201 to 500 employees   1961.0          Nonprofit Organization   \n",
       "1        10000+ employees   1893.0          Nonprofit Organization   \n",
       "2  1001 to 5000 employees   2003.0               Company - Private   \n",
       "3    201 to 500 employees   2002.0  Subsidiary or Business Segment   \n",
       "4   501 to 1000 employees   2009.0               Company - Private   \n",
       "\n",
       "                           Industry                            Sector  \\\n",
       "0                 Social Assistance                        Non-Profit   \n",
       "1  Health Care Services & Hospitals                       Health Care   \n",
       "2                          Internet            Information Technology   \n",
       "3                       IT Services            Information Technology   \n",
       "4               Sports & Recreation  Arts, Entertainment & Recreation   \n",
       "\n",
       "                      Revenue Competitors  Easy Apply  Min_Salary  Max_Salary  \\\n",
       "0  $100 to $500 million (USD)         NaN        True          37          66   \n",
       "1      $2 to $5 billion (USD)         NaN       False          37          66   \n",
       "2    Unknown / Non-Applicable     GoDaddy       False          37          66   \n",
       "3   $50 to $100 million (USD)         NaN       False          37          66   \n",
       "4  $100 to $500 million (USD)  DraftKings        True          37          66   \n",
       "\n",
       "  Department  \n",
       "0       CIJ)  \n",
       "1        NaN  \n",
       "2        NaN  \n",
       "3        NaN  \n",
       "4        NaN  "
      ]
     },
     "execution_count": 25,
     "metadata": {},
     "output_type": "execute_result"
    }
   ],
   "source": [
    "job_df.head()"
   ]
  },
  {
   "cell_type": "code",
   "execution_count": null,
   "id": "8bd18838-392c-4f22-b0c5-4ca0078c7915",
   "metadata": {},
   "outputs": [],
   "source": []
  },
  {
   "cell_type": "markdown",
   "id": "1db902ff-560c-41e6-9ce9-708b867a8c66",
   "metadata": {},
   "source": [
    "# Data Anlysis"
   ]
  },
  {
   "cell_type": "code",
   "execution_count": 4,
   "id": "bd09e73f-74bc-46ba-927f-6e7defe161fa",
   "metadata": {},
   "outputs": [
    {
     "data": {
      "text/html": [
       "<div>\n",
       "<style scoped>\n",
       "    .dataframe tbody tr th:only-of-type {\n",
       "        vertical-align: middle;\n",
       "    }\n",
       "\n",
       "    .dataframe tbody tr th {\n",
       "        vertical-align: top;\n",
       "    }\n",
       "\n",
       "    .dataframe thead th {\n",
       "        text-align: right;\n",
       "    }\n",
       "</style>\n",
       "<table border=\"1\" class=\"dataframe\">\n",
       "  <thead>\n",
       "    <tr style=\"text-align: right;\">\n",
       "      <th></th>\n",
       "      <th>count</th>\n",
       "      <th>mean</th>\n",
       "      <th>std</th>\n",
       "      <th>min</th>\n",
       "      <th>25%</th>\n",
       "      <th>50%</th>\n",
       "      <th>75%</th>\n",
       "      <th>max</th>\n",
       "    </tr>\n",
       "  </thead>\n",
       "  <tbody>\n",
       "    <tr>\n",
       "      <th>Unnamed: 0</th>\n",
       "      <td>2253.0</td>\n",
       "      <td>1126.00</td>\n",
       "      <td>650.53</td>\n",
       "      <td>0.0</td>\n",
       "      <td>563.0</td>\n",
       "      <td>1126.0</td>\n",
       "      <td>1689.0</td>\n",
       "      <td>2252.0</td>\n",
       "    </tr>\n",
       "    <tr>\n",
       "      <th>Rating</th>\n",
       "      <td>2253.0</td>\n",
       "      <td>3.16</td>\n",
       "      <td>1.67</td>\n",
       "      <td>-1.0</td>\n",
       "      <td>3.1</td>\n",
       "      <td>3.6</td>\n",
       "      <td>4.0</td>\n",
       "      <td>5.0</td>\n",
       "    </tr>\n",
       "    <tr>\n",
       "      <th>Founded</th>\n",
       "      <td>2253.0</td>\n",
       "      <td>1398.52</td>\n",
       "      <td>901.93</td>\n",
       "      <td>-1.0</td>\n",
       "      <td>-1.0</td>\n",
       "      <td>1979.0</td>\n",
       "      <td>2002.0</td>\n",
       "      <td>2019.0</td>\n",
       "    </tr>\n",
       "  </tbody>\n",
       "</table>\n",
       "</div>"
      ],
      "text/plain": [
       "             count     mean     std  min    25%     50%     75%     max\n",
       "Unnamed: 0  2253.0  1126.00  650.53  0.0  563.0  1126.0  1689.0  2252.0\n",
       "Rating      2253.0     3.16    1.67 -1.0    3.1     3.6     4.0     5.0\n",
       "Founded     2253.0  1398.52  901.93 -1.0   -1.0  1979.0  2002.0  2019.0"
      ]
     },
     "execution_count": 4,
     "metadata": {},
     "output_type": "execute_result"
    }
   ],
   "source": [
    "job_df.describe().T.round(2)"
   ]
  },
  {
   "cell_type": "code",
   "execution_count": 5,
   "id": "b69306ee-2034-412c-80f5-d9931eb594a4",
   "metadata": {},
   "outputs": [
    {
     "name": "stdout",
     "output_type": "stream",
     "text": [
      "<class 'pandas.core.frame.DataFrame'>\n",
      "RangeIndex: 2253 entries, 0 to 2252\n",
      "Data columns (total 16 columns):\n",
      " #   Column             Non-Null Count  Dtype  \n",
      "---  ------             --------------  -----  \n",
      " 0   Unnamed: 0         2253 non-null   int64  \n",
      " 1   Job Title          2253 non-null   object \n",
      " 2   Salary Estimate    2253 non-null   object \n",
      " 3   Job Description    2253 non-null   object \n",
      " 4   Rating             2253 non-null   float64\n",
      " 5   Company Name       2252 non-null   object \n",
      " 6   Location           2253 non-null   object \n",
      " 7   Headquarters       2253 non-null   object \n",
      " 8   Size               2253 non-null   object \n",
      " 9   Founded            2253 non-null   int64  \n",
      " 10  Type of ownership  2253 non-null   object \n",
      " 11  Industry           2253 non-null   object \n",
      " 12  Sector             2253 non-null   object \n",
      " 13  Revenue            2253 non-null   object \n",
      " 14  Competitors        2253 non-null   object \n",
      " 15  Easy Apply         2253 non-null   object \n",
      "dtypes: float64(1), int64(2), object(13)\n",
      "memory usage: 281.8+ KB\n"
     ]
    }
   ],
   "source": [
    "job_df.info()"
   ]
  },
  {
   "cell_type": "code",
   "execution_count": 6,
   "id": "6dbcabfa-a00f-4989-b89c-75a1b34bbc63",
   "metadata": {
    "scrolled": true,
    "tags": []
   },
   "outputs": [
    {
     "data": {
      "text/plain": [
       "90"
      ]
     },
     "execution_count": 6,
     "metadata": {},
     "output_type": "execute_result"
    }
   ],
   "source": [
    "job_df['Salary Estimate'].nunique()"
   ]
  },
  {
   "cell_type": "code",
   "execution_count": 7,
   "id": "0a8b38b1-9285-440b-807b-73d1b30ed176",
   "metadata": {},
   "outputs": [
    {
     "data": {
      "text/plain": [
       "Job Title\n",
       "Data Validation Analyst                      5.0\n",
       "Software Engineer/Data Analyst               5.0\n",
       "Data Studio Analyst                          5.0\n",
       "Data Transformation Analyst                  5.0\n",
       "QA Data Analyst                              5.0\n",
       "                                            ... \n",
       "Partner Training Data Analyst               -1.0\n",
       "Patient Recruitment Data Analyst (ArcGIS)   -1.0\n",
       "Pharmaceutical Data Analyst – Analytics     -1.0\n",
       "Power BI Data Analyst                       -1.0\n",
       "【1yr OPT+Intern】Data Analyst 保实习保就业         -1.0\n",
       "Name: Rating, Length: 1272, dtype: float64"
      ]
     },
     "execution_count": 7,
     "metadata": {},
     "output_type": "execute_result"
    }
   ],
   "source": [
    "job_df.groupby('Job Title')['Rating'].mean().sort_values(ascending=False)"
   ]
  },
  {
   "cell_type": "code",
   "execution_count": 8,
   "id": "ed60194a-42db-4f7d-861e-fe51fd137e16",
   "metadata": {},
   "outputs": [],
   "source": [
    "job_df=job_df.replace(-1,np.nan)\n",
    "job_df=job_df.replace(-1.0,np.nan)\n",
    "job_df=job_df.replace('-1',np.nan)\n",
    "job_df=job_df.replace('', np.nan)"
   ]
  },
  {
   "cell_type": "code",
   "execution_count": 9,
   "id": "88d164fa-4628-40f1-9196-67d2440222cb",
   "metadata": {},
   "outputs": [
    {
     "name": "stderr",
     "output_type": "stream",
     "text": [
      "F:\\4.yil_birinci_dnem\\Data Science\\data\\lib\\site-packages\\ipykernel_launcher.py:1: FutureWarning: Columnar iteration over characters will be deprecated in future releases.\n",
      "  \"\"\"Entry point for launching an IPython kernel.\n"
     ]
    }
   ],
   "source": [
    "job_df['Salary Estimate'], _ = job_df['Salary Estimate'].str.split('(', 1).str"
   ]
  },
  {
   "cell_type": "code",
   "execution_count": 10,
   "id": "e2cedc6d-3e4c-431f-93fb-f07a620bea6c",
   "metadata": {},
   "outputs": [
    {
     "name": "stderr",
     "output_type": "stream",
     "text": [
      "F:\\4.yil_birinci_dnem\\Data Science\\data\\lib\\site-packages\\ipykernel_launcher.py:1: FutureWarning: Columnar iteration over characters will be deprecated in future releases.\n",
      "  \"\"\"Entry point for launching an IPython kernel.\n"
     ]
    }
   ],
   "source": [
    "job_df['Min_Salary'], job_df['Max_Salary'] = job_df['Salary Estimate'].str.split('-').str"
   ]
  },
  {
   "cell_type": "code",
   "execution_count": 11,
   "id": "49827e18-28a6-4f25-a65a-862458e5ab44",
   "metadata": {},
   "outputs": [
    {
     "data": {
      "text/plain": [
       "array(['$37K', '$46K', '$51K', '$59K', '$43K', '$60K', '$41K', '$45K',\n",
       "       '$73K', '$84K', '$27K', '$42K', '$77K', '$98K', '$48K', '$26K',\n",
       "       '$31K', '$47K', '$49K', '$30K', '$55K', '$57K', '$35K', '$65K',\n",
       "       '$113K', '$67K', '$97K', '$68K', '$29K', '$74K', '$53K', '$38K',\n",
       "       '$64K', '$50K', '$76K', '$34K', '$24K', '$44K', '$110K', '$89K',\n",
       "       '$69K', '$58K', '$63K', '$40K', '$28K', '$54K', '$99K', '$93K',\n",
       "       '$82K', nan, '$32K', '$36K', '$78K'], dtype=object)"
      ]
     },
     "execution_count": 11,
     "metadata": {},
     "output_type": "execute_result"
    }
   ],
   "source": [
    "job_df.Min_Salary.unique()"
   ]
  },
  {
   "cell_type": "code",
   "execution_count": 12,
   "id": "f0eb2778-9218-4201-9b0b-7ec464e34ec8",
   "metadata": {},
   "outputs": [],
   "source": [
    "job_df['Min_Salary'] = job_df['Min_Salary'].str.strip(' ').str.lstrip('$').str.rstrip('K').fillna(0).astype('int')"
   ]
  },
  {
   "cell_type": "code",
   "execution_count": 13,
   "id": "36a20c94-4b64-4f85-95f9-3e88f96c6664",
   "metadata": {},
   "outputs": [],
   "source": [
    "job_df['Max_Salary'] = job_df['Max_Salary'].str.strip(' ').str.lstrip('$').str.rstrip('K').fillna(0).astype('int')"
   ]
  },
  {
   "cell_type": "code",
   "execution_count": 14,
   "id": "52d8811f-5d20-4024-a0dc-0569fea192a2",
   "metadata": {},
   "outputs": [
    {
     "name": "stderr",
     "output_type": "stream",
     "text": [
      "F:\\4.yil_birinci_dnem\\Data Science\\data\\lib\\site-packages\\ipykernel_launcher.py:1: FutureWarning: Indexing with multiple keys (implicitly converted to a tuple of keys) will be deprecated, use a list instead.\n",
      "  \"\"\"Entry point for launching an IPython kernel.\n"
     ]
    },
    {
     "data": {
      "text/html": [
       "<div>\n",
       "<style scoped>\n",
       "    .dataframe tbody tr th:only-of-type {\n",
       "        vertical-align: middle;\n",
       "    }\n",
       "\n",
       "    .dataframe tbody tr th {\n",
       "        vertical-align: top;\n",
       "    }\n",
       "\n",
       "    .dataframe thead th {\n",
       "        text-align: right;\n",
       "    }\n",
       "</style>\n",
       "<table border=\"1\" class=\"dataframe\">\n",
       "  <thead>\n",
       "    <tr style=\"text-align: right;\">\n",
       "      <th></th>\n",
       "      <th>Rating</th>\n",
       "      <th>Max_Salary</th>\n",
       "    </tr>\n",
       "    <tr>\n",
       "      <th>Job Title</th>\n",
       "      <th></th>\n",
       "      <th></th>\n",
       "    </tr>\n",
       "  </thead>\n",
       "  <tbody>\n",
       "    <tr>\n",
       "      <th>Data Analyst with Data Mapping and API</th>\n",
       "      <td>NaN</td>\n",
       "      <td>190.0</td>\n",
       "    </tr>\n",
       "    <tr>\n",
       "      <th>AI Insights Data Analyst</th>\n",
       "      <td>5.0</td>\n",
       "      <td>190.0</td>\n",
       "    </tr>\n",
       "    <tr>\n",
       "      <th>Data Analyst (SQL, Hive)</th>\n",
       "      <td>4.4</td>\n",
       "      <td>190.0</td>\n",
       "    </tr>\n",
       "    <tr>\n",
       "      <th>Data Analyst, Product Insights</th>\n",
       "      <td>3.3</td>\n",
       "      <td>190.0</td>\n",
       "    </tr>\n",
       "    <tr>\n",
       "      <th>Tableau Data Analyst Intern</th>\n",
       "      <td>4.0</td>\n",
       "      <td>190.0</td>\n",
       "    </tr>\n",
       "    <tr>\n",
       "      <th>Senior HR Data Analyst</th>\n",
       "      <td>4.6</td>\n",
       "      <td>190.0</td>\n",
       "    </tr>\n",
       "    <tr>\n",
       "      <th>Sr. Data Analyst - Growth &amp; Adoption</th>\n",
       "      <td>3.9</td>\n",
       "      <td>190.0</td>\n",
       "    </tr>\n",
       "    <tr>\n",
       "      <th>Data Analyst, Autonomy Operations</th>\n",
       "      <td>4.4</td>\n",
       "      <td>190.0</td>\n",
       "    </tr>\n",
       "    <tr>\n",
       "      <th>Senior Data Analyst Studio Finance Engineering</th>\n",
       "      <td>3.9</td>\n",
       "      <td>190.0</td>\n",
       "    </tr>\n",
       "    <tr>\n",
       "      <th>Data Studio Analyst</th>\n",
       "      <td>5.0</td>\n",
       "      <td>178.0</td>\n",
       "    </tr>\n",
       "  </tbody>\n",
       "</table>\n",
       "</div>"
      ],
      "text/plain": [
       "                                                Rating  Max_Salary\n",
       "Job Title                                                         \n",
       "Data Analyst with Data Mapping and API             NaN       190.0\n",
       "AI Insights Data Analyst                           5.0       190.0\n",
       "Data Analyst (SQL, Hive)                           4.4       190.0\n",
       "Data Analyst, Product Insights                     3.3       190.0\n",
       "Tableau Data Analyst Intern                        4.0       190.0\n",
       "Senior HR Data Analyst                             4.6       190.0\n",
       "Sr. Data Analyst - Growth & Adoption               3.9       190.0\n",
       "Data Analyst, Autonomy Operations                  4.4       190.0\n",
       "Senior Data Analyst Studio Finance Engineering     3.9       190.0\n",
       "Data Studio Analyst                                5.0       178.0"
      ]
     },
     "execution_count": 14,
     "metadata": {},
     "output_type": "execute_result"
    }
   ],
   "source": [
    "job_df.groupby('Job Title')['Rating','Max_Salary'].mean().sort_values(by='Max_Salary', ascending=False).head(10)"
   ]
  },
  {
   "cell_type": "code",
   "execution_count": 15,
   "id": "c4d74c51-26d1-4bad-9d79-c8d89d63e3e1",
   "metadata": {},
   "outputs": [],
   "source": [
    "job_df.drop('Unnamed: 0', axis=1, inplace=True)"
   ]
  },
  {
   "cell_type": "code",
   "execution_count": 16,
   "id": "c9e0208d-6290-4c41-b1da-aac18c5f1629",
   "metadata": {},
   "outputs": [],
   "source": [
    "job_df.drop('Salary Estimate', axis=1, inplace=True)"
   ]
  },
  {
   "cell_type": "code",
   "execution_count": 17,
   "id": "928716f8-9347-43b1-9d6a-12931f1bdacf",
   "metadata": {},
   "outputs": [
    {
     "name": "stderr",
     "output_type": "stream",
     "text": [
      "F:\\4.yil_birinci_dnem\\Data Science\\data\\lib\\site-packages\\ipykernel_launcher.py:1: FutureWarning: Columnar iteration over characters will be deprecated in future releases.\n",
      "  \"\"\"Entry point for launching an IPython kernel.\n"
     ]
    }
   ],
   "source": [
    "job_df['Job Title'], job_df['Department'] = job_df['Job Title'].str.split('(', 1).str"
   ]
  },
  {
   "cell_type": "code",
   "execution_count": 18,
   "id": "070a0c82-e4c0-47db-9dbc-b56ce9a046ea",
   "metadata": {},
   "outputs": [
    {
     "name": "stderr",
     "output_type": "stream",
     "text": [
      "F:\\4.yil_birinci_dnem\\Data Science\\data\\lib\\site-packages\\ipykernel_launcher.py:1: FutureWarning: Columnar iteration over characters will be deprecated in future releases.\n",
      "  \"\"\"Entry point for launching an IPython kernel.\n"
     ]
    }
   ],
   "source": [
    "job_df['Company Name'], _ = job_df['Company Name'].str.split('\\n', 1).str"
   ]
  },
  {
   "cell_type": "code",
   "execution_count": 24,
   "id": "3a4362ce-acf8-4a27-8828-9ec3b7d8d5df",
   "metadata": {},
   "outputs": [],
   "source": [
    "job_df['Easy Apply'] = job_df['Easy Apply'].fillna(False).astype('bool')"
   ]
  },
  {
   "cell_type": "code",
   "execution_count": 27,
   "id": "82e9d6fb-ab3d-4cc4-a548-23ec2cb3bf48",
   "metadata": {},
   "outputs": [],
   "source": [
    "easy_apply_df = job_df[job_df['Easy Apply'] == True]"
   ]
  },
  {
   "cell_type": "code",
   "execution_count": 34,
   "id": "a762beec-3a6f-4853-a4fe-f1376a6ea186",
   "metadata": {},
   "outputs": [],
   "source": [
    "df = easy_apply_df.groupby('Company Name')['Easy Apply'].count().reset_index()\n",
    "company_opening_df = df.sort_values(by='Easy Apply', ascending=False).head(10)"
   ]
  },
  {
   "cell_type": "code",
   "execution_count": 43,
   "id": "0f1abfbd-ec92-423b-9031-9dd42cac8d4b",
   "metadata": {},
   "outputs": [
    {
     "data": {
      "image/png": "[encoded data removed]",
      "text/plain": [
       "<Figure size 1000x500 with 1 Axes>"
      ]
     },
     "metadata": {},
     "output_type": "display_data"
    }
   ],
   "source": [
    "plt.figure(figsize=(10, 5))\n",
    "chart = sns.barplot(data=company_opening_df, x='Company Name', y='Easy Apply', palette='Set1')\n",
    "chart = chart.set_xticklabels(\n",
    "        chart.get_xticklabels(),\n",
    "        rotation=65,\n",
    "        horizontalalignment='right',\n",
    "        fontweight='light'\n",
    ")"
   ]
  },
  {
   "cell_type": "code",
   "execution_count": 45,
   "id": "6290a866-a922-4c9f-acbe-e9ec221fcc83",
   "metadata": {},
   "outputs": [
    {
     "data": {
      "text/html": [
       "<div>\n",
       "<style scoped>\n",
       "    .dataframe tbody tr th:only-of-type {\n",
       "        vertical-align: middle;\n",
       "    }\n",
       "\n",
       "    .dataframe tbody tr th {\n",
       "        vertical-align: top;\n",
       "    }\n",
       "\n",
       "    .dataframe thead th {\n",
       "        text-align: right;\n",
       "    }\n",
       "</style>\n",
       "<table border=\"1\" class=\"dataframe\">\n",
       "  <thead>\n",
       "    <tr style=\"text-align: right;\">\n",
       "      <th></th>\n",
       "      <th>Job Title</th>\n",
       "      <th>Job Description</th>\n",
       "      <th>Rating</th>\n",
       "      <th>Company Name</th>\n",
       "      <th>Location</th>\n",
       "      <th>Headquarters</th>\n",
       "      <th>Size</th>\n",
       "      <th>Founded</th>\n",
       "      <th>Type of ownership</th>\n",
       "      <th>Industry</th>\n",
       "      <th>Sector</th>\n",
       "      <th>Revenue</th>\n",
       "      <th>Competitors</th>\n",
       "      <th>Easy Apply</th>\n",
       "      <th>Min_Salary</th>\n",
       "      <th>Max_Salary</th>\n",
       "      <th>Department</th>\n",
       "    </tr>\n",
       "  </thead>\n",
       "  <tbody>\n",
       "    <tr>\n",
       "      <th>3</th>\n",
       "      <td>Data Analyst</td>\n",
       "      <td>Requisition NumberRR-0001939\\nRemote:Yes\\nWe c...</td>\n",
       "      <td>4.1</td>\n",
       "      <td>Celerity</td>\n",
       "      <td>New York, NY</td>\n",
       "      <td>McLean, VA</td>\n",
       "      <td>201 to 500 employees</td>\n",
       "      <td>2002.0</td>\n",
       "      <td>Subsidiary or Business Segment</td>\n",
       "      <td>IT Services</td>\n",
       "      <td>Information Technology</td>\n",
       "      <td>$50 to $100 million (USD)</td>\n",
       "      <td>NaN</td>\n",
       "      <td>False</td>\n",
       "      <td>37</td>\n",
       "      <td>66</td>\n",
       "      <td>NaN</td>\n",
       "    </tr>\n",
       "    <tr>\n",
       "      <th>5</th>\n",
       "      <td>Data Analyst</td>\n",
       "      <td>About Cubist\\nCubist Systematic Strategies is ...</td>\n",
       "      <td>3.9</td>\n",
       "      <td>Point72</td>\n",
       "      <td>New York, NY</td>\n",
       "      <td>Stamford, CT</td>\n",
       "      <td>1001 to 5000 employees</td>\n",
       "      <td>2014.0</td>\n",
       "      <td>Company - Private</td>\n",
       "      <td>Investment Banking &amp; Asset Management</td>\n",
       "      <td>Finance</td>\n",
       "      <td>Unknown / Non-Applicable</td>\n",
       "      <td>NaN</td>\n",
       "      <td>False</td>\n",
       "      <td>37</td>\n",
       "      <td>66</td>\n",
       "      <td>NaN</td>\n",
       "    </tr>\n",
       "    <tr>\n",
       "      <th>8</th>\n",
       "      <td>Data Analyst</td>\n",
       "      <td>The Data Analyst is an integral member of the ...</td>\n",
       "      <td>4.0</td>\n",
       "      <td>DMGT</td>\n",
       "      <td>New York, NY</td>\n",
       "      <td>London, United Kingdom</td>\n",
       "      <td>5001 to 10000 employees</td>\n",
       "      <td>1896.0</td>\n",
       "      <td>Company - Public</td>\n",
       "      <td>Venture Capital &amp; Private Equity</td>\n",
       "      <td>Finance</td>\n",
       "      <td>$1 to $2 billion (USD)</td>\n",
       "      <td>Thomson Reuters, Hearst, Pearson</td>\n",
       "      <td>False</td>\n",
       "      <td>37</td>\n",
       "      <td>66</td>\n",
       "      <td>NaN</td>\n",
       "    </tr>\n",
       "    <tr>\n",
       "      <th>10</th>\n",
       "      <td>Data Analyst</td>\n",
       "      <td>NYU Grossman School of Medicine is one of the ...</td>\n",
       "      <td>4.0</td>\n",
       "      <td>NYU Langone Health</td>\n",
       "      <td>New York, NY</td>\n",
       "      <td>New York, NY</td>\n",
       "      <td>10000+ employees</td>\n",
       "      <td>1841.0</td>\n",
       "      <td>Hospital</td>\n",
       "      <td>Health Care Services &amp; Hospitals</td>\n",
       "      <td>Health Care</td>\n",
       "      <td>$5 to $10 billion (USD)</td>\n",
       "      <td>NewYork-Presbyterian Hospital, Northwell Health</td>\n",
       "      <td>False</td>\n",
       "      <td>37</td>\n",
       "      <td>66</td>\n",
       "      <td>NaN</td>\n",
       "    </tr>\n",
       "    <tr>\n",
       "      <th>11</th>\n",
       "      <td>Data Analyst</td>\n",
       "      <td>BulbHead is currently seeking a Data Analyst t...</td>\n",
       "      <td>NaN</td>\n",
       "      <td>BulbHead</td>\n",
       "      <td>Fairfield, NJ</td>\n",
       "      <td>NaN</td>\n",
       "      <td>1 to 50 employees</td>\n",
       "      <td>NaN</td>\n",
       "      <td>Company - Private</td>\n",
       "      <td>NaN</td>\n",
       "      <td>NaN</td>\n",
       "      <td>Unknown / Non-Applicable</td>\n",
       "      <td>NaN</td>\n",
       "      <td>False</td>\n",
       "      <td>37</td>\n",
       "      <td>66</td>\n",
       "      <td>NaN</td>\n",
       "    </tr>\n",
       "    <tr>\n",
       "      <th>...</th>\n",
       "      <td>...</td>\n",
       "      <td>...</td>\n",
       "      <td>...</td>\n",
       "      <td>...</td>\n",
       "      <td>...</td>\n",
       "      <td>...</td>\n",
       "      <td>...</td>\n",
       "      <td>...</td>\n",
       "      <td>...</td>\n",
       "      <td>...</td>\n",
       "      <td>...</td>\n",
       "      <td>...</td>\n",
       "      <td>...</td>\n",
       "      <td>...</td>\n",
       "      <td>...</td>\n",
       "      <td>...</td>\n",
       "      <td>...</td>\n",
       "    </tr>\n",
       "    <tr>\n",
       "      <th>2193</th>\n",
       "      <td>Data Analyst</td>\n",
       "      <td>RESPONSIBILITIES:\\n\\nKforce has a client in se...</td>\n",
       "      <td>4.1</td>\n",
       "      <td>Kforce</td>\n",
       "      <td>Denver, CO</td>\n",
       "      <td>Tampa, FL</td>\n",
       "      <td>10000+ employees</td>\n",
       "      <td>1966.0</td>\n",
       "      <td>Company - Public</td>\n",
       "      <td>Staffing &amp; Outsourcing</td>\n",
       "      <td>Business Services</td>\n",
       "      <td>$1 to $2 billion (USD)</td>\n",
       "      <td>NaN</td>\n",
       "      <td>False</td>\n",
       "      <td>49</td>\n",
       "      <td>91</td>\n",
       "      <td>NaN</td>\n",
       "    </tr>\n",
       "    <tr>\n",
       "      <th>2197</th>\n",
       "      <td>Data Analyst</td>\n",
       "      <td>Job Description\\nVoca Technology has immediate...</td>\n",
       "      <td>4.7</td>\n",
       "      <td>Voca</td>\n",
       "      <td>Centennial, CO</td>\n",
       "      <td>Rochester, MN</td>\n",
       "      <td>201 to 500 employees</td>\n",
       "      <td>2005.0</td>\n",
       "      <td>Company - Private</td>\n",
       "      <td>Staffing &amp; Outsourcing</td>\n",
       "      <td>Business Services</td>\n",
       "      <td>Unknown / Non-Applicable</td>\n",
       "      <td>Randstad, Kelly</td>\n",
       "      <td>False</td>\n",
       "      <td>49</td>\n",
       "      <td>91</td>\n",
       "      <td>NaN</td>\n",
       "    </tr>\n",
       "    <tr>\n",
       "      <th>2200</th>\n",
       "      <td>Data Analyst</td>\n",
       "      <td>Role Data Analyst Duration12+ months Location ...</td>\n",
       "      <td>NaN</td>\n",
       "      <td>TechAspect Solutions, Inc. dba TA Digital</td>\n",
       "      <td>Centennial, CO</td>\n",
       "      <td>NaN</td>\n",
       "      <td>NaN</td>\n",
       "      <td>NaN</td>\n",
       "      <td>NaN</td>\n",
       "      <td>NaN</td>\n",
       "      <td>NaN</td>\n",
       "      <td>NaN</td>\n",
       "      <td>NaN</td>\n",
       "      <td>False</td>\n",
       "      <td>49</td>\n",
       "      <td>91</td>\n",
       "      <td>NaN</td>\n",
       "    </tr>\n",
       "    <tr>\n",
       "      <th>2203</th>\n",
       "      <td>Data Analyst</td>\n",
       "      <td>Company Description\\n\\nClientSolv Technologies...</td>\n",
       "      <td>3.3</td>\n",
       "      <td>ClientSolv Technologies</td>\n",
       "      <td>Broomfield, CO</td>\n",
       "      <td>Greenwood Village, CO</td>\n",
       "      <td>51 to 200 employees</td>\n",
       "      <td>1994.0</td>\n",
       "      <td>Company - Private</td>\n",
       "      <td>IT Services</td>\n",
       "      <td>Information Technology</td>\n",
       "      <td>$10 to $25 million (USD)</td>\n",
       "      <td>NaN</td>\n",
       "      <td>False</td>\n",
       "      <td>49</td>\n",
       "      <td>91</td>\n",
       "      <td>NaN</td>\n",
       "    </tr>\n",
       "    <tr>\n",
       "      <th>2207</th>\n",
       "      <td>Data Analyst</td>\n",
       "      <td>We are looking for data analysts, data wrangle...</td>\n",
       "      <td>5.0</td>\n",
       "      <td>xentity corporation</td>\n",
       "      <td>Denver, CO</td>\n",
       "      <td>Lakewood, CO</td>\n",
       "      <td>51 to 200 employees</td>\n",
       "      <td>2001.0</td>\n",
       "      <td>Company - Private</td>\n",
       "      <td>IT Services</td>\n",
       "      <td>Information Technology</td>\n",
       "      <td>$5 to $10 million (USD)</td>\n",
       "      <td>NaN</td>\n",
       "      <td>False</td>\n",
       "      <td>49</td>\n",
       "      <td>91</td>\n",
       "      <td>NaN</td>\n",
       "    </tr>\n",
       "  </tbody>\n",
       "</table>\n",
       "<p>405 rows × 17 columns</p>\n",
       "</div>"
      ],
      "text/plain": [
       "         Job Title                                    Job Description  Rating  \\\n",
       "3     Data Analyst  Requisition NumberRR-0001939\\nRemote:Yes\\nWe c...     4.1   \n",
       "5     Data Analyst  About Cubist\\nCubist Systematic Strategies is ...     3.9   \n",
       "8     Data Analyst  The Data Analyst is an integral member of the ...     4.0   \n",
       "10    Data Analyst  NYU Grossman School of Medicine is one of the ...     4.0   \n",
       "11    Data Analyst  BulbHead is currently seeking a Data Analyst t...     NaN   \n",
       "...            ...                                                ...     ...   \n",
       "2193  Data Analyst  RESPONSIBILITIES:\\n\\nKforce has a client in se...     4.1   \n",
       "2197  Data Analyst  Job Description\\nVoca Technology has immediate...     4.7   \n",
       "2200  Data Analyst  Role Data Analyst Duration12+ months Location ...     NaN   \n",
       "2203  Data Analyst  Company Description\\n\\nClientSolv Technologies...     3.3   \n",
       "2207  Data Analyst  We are looking for data analysts, data wrangle...     5.0   \n",
       "\n",
       "                                   Company Name        Location  \\\n",
       "3                                      Celerity    New York, NY   \n",
       "5                                       Point72    New York, NY   \n",
       "8                                          DMGT    New York, NY   \n",
       "10                           NYU Langone Health    New York, NY   \n",
       "11                                     BulbHead   Fairfield, NJ   \n",
       "...                                         ...             ...   \n",
       "2193                                     Kforce      Denver, CO   \n",
       "2197                                       Voca  Centennial, CO   \n",
       "2200  TechAspect Solutions, Inc. dba TA Digital  Centennial, CO   \n",
       "2203                    ClientSolv Technologies  Broomfield, CO   \n",
       "2207                        xentity corporation      Denver, CO   \n",
       "\n",
       "                Headquarters                     Size  Founded  \\\n",
       "3                 McLean, VA     201 to 500 employees   2002.0   \n",
       "5               Stamford, CT   1001 to 5000 employees   2014.0   \n",
       "8     London, United Kingdom  5001 to 10000 employees   1896.0   \n",
       "10              New York, NY         10000+ employees   1841.0   \n",
       "11                       NaN        1 to 50 employees      NaN   \n",
       "...                      ...                      ...      ...   \n",
       "2193               Tampa, FL         10000+ employees   1966.0   \n",
       "2197           Rochester, MN     201 to 500 employees   2005.0   \n",
       "2200                     NaN                      NaN      NaN   \n",
       "2203   Greenwood Village, CO      51 to 200 employees   1994.0   \n",
       "2207            Lakewood, CO      51 to 200 employees   2001.0   \n",
       "\n",
       "                   Type of ownership                               Industry  \\\n",
       "3     Subsidiary or Business Segment                            IT Services   \n",
       "5                  Company - Private  Investment Banking & Asset Management   \n",
       "8                   Company - Public       Venture Capital & Private Equity   \n",
       "10                          Hospital       Health Care Services & Hospitals   \n",
       "11                 Company - Private                                    NaN   \n",
       "...                              ...                                    ...   \n",
       "2193                Company - Public                 Staffing & Outsourcing   \n",
       "2197               Company - Private                 Staffing & Outsourcing   \n",
       "2200                             NaN                                    NaN   \n",
       "2203               Company - Private                            IT Services   \n",
       "2207               Company - Private                            IT Services   \n",
       "\n",
       "                      Sector                    Revenue  \\\n",
       "3     Information Technology  $50 to $100 million (USD)   \n",
       "5                    Finance   Unknown / Non-Applicable   \n",
       "8                    Finance     $1 to $2 billion (USD)   \n",
       "10               Health Care    $5 to $10 billion (USD)   \n",
       "11                       NaN   Unknown / Non-Applicable   \n",
       "...                      ...                        ...   \n",
       "2193       Business Services     $1 to $2 billion (USD)   \n",
       "2197       Business Services   Unknown / Non-Applicable   \n",
       "2200                     NaN                        NaN   \n",
       "2203  Information Technology   $10 to $25 million (USD)   \n",
       "2207  Information Technology    $5 to $10 million (USD)   \n",
       "\n",
       "                                          Competitors  Easy Apply  Min_Salary  \\\n",
       "3                                                 NaN       False          37   \n",
       "5                                                 NaN       False          37   \n",
       "8                    Thomson Reuters, Hearst, Pearson       False          37   \n",
       "10    NewYork-Presbyterian Hospital, Northwell Health       False          37   \n",
       "11                                                NaN       False          37   \n",
       "...                                               ...         ...         ...   \n",
       "2193                                              NaN       False          49   \n",
       "2197                                  Randstad, Kelly       False          49   \n",
       "2200                                              NaN       False          49   \n",
       "2203                                              NaN       False          49   \n",
       "2207                                              NaN       False          49   \n",
       "\n",
       "      Max_Salary Department  \n",
       "3             66        NaN  \n",
       "5             66        NaN  \n",
       "8             66        NaN  \n",
       "10            66        NaN  \n",
       "11            66        NaN  \n",
       "...          ...        ...  \n",
       "2193          91        NaN  \n",
       "2197          91        NaN  \n",
       "2200          91        NaN  \n",
       "2203          91        NaN  \n",
       "2207          91        NaN  \n",
       "\n",
       "[405 rows x 17 columns]"
      ]
     },
     "execution_count": 45,
     "metadata": {},
     "output_type": "execute_result"
    }
   ],
   "source": [
    "job_df[job_df['Job Title'] == 'Data Analyst']"
   ]
  },
  {
   "cell_type": "code",
   "execution_count": 54,
   "id": "69c5962c-9323-4214-a198-cbfa43674bec",
   "metadata": {},
   "outputs": [
    {
     "name": "stderr",
     "output_type": "stream",
     "text": [
      "F:\\4.yil_birinci_dnem\\Data Science\\data\\lib\\site-packages\\ipykernel_launcher.py:4: UserWarning: \n",
      "\n",
      "`distplot` is a deprecated function and will be removed in seaborn v0.14.0.\n",
      "\n",
      "Please adapt your code to use either `displot` (a figure-level function with\n",
      "similar flexibility) or `histplot` (an axes-level function for histograms).\n",
      "\n",
      "For a guide to updating your code to use the new functions, please see\n",
      "https://gist.github.com/mwaskom/de44147ed2974457ad6372750bbe5751\n",
      "\n",
      "  after removing the cwd from sys.path.\n",
      "F:\\4.yil_birinci_dnem\\Data Science\\data\\lib\\site-packages\\ipykernel_launcher.py:5: UserWarning: \n",
      "\n",
      "`distplot` is a deprecated function and will be removed in seaborn v0.14.0.\n",
      "\n",
      "Please adapt your code to use either `displot` (a figure-level function with\n",
      "similar flexibility) or `histplot` (an axes-level function for histograms).\n",
      "\n",
      "For a guide to updating your code to use the new functions, please see\n",
      "https://gist.github.com/mwaskom/de44147ed2974457ad6372750bbe5751\n",
      "\n",
      "  \"\"\"\n"
     ]
    },
    {
     "data": {
      "image/png": "[encoded data removed]",
      "text/plain": [
       "<Figure size 1500x800 with 2 Axes>"
      ]
     },
     "metadata": {},
     "output_type": "display_data"
    }
   ],
   "source": [
    "sns.set(style='white', palette='muted', color_codes=True)\n",
    "f, axes = plt.subplots(1, 2, figsize=(15, 8), sharex=True)\n",
    "sns.despine(left=True)\n",
    "sns.distplot(job_df['Min_Salary'], color='b', ax=axes[0])\n",
    "sns.distplot(job_df['Max_Salary'], color='r', ax=axes[1])\n",
    "plt.setp(axes, yticks=[])\n",
    "plt.tight_layout()"
   ]
  },
  {
   "cell_type": "code",
   "execution_count": 58,
   "id": "63820034-5ca9-4b53-acdc-6766dc0ff068",
   "metadata": {},
   "outputs": [
    {
     "name": "stderr",
     "output_type": "stream",
     "text": [
      "F:\\4.yil_birinci_dnem\\Data Science\\data\\lib\\site-packages\\ipykernel_launcher.py:1: FutureWarning: Indexing with multiple keys (implicitly converted to a tuple of keys) will be deprecated, use a list instead.\n",
      "  \"\"\"Entry point for launching an IPython kernel.\n"
     ]
    }
   ],
   "source": [
    "df =  job_df.groupby('Location')['Min_Salary', 'Max_Salary'].mean().sort_values(['Min_Salary', 'Max_Salary'], ascending=False).head(20)"
   ]
  },
  {
   "cell_type": "code",
   "execution_count": 62,
   "id": "58fe90e3-f7f4-4628-89bb-0c5dc1b1f3ad",
   "metadata": {},
   "outputs": [
    {
     "data": {
      "application/vnd.plotly.v1+json": {
       "config": {
        "plotlyServerURL": "https://plot.ly"
       },
       "data": [
        {
         "name": "Minimum Salary",
         "type": "bar",
         "x": [
          [
           113,
           132
          ],
          [
           113,
           132
          ],
          [
           110,
           190
          ],
          [
           98,
           114
          ],
          [
           98,
           114
          ],
          [
           98,
           114
          ],
          [
           97,
           129
          ],
          [
           97,
           129
          ],
          [
           97,
           129
          ],
          [
           97,
           129
          ],
          [
           97,
           115
          ],
          [
           93,
           159
          ],
          [
           93,
           159
          ],
          [
           89.33333333333333,
           156
          ],
          [
           89.33333333333333,
           110
          ],
          [
           87.5,
           123
          ],
          [
           84,
           117.5
          ],
          [
           84,
           90
          ],
          [
           82,
           149
          ],
          [
           82,
           116
          ]
         ],
         "y": [
          113,
          113,
          110,
          98,
          98,
          98,
          97,
          97,
          97,
          97,
          97,
          93,
          93,
          89.33333333333333,
          89.33333333333333,
          87.5,
          84,
          84,
          82,
          82
         ]
        },
        {
         "name": "Maximum Salary",
         "type": "bar",
         "x": [
          [
           113,
           132
          ],
          [
           113,
           132
          ],
          [
           110,
           190
          ],
          [
           98,
           114
          ],
          [
           98,
           114
          ],
          [
           98,
           114
          ],
          [
           97,
           129
          ],
          [
           97,
           129
          ],
          [
           97,
           129
          ],
          [
           97,
           129
          ],
          [
           97,
           115
          ],
          [
           93,
           159
          ],
          [
           93,
           159
          ],
          [
           89.33333333333333,
           156
          ],
          [
           89.33333333333333,
           110
          ],
          [
           87.5,
           123
          ],
          [
           84,
           117.5
          ],
          [
           84,
           90
          ],
          [
           82,
           149
          ],
          [
           82,
           116
          ]
         ],
         "y": [
          132,
          132,
          190,
          114,
          114,
          114,
          129,
          129,
          129,
          129,
          115,
          159,
          159,
          156,
          110,
          123,
          117.5,
          90,
          149,
          116
         ]
        }
       ],
       "layout": {
        "barmode": "stack",
        "template": {
         "data": {
          "bar": [
           {
            "error_x": {
             "color": "#2a3f5f"
            },
            "error_y": {
             "color": "#2a3f5f"
            },
            "marker": {
             "line": {
              "color": "#E5ECF6",
              "width": 0.5
             },
             "pattern": {
              "fillmode": "overlay",
              "size": 10,
              "solidity": 0.2
             }
            },
            "type": "bar"
           }
          ],
          "barpolar": [
           {
            "marker": {
             "line": {
              "color": "#E5ECF6",
              "width": 0.5
             },
             "pattern": {
              "fillmode": "overlay",
              "size": 10,
              "solidity": 0.2
             }
            },
            "type": "barpolar"
           }
          ],
          "carpet": [
           {
            "aaxis": {
             "endlinecolor": "#2a3f5f",
             "gridcolor": "white",
             "linecolor": "white",
             "minorgridcolor": "white",
             "startlinecolor": "#2a3f5f"
            },
            "baxis": {
             "endlinecolor": "#2a3f5f",
             "gridcolor": "white",
             "linecolor": "white",
             "minorgridcolor": "white",
             "startlinecolor": "#2a3f5f"
            },
            "type": "carpet"
           }
          ],
          "choropleth": [
           {
            "colorbar": {
             "outlinewidth": 0,
             "ticks": ""
            },
            "type": "choropleth"
           }
          ],
          "contour": [
           {
            "colorbar": {
             "outlinewidth": 0,
             "ticks": ""
            },
            "colorscale": [
             [
              0,
              "#0d0887"
             ],
             [
              0.1111111111111111,
              "#46039f"
             ],
             [
              0.2222222222222222,
              "#7201a8"
             ],
             [
              0.3333333333333333,
              "#9c179e"
             ],
             [
              0.4444444444444444,
              "#bd3786"
             ],
             [
              0.5555555555555556,
              "#d8576b"
             ],
             [
              0.6666666666666666,
              "#ed7953"
             ],
             [
              0.7777777777777778,
              "#fb9f3a"
             ],
             [
              0.8888888888888888,
              "#fdca26"
             ],
             [
              1,
              "#f0f921"
             ]
            ],
            "type": "contour"
           }
          ],
          "contourcarpet": [
           {
            "colorbar": {
             "outlinewidth": 0,
             "ticks": ""
            },
            "type": "contourcarpet"
           }
          ],
          "heatmap": [
           {
            "colorbar": {
             "outlinewidth": 0,
             "ticks": ""
            },
            "colorscale": [
             [
              0,
              "#0d0887"
             ],
             [
              0.1111111111111111,
              "#46039f"
             ],
             [
              0.2222222222222222,
              "#7201a8"
             ],
             [
              0.3333333333333333,
              "#9c179e"
             ],
             [
              0.4444444444444444,
              "#bd3786"
             ],
             [
              0.5555555555555556,
              "#d8576b"
             ],
             [
              0.6666666666666666,
              "#ed7953"
             ],
             [
              0.7777777777777778,
              "#fb9f3a"
             ],
             [
              0.8888888888888888,
              "#fdca26"
             ],
             [
              1,
              "#f0f921"
             ]
            ],
            "type": "heatmap"
           }
          ],
          "heatmapgl": [
           {
            "colorbar": {
             "outlinewidth": 0,
             "ticks": ""
            },
            "colorscale": [
             [
              0,
              "#0d0887"
             ],
             [
              0.1111111111111111,
              "#46039f"
             ],
             [
              0.2222222222222222,
              "#7201a8"
             ],
             [
              0.3333333333333333,
              "#9c179e"
             ],
             [
              0.4444444444444444,
              "#bd3786"
             ],
             [
              0.5555555555555556,
              "#d8576b"
             ],
             [
              0.6666666666666666,
              "#ed7953"
             ],
             [
              0.7777777777777778,
              "#fb9f3a"
             ],
             [
              0.8888888888888888,
              "#fdca26"
             ],
             [
              1,
              "#f0f921"
             ]
            ],
            "type": "heatmapgl"
           }
          ],
          "histogram": [
           {
            "marker": {
             "pattern": {
              "fillmode": "overlay",
              "size": 10,
              "solidity": 0.2
             }
            },
            "type": "histogram"
           }
          ],
          "histogram2d": [
           {
            "colorbar": {
             "outlinewidth": 0,
             "ticks": ""
            },
            "colorscale": [
             [
              0,
              "#0d0887"
             ],
             [
              0.1111111111111111,
              "#46039f"
             ],
             [
              0.2222222222222222,
              "#7201a8"
             ],
             [
              0.3333333333333333,
              "#9c179e"
             ],
             [
              0.4444444444444444,
              "#bd3786"
             ],
             [
              0.5555555555555556,
              "#d8576b"
             ],
             [
              0.6666666666666666,
              "#ed7953"
             ],
             [
              0.7777777777777778,
              "#fb9f3a"
             ],
             [
              0.8888888888888888,
              "#fdca26"
             ],
             [
              1,
              "#f0f921"
             ]
            ],
            "type": "histogram2d"
           }
          ],
          "histogram2dcontour": [
           {
            "colorbar": {
             "outlinewidth": 0,
             "ticks": ""
            },
            "colorscale": [
             [
              0,
              "#0d0887"
             ],
             [
              0.1111111111111111,
              "#46039f"
             ],
             [
              0.2222222222222222,
              "#7201a8"
             ],
             [
              0.3333333333333333,
              "#9c179e"
             ],
             [
              0.4444444444444444,
              "#bd3786"
             ],
             [
              0.5555555555555556,
              "#d8576b"
             ],
             [
              0.6666666666666666,
              "#ed7953"
             ],
             [
              0.7777777777777778,
              "#fb9f3a"
             ],
             [
              0.8888888888888888,
              "#fdca26"
             ],
             [
              1,
              "#f0f921"
             ]
            ],
            "type": "histogram2dcontour"
           }
          ],
          "mesh3d": [
           {
            "colorbar": {
             "outlinewidth": 0,
             "ticks": ""
            },
            "type": "mesh3d"
           }
          ],
          "parcoords": [
           {
            "line": {
             "colorbar": {
              "outlinewidth": 0,
              "ticks": ""
             }
            },
            "type": "parcoords"
           }
          ],
          "pie": [
           {
            "automargin": true,
            "type": "pie"
           }
          ],
          "scatter": [
           {
            "fillpattern": {
             "fillmode": "overlay",
             "size": 10,
             "solidity": 0.2
            },
            "type": "scatter"
           }
          ],
          "scatter3d": [
           {
            "line": {
             "colorbar": {
              "outlinewidth": 0,
              "ticks": ""
             }
            },
            "marker": {
             "colorbar": {
              "outlinewidth": 0,
              "ticks": ""
             }
            },
            "type": "scatter3d"
           }
          ],
          "scattercarpet": [
           {
            "marker": {
             "colorbar": {
              "outlinewidth": 0,
              "ticks": ""
             }
            },
            "type": "scattercarpet"
           }
          ],
          "scattergeo": [
           {
            "marker": {
             "colorbar": {
              "outlinewidth": 0,
              "ticks": ""
             }
            },
            "type": "scattergeo"
           }
          ],
          "scattergl": [
           {
            "marker": {
             "colorbar": {
              "outlinewidth": 0,
              "ticks": ""
             }
            },
            "type": "scattergl"
           }
          ],
          "scattermapbox": [
           {
            "marker": {
             "colorbar": {
              "outlinewidth": 0,
              "ticks": ""
             }
            },
            "type": "scattermapbox"
           }
          ],
          "scatterpolar": [
           {
            "marker": {
             "colorbar": {
              "outlinewidth": 0,
              "ticks": ""
             }
            },
            "type": "scatterpolar"
           }
          ],
          "scatterpolargl": [
           {
            "marker": {
             "colorbar": {
              "outlinewidth": 0,
              "ticks": ""
             }
            },
            "type": "scatterpolargl"
           }
          ],
          "scatterternary": [
           {
            "marker": {
             "colorbar": {
              "outlinewidth": 0,
              "ticks": ""
             }
            },
            "type": "scatterternary"
           }
          ],
          "surface": [
           {
            "colorbar": {
             "outlinewidth": 0,
             "ticks": ""
            },
            "colorscale": [
             [
              0,
              "#0d0887"
             ],
             [
              0.1111111111111111,
              "#46039f"
             ],
             [
              0.2222222222222222,
              "#7201a8"
             ],
             [
              0.3333333333333333,
              "#9c179e"
             ],
             [
              0.4444444444444444,
              "#bd3786"
             ],
             [
              0.5555555555555556,
              "#d8576b"
             ],
             [
              0.6666666666666666,
              "#ed7953"
             ],
             [
              0.7777777777777778,
              "#fb9f3a"
             ],
             [
              0.8888888888888888,
              "#fdca26"
             ],
             [
              1,
              "#f0f921"
             ]
            ],
            "type": "surface"
           }
          ],
          "table": [
           {
            "cells": {
             "fill": {
              "color": "#EBF0F8"
             },
             "line": {
              "color": "white"
             }
            },
            "header": {
             "fill": {
              "color": "#C8D4E3"
             },
             "line": {
              "color": "white"
             }
            },
            "type": "table"
           }
          ]
         },
         "layout": {
          "annotationdefaults": {
           "arrowcolor": "#2a3f5f",
           "arrowhead": 0,
           "arrowwidth": 1
          },
          "autotypenumbers": "strict",
          "coloraxis": {
           "colorbar": {
            "outlinewidth": 0,
            "ticks": ""
           }
          },
          "colorscale": {
           "diverging": [
            [
             0,
             "#8e0152"
            ],
            [
             0.1,
             "#c51b7d"
            ],
            [
             0.2,
             "#de77ae"
            ],
            [
             0.3,
             "#f1b6da"
            ],
            [
             0.4,
             "#fde0ef"
            ],
            [
             0.5,
             "#f7f7f7"
            ],
            [
             0.6,
             "#e6f5d0"
            ],
            [
             0.7,
             "#b8e186"
            ],
            [
             0.8,
             "#7fbc41"
            ],
            [
             0.9,
             "#4d9221"
            ],
            [
             1,
             "#276419"
            ]
           ],
           "sequential": [
            [
             0,
             "#0d0887"
            ],
            [
             0.1111111111111111,
             "#46039f"
            ],
            [
             0.2222222222222222,
             "#7201a8"
            ],
            [
             0.3333333333333333,
             "#9c179e"
            ],
            [
             0.4444444444444444,
             "#bd3786"
            ],
            [
             0.5555555555555556,
             "#d8576b"
            ],
            [
             0.6666666666666666,
             "#ed7953"
            ],
            [
             0.7777777777777778,
             "#fb9f3a"
            ],
            [
             0.8888888888888888,
             "#fdca26"
            ],
            [
             1,
             "#f0f921"
            ]
           ],
           "sequentialminus": [
            [
             0,
             "#0d0887"
            ],
            [
             0.1111111111111111,
             "#46039f"
            ],
            [
             0.2222222222222222,
             "#7201a8"
            ],
            [
             0.3333333333333333,
             "#9c179e"
            ],
            [
             0.4444444444444444,
             "#bd3786"
            ],
            [
             0.5555555555555556,
             "#d8576b"
            ],
            [
             0.6666666666666666,
             "#ed7953"
            ],
            [
             0.7777777777777778,
             "#fb9f3a"
            ],
            [
             0.8888888888888888,
             "#fdca26"
            ],
            [
             1,
             "#f0f921"
            ]
           ]
          },
          "colorway": [
           "#636efa",
           "#EF553B",
           "#00cc96",
           "#ab63fa",
           "#FFA15A",
           "#19d3f3",
           "#FF6692",
           "#B6E880",
           "#FF97FF",
           "#FECB52"
          ],
          "font": {
           "color": "#2a3f5f"
          },
          "geo": {
           "bgcolor": "white",
           "lakecolor": "white",
           "landcolor": "#E5ECF6",
           "showlakes": true,
           "showland": true,
           "subunitcolor": "white"
          },
          "hoverlabel": {
           "align": "left"
          },
          "hovermode": "closest",
          "mapbox": {
           "style": "light"
          },
          "paper_bgcolor": "white",
          "plot_bgcolor": "#E5ECF6",
          "polar": {
           "angularaxis": {
            "gridcolor": "white",
            "linecolor": "white",
            "ticks": ""
           },
           "bgcolor": "#E5ECF6",
           "radialaxis": {
            "gridcolor": "white",
            "linecolor": "white",
            "ticks": ""
           }
          },
          "scene": {
           "xaxis": {
            "backgroundcolor": "#E5ECF6",
            "gridcolor": "white",
            "gridwidth": 2,
            "linecolor": "white",
            "showbackground": true,
            "ticks": "",
            "zerolinecolor": "white"
           },
           "yaxis": {
            "backgroundcolor": "#E5ECF6",
            "gridcolor": "white",
            "gridwidth": 2,
            "linecolor": "white",
            "showbackground": true,
            "ticks": "",
            "zerolinecolor": "white"
           },
           "zaxis": {
            "backgroundcolor": "#E5ECF6",
            "gridcolor": "white",
            "gridwidth": 2,
            "linecolor": "white",
            "showbackground": true,
            "ticks": "",
            "zerolinecolor": "white"
           }
          },
          "shapedefaults": {
           "line": {
            "color": "#2a3f5f"
           }
          },
          "ternary": {
           "aaxis": {
            "gridcolor": "white",
            "linecolor": "white",
            "ticks": ""
           },
           "baxis": {
            "gridcolor": "white",
            "linecolor": "white",
            "ticks": ""
           },
           "bgcolor": "#E5ECF6",
           "caxis": {
            "gridcolor": "white",
            "linecolor": "white",
            "ticks": ""
           }
          },
          "title": {
           "x": 0.05
          },
          "xaxis": {
           "automargin": true,
           "gridcolor": "white",
           "linecolor": "white",
           "ticks": "",
           "title": {
            "standoff": 15
           },
           "zerolinecolor": "white",
           "zerolinewidth": 2
          },
          "yaxis": {
           "automargin": true,
           "gridcolor": "white",
           "linecolor": "white",
           "ticks": "",
           "title": {
            "standoff": 15
           },
           "zerolinecolor": "white",
           "zerolinewidth": 2
          }
         }
        },
        "title": {
         "text": "Top 20 cities with their minimum and maximum salaries"
        }
       }
      },
      "text/html": [
       "<div>                            <div id=\"134151ec-9fd7-48cc-a2ac-c697c9e7d780\" class=\"plotly-graph-div\" style=\"height:525px; width:100%;\"></div>            <script type=\"text/javascript\">                require([\"plotly\"], function(Plotly) {                    window.PLOTLYENV=window.PLOTLYENV || {};                                    if (document.getElementById(\"134151ec-9fd7-48cc-a2ac-c697c9e7d780\")) {                    Plotly.newPlot(                        \"134151ec-9fd7-48cc-a2ac-c697c9e7d780\",                        [{\"name\":\"Minimum Salary\",\"x\":[[113.0,132.0],[113.0,132.0],[110.0,190.0],[98.0,114.0],[98.0,114.0],[98.0,114.0],[97.0,129.0],[97.0,129.0],[97.0,129.0],[97.0,129.0],[97.0,115.0],[93.0,159.0],[93.0,159.0],[89.33333333333333,156.0],[89.33333333333333,110.0],[87.5,123.0],[84.0,117.5],[84.0,90.0],[82.0,149.0],[82.0,116.0]],\"y\":[113.0,113.0,110.0,98.0,98.0,98.0,97.0,97.0,97.0,97.0,97.0,93.0,93.0,89.33333333333333,89.33333333333333,87.5,84.0,84.0,82.0,82.0],\"type\":\"bar\"},{\"name\":\"Maximum Salary\",\"x\":[[113.0,132.0],[113.0,132.0],[110.0,190.0],[98.0,114.0],[98.0,114.0],[98.0,114.0],[97.0,129.0],[97.0,129.0],[97.0,129.0],[97.0,129.0],[97.0,115.0],[93.0,159.0],[93.0,159.0],[89.33333333333333,156.0],[89.33333333333333,110.0],[87.5,123.0],[84.0,117.5],[84.0,90.0],[82.0,149.0],[82.0,116.0]],\"y\":[132.0,132.0,190.0,114.0,114.0,114.0,129.0,129.0,129.0,129.0,115.0,159.0,159.0,156.0,110.0,123.0,117.5,90.0,149.0,116.0],\"type\":\"bar\"}],                        {\"template\":{\"data\":{\"histogram2dcontour\":[{\"type\":\"histogram2dcontour\",\"colorbar\":{\"outlinewidth\":0,\"ticks\":\"\"},\"colorscale\":[[0.0,\"#0d0887\"],[0.1111111111111111,\"#46039f\"],[0.2222222222222222,\"#7201a8\"],[0.3333333333333333,\"#9c179e\"],[0.4444444444444444,\"#bd3786\"],[0.5555555555555556,\"#d8576b\"],[0.6666666666666666,\"#ed7953\"],[0.7777777777777778,\"#fb9f3a\"],[0.8888888888888888,\"#fdca26\"],[1.0,\"#f0f921\"]]}],\"choropleth\":[{\"type\":\"choropleth\",\"colorbar\":{\"outlinewidth\":0,\"ticks\":\"\"}}],\"histogram2d\":[{\"type\":\"histogram2d\",\"colorbar\":{\"outlinewidth\":0,\"ticks\":\"\"},\"colorscale\":[[0.0,\"#0d0887\"],[0.1111111111111111,\"#46039f\"],[0.2222222222222222,\"#7201a8\"],[0.3333333333333333,\"#9c179e\"],[0.4444444444444444,\"#bd3786\"],[0.5555555555555556,\"#d8576b\"],[0.6666666666666666,\"#ed7953\"],[0.7777777777777778,\"#fb9f3a\"],[0.8888888888888888,\"#fdca26\"],[1.0,\"#f0f921\"]]}],\"heatmap\":[{\"type\":\"heatmap\",\"colorbar\":{\"outlinewidth\":0,\"ticks\":\"\"},\"colorscale\":[[0.0,\"#0d0887\"],[0.1111111111111111,\"#46039f\"],[0.2222222222222222,\"#7201a8\"],[0.3333333333333333,\"#9c179e\"],[0.4444444444444444,\"#bd3786\"],[0.5555555555555556,\"#d8576b\"],[0.6666666666666666,\"#ed7953\"],[0.7777777777777778,\"#fb9f3a\"],[0.8888888888888888,\"#fdca26\"],[1.0,\"#f0f921\"]]}],\"heatmapgl\":[{\"type\":\"heatmapgl\",\"colorbar\":{\"outlinewidth\":0,\"ticks\":\"\"},\"colorscale\":[[0.0,\"#0d0887\"],[0.1111111111111111,\"#46039f\"],[0.2222222222222222,\"#7201a8\"],[0.3333333333333333,\"#9c179e\"],[0.4444444444444444,\"#bd3786\"],[0.5555555555555556,\"#d8576b\"],[0.6666666666666666,\"#ed7953\"],[0.7777777777777778,\"#fb9f3a\"],[0.8888888888888888,\"#fdca26\"],[1.0,\"#f0f921\"]]}],\"contourcarpet\":[{\"type\":\"contourcarpet\",\"colorbar\":{\"outlinewidth\":0,\"ticks\":\"\"}}],\"contour\":[{\"type\":\"contour\",\"colorbar\":{\"outlinewidth\":0,\"ticks\":\"\"},\"colorscale\":[[0.0,\"#0d0887\"],[0.1111111111111111,\"#46039f\"],[0.2222222222222222,\"#7201a8\"],[0.3333333333333333,\"#9c179e\"],[0.4444444444444444,\"#bd3786\"],[0.5555555555555556,\"#d8576b\"],[0.6666666666666666,\"#ed7953\"],[0.7777777777777778,\"#fb9f3a\"],[0.8888888888888888,\"#fdca26\"],[1.0,\"#f0f921\"]]}],\"surface\":[{\"type\":\"surface\",\"colorbar\":{\"outlinewidth\":0,\"ticks\":\"\"},\"colorscale\":[[0.0,\"#0d0887\"],[0.1111111111111111,\"#46039f\"],[0.2222222222222222,\"#7201a8\"],[0.3333333333333333,\"#9c179e\"],[0.4444444444444444,\"#bd3786\"],[0.5555555555555556,\"#d8576b\"],[0.6666666666666666,\"#ed7953\"],[0.7777777777777778,\"#fb9f3a\"],[0.8888888888888888,\"#fdca26\"],[1.0,\"#f0f921\"]]}],\"mesh3d\":[{\"type\":\"mesh3d\",\"colorbar\":{\"outlinewidth\":0,\"ticks\":\"\"}}],\"scatter\":[{\"fillpattern\":{\"fillmode\":\"overlay\",\"size\":10,\"solidity\":0.2},\"type\":\"scatter\"}],\"parcoords\":[{\"type\":\"parcoords\",\"line\":{\"colorbar\":{\"outlinewidth\":0,\"ticks\":\"\"}}}],\"scatterpolargl\":[{\"type\":\"scatterpolargl\",\"marker\":{\"colorbar\":{\"outlinewidth\":0,\"ticks\":\"\"}}}],\"bar\":[{\"error_x\":{\"color\":\"#2a3f5f\"},\"error_y\":{\"color\":\"#2a3f5f\"},\"marker\":{\"line\":{\"color\":\"#E5ECF6\",\"width\":0.5},\"pattern\":{\"fillmode\":\"overlay\",\"size\":10,\"solidity\":0.2}},\"type\":\"bar\"}],\"scattergeo\":[{\"type\":\"scattergeo\",\"marker\":{\"colorbar\":{\"outlinewidth\":0,\"ticks\":\"\"}}}],\"scatterpolar\":[{\"type\":\"scatterpolar\",\"marker\":{\"colorbar\":{\"outlinewidth\":0,\"ticks\":\"\"}}}],\"histogram\":[{\"marker\":{\"pattern\":{\"fillmode\":\"overlay\",\"size\":10,\"solidity\":0.2}},\"type\":\"histogram\"}],\"scattergl\":[{\"type\":\"scattergl\",\"marker\":{\"colorbar\":{\"outlinewidth\":0,\"ticks\":\"\"}}}],\"scatter3d\":[{\"type\":\"scatter3d\",\"line\":{\"colorbar\":{\"outlinewidth\":0,\"ticks\":\"\"}},\"marker\":{\"colorbar\":{\"outlinewidth\":0,\"ticks\":\"\"}}}],\"scattermapbox\":[{\"type\":\"scattermapbox\",\"marker\":{\"colorbar\":{\"outlinewidth\":0,\"ticks\":\"\"}}}],\"scatterternary\":[{\"type\":\"scatterternary\",\"marker\":{\"colorbar\":{\"outlinewidth\":0,\"ticks\":\"\"}}}],\"scattercarpet\":[{\"type\":\"scattercarpet\",\"marker\":{\"colorbar\":{\"outlinewidth\":0,\"ticks\":\"\"}}}],\"carpet\":[{\"aaxis\":{\"endlinecolor\":\"#2a3f5f\",\"gridcolor\":\"white\",\"linecolor\":\"white\",\"minorgridcolor\":\"white\",\"startlinecolor\":\"#2a3f5f\"},\"baxis\":{\"endlinecolor\":\"#2a3f5f\",\"gridcolor\":\"white\",\"linecolor\":\"white\",\"minorgridcolor\":\"white\",\"startlinecolor\":\"#2a3f5f\"},\"type\":\"carpet\"}],\"table\":[{\"cells\":{\"fill\":{\"color\":\"#EBF0F8\"},\"line\":{\"color\":\"white\"}},\"header\":{\"fill\":{\"color\":\"#C8D4E3\"},\"line\":{\"color\":\"white\"}},\"type\":\"table\"}],\"barpolar\":[{\"marker\":{\"line\":{\"color\":\"#E5ECF6\",\"width\":0.5},\"pattern\":{\"fillmode\":\"overlay\",\"size\":10,\"solidity\":0.2}},\"type\":\"barpolar\"}],\"pie\":[{\"automargin\":true,\"type\":\"pie\"}]},\"layout\":{\"autotypenumbers\":\"strict\",\"colorway\":[\"#636efa\",\"#EF553B\",\"#00cc96\",\"#ab63fa\",\"#FFA15A\",\"#19d3f3\",\"#FF6692\",\"#B6E880\",\"#FF97FF\",\"#FECB52\"],\"font\":{\"color\":\"#2a3f5f\"},\"hovermode\":\"closest\",\"hoverlabel\":{\"align\":\"left\"},\"paper_bgcolor\":\"white\",\"plot_bgcolor\":\"#E5ECF6\",\"polar\":{\"bgcolor\":\"#E5ECF6\",\"angularaxis\":{\"gridcolor\":\"white\",\"linecolor\":\"white\",\"ticks\":\"\"},\"radialaxis\":{\"gridcolor\":\"white\",\"linecolor\":\"white\",\"ticks\":\"\"}},\"ternary\":{\"bgcolor\":\"#E5ECF6\",\"aaxis\":{\"gridcolor\":\"white\",\"linecolor\":\"white\",\"ticks\":\"\"},\"baxis\":{\"gridcolor\":\"white\",\"linecolor\":\"white\",\"ticks\":\"\"},\"caxis\":{\"gridcolor\":\"white\",\"linecolor\":\"white\",\"ticks\":\"\"}},\"coloraxis\":{\"colorbar\":{\"outlinewidth\":0,\"ticks\":\"\"}},\"colorscale\":{\"sequential\":[[0.0,\"#0d0887\"],[0.1111111111111111,\"#46039f\"],[0.2222222222222222,\"#7201a8\"],[0.3333333333333333,\"#9c179e\"],[0.4444444444444444,\"#bd3786\"],[0.5555555555555556,\"#d8576b\"],[0.6666666666666666,\"#ed7953\"],[0.7777777777777778,\"#fb9f3a\"],[0.8888888888888888,\"#fdca26\"],[1.0,\"#f0f921\"]],\"sequentialminus\":[[0.0,\"#0d0887\"],[0.1111111111111111,\"#46039f\"],[0.2222222222222222,\"#7201a8\"],[0.3333333333333333,\"#9c179e\"],[0.4444444444444444,\"#bd3786\"],[0.5555555555555556,\"#d8576b\"],[0.6666666666666666,\"#ed7953\"],[0.7777777777777778,\"#fb9f3a\"],[0.8888888888888888,\"#fdca26\"],[1.0,\"#f0f921\"]],\"diverging\":[[0,\"#8e0152\"],[0.1,\"#c51b7d\"],[0.2,\"#de77ae\"],[0.3,\"#f1b6da\"],[0.4,\"#fde0ef\"],[0.5,\"#f7f7f7\"],[0.6,\"#e6f5d0\"],[0.7,\"#b8e186\"],[0.8,\"#7fbc41\"],[0.9,\"#4d9221\"],[1,\"#276419\"]]},\"xaxis\":{\"gridcolor\":\"white\",\"linecolor\":\"white\",\"ticks\":\"\",\"title\":{\"standoff\":15},\"zerolinecolor\":\"white\",\"automargin\":true,\"zerolinewidth\":2},\"yaxis\":{\"gridcolor\":\"white\",\"linecolor\":\"white\",\"ticks\":\"\",\"title\":{\"standoff\":15},\"zerolinecolor\":\"white\",\"automargin\":true,\"zerolinewidth\":2},\"scene\":{\"xaxis\":{\"backgroundcolor\":\"#E5ECF6\",\"gridcolor\":\"white\",\"linecolor\":\"white\",\"showbackground\":true,\"ticks\":\"\",\"zerolinecolor\":\"white\",\"gridwidth\":2},\"yaxis\":{\"backgroundcolor\":\"#E5ECF6\",\"gridcolor\":\"white\",\"linecolor\":\"white\",\"showbackground\":true,\"ticks\":\"\",\"zerolinecolor\":\"white\",\"gridwidth\":2},\"zaxis\":{\"backgroundcolor\":\"#E5ECF6\",\"gridcolor\":\"white\",\"linecolor\":\"white\",\"showbackground\":true,\"ticks\":\"\",\"zerolinecolor\":\"white\",\"gridwidth\":2}},\"shapedefaults\":{\"line\":{\"color\":\"#2a3f5f\"}},\"annotationdefaults\":{\"arrowcolor\":\"#2a3f5f\",\"arrowhead\":0,\"arrowwidth\":1},\"geo\":{\"bgcolor\":\"white\",\"landcolor\":\"#E5ECF6\",\"subunitcolor\":\"white\",\"showland\":true,\"showlakes\":true,\"lakecolor\":\"white\"},\"title\":{\"x\":0.05},\"mapbox\":{\"style\":\"light\"}}},\"title\":{\"text\":\"Top 20 cities with their minimum and maximum salaries\"},\"barmode\":\"stack\"},                        {\"responsive\": true}                    ).then(function(){\n",
       "                            \n",
       "var gd = document.getElementById('134151ec-9fd7-48cc-a2ac-c697c9e7d780');\n",
       "var x = new MutationObserver(function (mutations, observer) {{\n",
       "        var display = window.getComputedStyle(gd).display;\n",
       "        if (!display || display === 'none') {{\n",
       "            console.log([gd, 'removed!']);\n",
       "            Plotly.purge(gd);\n",
       "            observer.disconnect();\n",
       "        }}\n",
       "}});\n",
       "\n",
       "// Listen for the removal of the full notebook cells\n",
       "var notebookContainer = gd.closest('#notebook-container');\n",
       "if (notebookContainer) {{\n",
       "    x.observe(notebookContainer, {childList: true});\n",
       "}}\n",
       "\n",
       "// Listen for the clearing of the current output cell\n",
       "var outputEl = gd.closest('.output');\n",
       "if (outputEl) {{\n",
       "    x.observe(outputEl, {childList: true});\n",
       "}}\n",
       "\n",
       "                        })                };                });            </script>        </div>"
      ]
     },
     "metadata": {},
     "output_type": "display_data"
    }
   ],
   "source": [
    "fig = go.Figure()\n",
    "\n",
    "fig.add_trace(go.Bar(x=df, y=df['Min_Salary'], name=\"Minimum Salary\"))\n",
    "fig.add_trace(go.Bar(x=df, y=df['Max_Salary'], name=\"Maximum Salary\"))\n",
    "fig.update_layout(title='Top 20 cities with their minimum and maximum salaries',barmode='stack')\n",
    "fig.show()"
   ]
  },
  {
   "cell_type": "code",
   "execution_count": 87,
   "id": "f0eeebc1-3065-4e8c-a556-35bf4cfc2ecf",
   "metadata": {},
   "outputs": [],
   "source": [
    "def bar_plot(df, col1, col2):\n",
    "    plt.figure(figsize=(12,8))\n",
    "    plt.title(\"Top 20 cities with their minimum and maximum salaries\")\n",
    "    plt.bar(x=df.index, height=col1, data=df)\n",
    "    plt.bar(x=df.index, height=col2, data=df, bottom=col1)\n",
    "    plt.xticks(rotation=75)\n",
    "    plt.legend([col1.name, col2.name])\n",
    "    plt.tight_layout()"
   ]
  },
  {
   "cell_type": "code",
   "execution_count": 85,
   "id": "8654a1a4-a21a-4675-9a02-f82afcf76a84",
   "metadata": {},
   "outputs": [
    {
     "data": {
      "text/plain": [
       "'Min_Salary'"
      ]
     },
     "execution_count": 85,
     "metadata": {},
     "output_type": "execute_result"
    }
   ],
   "source": [
    "df['Min_Salary'].name"
   ]
  },
  {
   "cell_type": "code",
   "execution_count": 88,
   "id": "63b7b32b-23a5-4871-92c0-6e857493d065",
   "metadata": {},
   "outputs": [
    {
     "data": {
      "image/png": "[encoded data removed]",
      "text/plain": [
       "<Figure size 1200x800 with 1 Axes>"
      ]
     },
     "metadata": {},
     "output_type": "display_data"
    }
   ],
   "source": [
    "bar_plot(df, df['Min_Salary'], df['Max_Salary'])"
   ]
  },
  {
   "cell_type": "code",
   "execution_count": 93,
   "id": "b1644d32-4e7c-4602-b4af-0295e23c88eb",
   "metadata": {},
   "outputs": [
    {
     "name": "stderr",
     "output_type": "stream",
     "text": [
      "F:\\4.yil_birinci_dnem\\Data Science\\data\\lib\\site-packages\\ipykernel_launcher.py:1: FutureWarning:\n",
      "\n",
      "Indexing with multiple keys (implicitly converted to a tuple of keys) will be deprecated, use a list instead.\n",
      "\n"
     ]
    },
    {
     "data": {
      "text/html": [
       "<div>\n",
       "<style scoped>\n",
       "    .dataframe tbody tr th:only-of-type {\n",
       "        vertical-align: middle;\n",
       "    }\n",
       "\n",
       "    .dataframe tbody tr th {\n",
       "        vertical-align: top;\n",
       "    }\n",
       "\n",
       "    .dataframe thead th {\n",
       "        text-align: right;\n",
       "    }\n",
       "</style>\n",
       "<table border=\"1\" class=\"dataframe\">\n",
       "  <thead>\n",
       "    <tr style=\"text-align: right;\">\n",
       "      <th></th>\n",
       "      <th>Max_Salary</th>\n",
       "      <th>Min_Salary</th>\n",
       "    </tr>\n",
       "    <tr>\n",
       "      <th>Job Title</th>\n",
       "      <th></th>\n",
       "      <th></th>\n",
       "    </tr>\n",
       "  </thead>\n",
       "  <tbody>\n",
       "    <tr>\n",
       "      <th>AI Insights Data Analyst</th>\n",
       "      <td>190.0</td>\n",
       "      <td>110.0</td>\n",
       "    </tr>\n",
       "    <tr>\n",
       "      <th>Data Analyst with Data Mapping and API</th>\n",
       "      <td>190.0</td>\n",
       "      <td>110.0</td>\n",
       "    </tr>\n",
       "    <tr>\n",
       "      <th>Data Analyst, Autonomy Operations</th>\n",
       "      <td>190.0</td>\n",
       "      <td>110.0</td>\n",
       "    </tr>\n",
       "    <tr>\n",
       "      <th>Data Analyst, Product Insights</th>\n",
       "      <td>190.0</td>\n",
       "      <td>110.0</td>\n",
       "    </tr>\n",
       "    <tr>\n",
       "      <th>Senior Data Analyst Studio Finance Engineering</th>\n",
       "      <td>190.0</td>\n",
       "      <td>110.0</td>\n",
       "    </tr>\n",
       "    <tr>\n",
       "      <th>Senior HR Data Analyst</th>\n",
       "      <td>190.0</td>\n",
       "      <td>110.0</td>\n",
       "    </tr>\n",
       "    <tr>\n",
       "      <th>Sr. Data Analyst - Growth &amp; Adoption</th>\n",
       "      <td>190.0</td>\n",
       "      <td>110.0</td>\n",
       "    </tr>\n",
       "    <tr>\n",
       "      <th>Tableau Data Analyst Intern</th>\n",
       "      <td>190.0</td>\n",
       "      <td>110.0</td>\n",
       "    </tr>\n",
       "    <tr>\n",
       "      <th>Business Intelligence Data Modeler/Analyst</th>\n",
       "      <td>178.0</td>\n",
       "      <td>99.0</td>\n",
       "    </tr>\n",
       "    <tr>\n",
       "      <th>Data Scientist/Analyst - Wilbur Labs</th>\n",
       "      <td>178.0</td>\n",
       "      <td>99.0</td>\n",
       "    </tr>\n",
       "    <tr>\n",
       "      <th>Data Studio Analyst</th>\n",
       "      <td>178.0</td>\n",
       "      <td>99.0</td>\n",
       "    </tr>\n",
       "    <tr>\n",
       "      <th>DATA Analyst-Remote</th>\n",
       "      <td>168.5</td>\n",
       "      <td>96.0</td>\n",
       "    </tr>\n",
       "    <tr>\n",
       "      <th>Business Data Analyst - Senior/Director - Work from Remote</th>\n",
       "      <td>159.0</td>\n",
       "      <td>93.0</td>\n",
       "    </tr>\n",
       "    <tr>\n",
       "      <th>Data Analyst - Health</th>\n",
       "      <td>159.0</td>\n",
       "      <td>93.0</td>\n",
       "    </tr>\n",
       "    <tr>\n",
       "      <th>Data Analyst, Growth</th>\n",
       "      <td>159.0</td>\n",
       "      <td>93.0</td>\n",
       "    </tr>\n",
       "    <tr>\n",
       "      <th>Data and Policy Analyst IV</th>\n",
       "      <td>159.0</td>\n",
       "      <td>93.0</td>\n",
       "    </tr>\n",
       "    <tr>\n",
       "      <th>Financial Data Analyst, FP&amp;A and Accounting</th>\n",
       "      <td>159.0</td>\n",
       "      <td>93.0</td>\n",
       "    </tr>\n",
       "    <tr>\n",
       "      <th>Loan Data Analyst</th>\n",
       "      <td>159.0</td>\n",
       "      <td>93.0</td>\n",
       "    </tr>\n",
       "    <tr>\n",
       "      <th>Market Data Services Analyst</th>\n",
       "      <td>159.0</td>\n",
       "      <td>93.0</td>\n",
       "    </tr>\n",
       "    <tr>\n",
       "      <th>Senior Data Analyst, Member Services</th>\n",
       "      <td>159.0</td>\n",
       "      <td>93.0</td>\n",
       "    </tr>\n",
       "  </tbody>\n",
       "</table>\n",
       "</div>"
      ],
      "text/plain": [
       "                                                    Max_Salary  Min_Salary\n",
       "Job Title                                                                 \n",
       "AI Insights Data Analyst                                 190.0       110.0\n",
       "Data Analyst with Data Mapping and API                   190.0       110.0\n",
       "Data Analyst, Autonomy Operations                        190.0       110.0\n",
       "Data Analyst, Product Insights                           190.0       110.0\n",
       "Senior Data Analyst Studio Finance Engineering           190.0       110.0\n",
       "Senior HR Data Analyst                                   190.0       110.0\n",
       "Sr. Data Analyst - Growth & Adoption                     190.0       110.0\n",
       "Tableau Data Analyst Intern                              190.0       110.0\n",
       "Business Intelligence Data Modeler/Analyst               178.0        99.0\n",
       "Data Scientist/Analyst - Wilbur Labs                     178.0        99.0\n",
       "Data Studio Analyst                                      178.0        99.0\n",
       "DATA Analyst-Remote                                      168.5        96.0\n",
       "Business Data Analyst - Senior/Director - Work ...       159.0        93.0\n",
       "Data Analyst - Health                                    159.0        93.0\n",
       "Data Analyst, Growth                                     159.0        93.0\n",
       "Data and Policy Analyst IV                               159.0        93.0\n",
       "Financial Data Analyst, FP&A and Accounting              159.0        93.0\n",
       "Loan Data Analyst                                        159.0        93.0\n",
       "Market Data Services Analyst                             159.0        93.0\n",
       "Senior Data Analyst, Member Services                     159.0        93.0"
      ]
     },
     "execution_count": 93,
     "metadata": {},
     "output_type": "execute_result"
    }
   ],
   "source": [
    "df = job_df.groupby('Job Title')['Max_Salary', 'Min_Salary'].mean().sort_values(['Max_Salary', 'Min_Salary'], ascending=False).head(20)\n",
    "df"
   ]
  },
  {
   "cell_type": "code",
   "execution_count": null,
   "id": "3d207ba9-58ea-4de9-97ab-0a0ff8f1e88e",
   "metadata": {},
   "outputs": [],
   "source": []
  },
  {
   "cell_type": "code",
   "execution_count": null,
   "id": "1f5162ce-90e2-4892-ba8e-cc6e08e1d141",
   "metadata": {},
   "outputs": [],
   "source": []
  },
  {
   "cell_type": "code",
   "execution_count": null,
   "id": "a5c3cfb0-2f57-4445-8d51-6fe0156724fc",
   "metadata": {},
   "outputs": [],
   "source": []
  },
  {
   "cell_type": "code",
   "execution_count": null,
   "id": "937437f9-79d4-4d3b-91d8-4fe7b90b902a",
   "metadata": {},
   "outputs": [],
   "source": []
  },
  {
   "cell_type": "code",
   "execution_count": null,
   "id": "a4800c08-4cba-4237-bec6-f8ff55ac644c",
   "metadata": {},
   "outputs": [],
   "source": []
  },
  {
   "cell_type": "code",
   "execution_count": null,
   "id": "dd436d4d-b86a-4250-8955-9d696819175b",
   "metadata": {},
   "outputs": [],
   "source": []
  },
  {
   "cell_type": "code",
   "execution_count": null,
   "id": "577bbc83-dfb6-4419-afba-b985c33a9638",
   "metadata": {},
   "outputs": [],
   "source": []
  },
  {
   "cell_type": "markdown",
   "id": "e9506363-7ba5-4f28-a2ea-6ae031c0dca5",
   "metadata": {},
   "source": [
    "## Missed Value"
   ]
  },
  {
   "cell_type": "code",
   "execution_count": null,
   "id": "7614a0c9-64b2-44ca-865d-5a4e9d1e630e",
   "metadata": {},
   "outputs": [],
   "source": []
  },
  {
   "cell_type": "code",
   "execution_count": null,
   "id": "c5e4f89a-789f-4201-b72a-4c4bf7f62b74",
   "metadata": {},
   "outputs": [],
   "source": []
  },
  {
   "cell_type": "code",
   "execution_count": null,
   "id": "b0a828c2-5d84-44da-9d97-fa04dbd451b6",
   "metadata": {},
   "outputs": [],
   "source": []
  },
  {
   "cell_type": "code",
   "execution_count": null,
   "id": "eb7a4252-81a4-47c6-81d8-30d556c0f4fd",
   "metadata": {},
   "outputs": [],
   "source": []
  },
  {
   "cell_type": "code",
   "execution_count": null,
   "id": "884448f1-b930-473c-91c7-a8afa51cc8da",
   "metadata": {},
   "outputs": [],
   "source": []
  },
  {
   "cell_type": "code",
   "execution_count": null,
   "id": "c15ab26c-b7d7-455e-bee2-d51cf13dc214",
   "metadata": {},
   "outputs": [],
   "source": []
  }
 ],
 "metadata": {
  "kernelspec": {
   "display_name": "dataScience",
   "language": "python",
   "name": "datascience"
  },
  "language_info": {
   "codemirror_mode": {
    "name": "ipython",
    "version": 3
   },
   "file_extension": ".py",
   "mimetype": "text/x-python",
   "name": "python",
   "nbconvert_exporter": "python",
   "pygments_lexer": "ipython3",
   "version": "3.7.9"
  }
 },
 "nbformat": 4,
 "nbformat_minor": 5
}
