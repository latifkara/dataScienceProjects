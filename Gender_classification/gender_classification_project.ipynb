{
 "cells": [
  {
   "cell_type": "markdown",
   "id": "103152bd-26df-4159-8f14-988785b102a2",
   "metadata": {},
   "source": [
    "# Gender Classification "
   ]
  },
  {
   "cell_type": "markdown",
   "id": "efbca8ce-bb23-4c10-89be-7bbcb19a857a",
   "metadata": {},
   "source": [
    "## Import Libraries "
   ]
  },
  {
   "cell_type": "code",
   "execution_count": 2,
   "id": "9f03b571-3495-46d1-92cf-7ad67d3f6e23",
   "metadata": {},
   "outputs": [],
   "source": [
    "import pandas as pd\n",
    "import numpy as np\n",
    "import matplotlib.pyplot as plt\n",
    "import seaborn as sns\n",
    "%matplotlib inline"
   ]
  },
  {
   "cell_type": "code",
   "execution_count": 9,
   "id": "d25a54ab-982b-4ec2-be07-49d5aade070d",
   "metadata": {},
   "outputs": [],
   "source": [
    "pd.set_option('display.width', 500)\n",
    "pd.set_option('display.max_columns', None)"
   ]
  },
  {
   "cell_type": "code",
   "execution_count": 38,
   "id": "ef558def-a509-40d6-bd79-7751de88c205",
   "metadata": {},
   "outputs": [],
   "source": [
    "sns.set(rc={'figure.figsize':(11.7,8.27)})"
   ]
  },
  {
   "cell_type": "markdown",
   "id": "40641dd4-600d-4ba5-95c4-26c223dcd9b1",
   "metadata": {},
   "source": [
    "## Read Dataset"
   ]
  },
  {
   "cell_type": "code",
   "execution_count": 3,
   "id": "53f6d42c-e5d8-4d4b-8e09-44fe7fe5996b",
   "metadata": {},
   "outputs": [],
   "source": [
    "gender_df = pd.read_csv('datasets/Transformed Data Set - Sheet1.csv')"
   ]
  },
  {
   "cell_type": "code",
   "execution_count": 4,
   "id": "fff47337-c776-4212-9701-f6cf6877244f",
   "metadata": {},
   "outputs": [
    {
     "data": {
      "text/html": [
       "<div>\n",
       "<style scoped>\n",
       "    .dataframe tbody tr th:only-of-type {\n",
       "        vertical-align: middle;\n",
       "    }\n",
       "\n",
       "    .dataframe tbody tr th {\n",
       "        vertical-align: top;\n",
       "    }\n",
       "\n",
       "    .dataframe thead th {\n",
       "        text-align: right;\n",
       "    }\n",
       "</style>\n",
       "<table border=\"1\" class=\"dataframe\">\n",
       "  <thead>\n",
       "    <tr style=\"text-align: right;\">\n",
       "      <th></th>\n",
       "      <th>Favorite Color</th>\n",
       "      <th>Favorite Music Genre</th>\n",
       "      <th>Favorite Beverage</th>\n",
       "      <th>Favorite Soft Drink</th>\n",
       "      <th>Gender</th>\n",
       "    </tr>\n",
       "  </thead>\n",
       "  <tbody>\n",
       "    <tr>\n",
       "      <th>0</th>\n",
       "      <td>Cool</td>\n",
       "      <td>Rock</td>\n",
       "      <td>Vodka</td>\n",
       "      <td>7UP/Sprite</td>\n",
       "      <td>F</td>\n",
       "    </tr>\n",
       "    <tr>\n",
       "      <th>1</th>\n",
       "      <td>Neutral</td>\n",
       "      <td>Hip hop</td>\n",
       "      <td>Vodka</td>\n",
       "      <td>Coca Cola/Pepsi</td>\n",
       "      <td>F</td>\n",
       "    </tr>\n",
       "    <tr>\n",
       "      <th>2</th>\n",
       "      <td>Warm</td>\n",
       "      <td>Rock</td>\n",
       "      <td>Wine</td>\n",
       "      <td>Coca Cola/Pepsi</td>\n",
       "      <td>F</td>\n",
       "    </tr>\n",
       "    <tr>\n",
       "      <th>3</th>\n",
       "      <td>Warm</td>\n",
       "      <td>Folk/Traditional</td>\n",
       "      <td>Whiskey</td>\n",
       "      <td>Fanta</td>\n",
       "      <td>F</td>\n",
       "    </tr>\n",
       "    <tr>\n",
       "      <th>4</th>\n",
       "      <td>Cool</td>\n",
       "      <td>Rock</td>\n",
       "      <td>Vodka</td>\n",
       "      <td>Coca Cola/Pepsi</td>\n",
       "      <td>F</td>\n",
       "    </tr>\n",
       "  </tbody>\n",
       "</table>\n",
       "</div>"
      ],
      "text/plain": [
       "  Favorite Color Favorite Music Genre Favorite Beverage Favorite Soft Drink  \\\n",
       "0           Cool                 Rock             Vodka          7UP/Sprite   \n",
       "1        Neutral              Hip hop             Vodka     Coca Cola/Pepsi   \n",
       "2           Warm                 Rock              Wine     Coca Cola/Pepsi   \n",
       "3           Warm     Folk/Traditional           Whiskey               Fanta   \n",
       "4           Cool                 Rock             Vodka     Coca Cola/Pepsi   \n",
       "\n",
       "  Gender  \n",
       "0      F  \n",
       "1      F  \n",
       "2      F  \n",
       "3      F  \n",
       "4      F  "
      ]
     },
     "execution_count": 4,
     "metadata": {},
     "output_type": "execute_result"
    }
   ],
   "source": [
    "gender_df.head()"
   ]
  },
  {
   "cell_type": "code",
   "execution_count": 5,
   "id": "c7935210-e3de-48db-bd9d-41ca04a40ab6",
   "metadata": {},
   "outputs": [
    {
     "name": "stdout",
     "output_type": "stream",
     "text": [
      "<class 'pandas.core.frame.DataFrame'>\n",
      "RangeIndex: 66 entries, 0 to 65\n",
      "Data columns (total 5 columns):\n",
      " #   Column                Non-Null Count  Dtype \n",
      "---  ------                --------------  ----- \n",
      " 0   Favorite Color        66 non-null     object\n",
      " 1   Favorite Music Genre  66 non-null     object\n",
      " 2   Favorite Beverage     66 non-null     object\n",
      " 3   Favorite Soft Drink   66 non-null     object\n",
      " 4   Gender                66 non-null     object\n",
      "dtypes: object(5)\n",
      "memory usage: 2.7+ KB\n"
     ]
    }
   ],
   "source": [
    "gender_df.info()"
   ]
  },
  {
   "cell_type": "markdown",
   "id": "bf491a83-7fc0-4f1b-a92b-348b073b48e9",
   "metadata": {},
   "source": [
    "## Data Analysis"
   ]
  },
  {
   "cell_type": "markdown",
   "id": "442748b3-f015-44fc-b898-b43de06a6511",
   "metadata": {},
   "source": [
    "### Check data"
   ]
  },
  {
   "cell_type": "code",
   "execution_count": 11,
   "id": "2875e714-c6e0-4a22-95ae-d09b2cb349ef",
   "metadata": {},
   "outputs": [],
   "source": [
    "def check_df(dataframe, head=5):\n",
    "    print(\"********************* Show Information about data *********************\")\n",
    "    \n",
    "    print(\"##################### Shape #####################\")\n",
    "    print(dataframe.shape)\n",
    "    print(\"##################### Types #####################\")\n",
    "    print(dataframe.dtypes)\n",
    "    print(\"##################### Head #####################\")\n",
    "    print(dataframe.head(head))\n",
    "    print(\"##################### Tail #####################\")\n",
    "    print(dataframe.tail(head))\n",
    "    print(\"##################### NA #####################\")\n",
    "    print(dataframe.isnull().sum())\n",
    "    print(\"##################### Quantiles #####################\")\n",
    "    print(dataframe.describe([0, 0.05, 0.50, 0.95, 0.99, 1]).T)"
   ]
  },
  {
   "cell_type": "code",
   "execution_count": 12,
   "id": "be6d80d0-2001-4405-ba5f-7a8d94c7a43b",
   "metadata": {},
   "outputs": [
    {
     "name": "stdout",
     "output_type": "stream",
     "text": [
      "********************* Show Information about data *********************\n",
      "##################### Shape #####################\n",
      "(66, 5)\n",
      "##################### Types #####################\n",
      "Favorite Color          object\n",
      "Favorite Music Genre    object\n",
      "Favorite Beverage       object\n",
      "Favorite Soft Drink     object\n",
      "Gender                  object\n",
      "dtype: object\n",
      "##################### Head #####################\n",
      "  Favorite Color Favorite Music Genre Favorite Beverage Favorite Soft Drink Gender\n",
      "0           Cool                 Rock             Vodka          7UP/Sprite      F\n",
      "1        Neutral              Hip hop             Vodka     Coca Cola/Pepsi      F\n",
      "2           Warm                 Rock              Wine     Coca Cola/Pepsi      F\n",
      "3           Warm     Folk/Traditional           Whiskey               Fanta      F\n",
      "4           Cool                 Rock             Vodka     Coca Cola/Pepsi      F\n",
      "##################### Tail #####################\n",
      "   Favorite Color Favorite Music Genre Favorite Beverage Favorite Soft Drink Gender\n",
      "61           Cool                 Rock             Vodka     Coca Cola/Pepsi      M\n",
      "62           Cool              Hip hop              Beer     Coca Cola/Pepsi      M\n",
      "63        Neutral              Hip hop     Doesn't drink               Fanta      M\n",
      "64           Cool                 Rock              Wine     Coca Cola/Pepsi      M\n",
      "65           Cool           Electronic              Beer     Coca Cola/Pepsi      M\n",
      "##################### NA #####################\n",
      "Favorite Color          0\n",
      "Favorite Music Genre    0\n",
      "Favorite Beverage       0\n",
      "Favorite Soft Drink     0\n",
      "Gender                  0\n",
      "dtype: int64\n",
      "##################### Quantiles #####################\n",
      "                     count unique              top freq\n",
      "Favorite Color          66      3             Cool   37\n",
      "Favorite Music Genre    66      7             Rock   19\n",
      "Favorite Beverage       66      6    Doesn't drink   14\n",
      "Favorite Soft Drink     66      4  Coca Cola/Pepsi   32\n",
      "Gender                  66      2                F   33\n"
     ]
    }
   ],
   "source": [
    "check_df(gender_df)"
   ]
  },
  {
   "cell_type": "code",
   "execution_count": 14,
   "id": "e5cbc2dd-24a8-4701-86e8-260e4b4041ac",
   "metadata": {},
   "outputs": [
    {
     "data": {
      "text/plain": [
       "F    33\n",
       "M    33\n",
       "Name: Gender, dtype: int64"
      ]
     },
     "execution_count": 14,
     "metadata": {},
     "output_type": "execute_result"
    }
   ],
   "source": [
    "gender_df.Gender.value_counts()"
   ]
  },
  {
   "cell_type": "code",
   "execution_count": 19,
   "id": "28a2f5ca-7657-4e16-9746-b3b46873edc9",
   "metadata": {},
   "outputs": [],
   "source": [
    "category_cols = [col for col in gender_df.columns if str(gender_df[col].dtype) in [\"object\", \"bool\", \"category\"]]"
   ]
  },
  {
   "cell_type": "code",
   "execution_count": 20,
   "id": "5ff6cf2b-032d-4cb7-8edc-9f00cb018883",
   "metadata": {},
   "outputs": [
    {
     "data": {
      "text/plain": [
       "['Favorite Color',\n",
       " 'Favorite Music Genre',\n",
       " 'Favorite Beverage',\n",
       " 'Favorite Soft Drink',\n",
       " 'Gender']"
      ]
     },
     "execution_count": 20,
     "metadata": {},
     "output_type": "execute_result"
    }
   ],
   "source": [
    "category_cols"
   ]
  },
  {
   "cell_type": "code",
   "execution_count": 21,
   "id": "a669f07f-9814-4463-84be-307740813aa3",
   "metadata": {},
   "outputs": [],
   "source": [
    "gender_df[category_cols] = gender_df[category_cols].astype('category')"
   ]
  },
  {
   "cell_type": "code",
   "execution_count": 22,
   "id": "29b46c6b-ed5a-44d6-9d2a-430e785afcba",
   "metadata": {},
   "outputs": [
    {
     "name": "stdout",
     "output_type": "stream",
     "text": [
      "<class 'pandas.core.frame.DataFrame'>\n",
      "RangeIndex: 66 entries, 0 to 65\n",
      "Data columns (total 5 columns):\n",
      " #   Column                Non-Null Count  Dtype   \n",
      "---  ------                --------------  -----   \n",
      " 0   Favorite Color        66 non-null     category\n",
      " 1   Favorite Music Genre  66 non-null     category\n",
      " 2   Favorite Beverage     66 non-null     category\n",
      " 3   Favorite Soft Drink   66 non-null     category\n",
      " 4   Gender                66 non-null     category\n",
      "dtypes: category(5)\n",
      "memory usage: 1.5 KB\n"
     ]
    }
   ],
   "source": [
    "gender_df.info()"
   ]
  },
  {
   "cell_type": "code",
   "execution_count": 23,
   "id": "2a916f50-f4d6-43fb-b617-dc349ec6d55c",
   "metadata": {},
   "outputs": [],
   "source": [
    "cat_but_car = [col for col in gender_df.columns if gender_df[col].nunique() > 20 and str(gender_df[col].dtype) in ['category', 'object']]"
   ]
  },
  {
   "cell_type": "code",
   "execution_count": 24,
   "id": "f4cf407b-1cde-4beb-baeb-ef7ea4ca8190",
   "metadata": {},
   "outputs": [
    {
     "data": {
      "text/plain": [
       "[]"
      ]
     },
     "execution_count": 24,
     "metadata": {},
     "output_type": "execute_result"
    }
   ],
   "source": [
    "cat_but_car"
   ]
  },
  {
   "cell_type": "code",
   "execution_count": 25,
   "id": "4f6862ac-7882-4610-bb56-79c5d0b13110",
   "metadata": {},
   "outputs": [],
   "source": [
    "category_cols = [col for col in category_cols if col not in cat_but_car]"
   ]
  },
  {
   "cell_type": "code",
   "execution_count": 27,
   "id": "d592301a-7994-4c11-9359-95a62bcf6959",
   "metadata": {},
   "outputs": [
    {
     "data": {
      "text/plain": [
       "Cool       37\n",
       "Warm       22\n",
       "Neutral     7\n",
       "Name: Favorite Color, dtype: int64"
      ]
     },
     "execution_count": 27,
     "metadata": {},
     "output_type": "execute_result"
    }
   ],
   "source": [
    "gender_df['Favorite Color'].value_counts()"
   ]
  },
  {
   "cell_type": "code",
   "execution_count": 50,
   "id": "54bf23cb-5ed2-4ccb-8461-8a99d46001c5",
   "metadata": {},
   "outputs": [],
   "source": [
    "def cat_summary(dataframe, col_name, plot=False):\n",
    "    print(f\"Proccess in {col_name} columns\")\n",
    "    print(pd.DataFrame({col_name: dataframe[col_name].value_counts(),\n",
    "                        \"Ratio\": round(100 * dataframe[col_name].value_counts() / len(dataframe), 2)}))\n",
    "    print(\"****************************************************\")\n",
    "\n",
    "    if plot:\n",
    "        sns.countplot(x=col_name, data=dataframe)\n",
    "        plt.show(block=True)"
   ]
  },
  {
   "cell_type": "code",
   "execution_count": 51,
   "id": "403fea1e-2857-4e20-b95f-c6a6eefaa48a",
   "metadata": {},
   "outputs": [
    {
     "name": "stdout",
     "output_type": "stream",
     "text": [
      "Proccess in Favorite Music Genre columns\n",
      "                  Favorite Music Genre  Ratio\n",
      "Rock                                19  28.79\n",
      "Pop                                 17  25.76\n",
      "Electronic                           8  12.12\n",
      "Hip hop                              8  12.12\n",
      "R&B and soul                         6   9.09\n",
      "Folk/Traditional                     4   6.06\n",
      "Jazz/Blues                           4   6.06\n",
      "****************************************************\n"
     ]
    },
    {
     "data": {
      "image/png": "[encoded data removed]",
      "text/plain": [
       "<Figure size 1170x827 with 1 Axes>"
      ]
     },
     "metadata": {},
     "output_type": "display_data"
    }
   ],
   "source": [
    "cat_summary(gender_df, 'Favorite Music Genre', plot=True)"
   ]
  },
  {
   "cell_type": "code",
   "execution_count": null,
   "id": "965f481b-d05a-4744-8dd6-6bd1e22ddef5",
   "metadata": {},
   "outputs": [],
   "source": []
  },
  {
   "cell_type": "markdown",
   "id": "e02c7c18-3af5-42a9-bda4-76202d60b2b2",
   "metadata": {},
   "source": [
    "### Visualization Data"
   ]
  },
  {
   "cell_type": "code",
   "execution_count": 52,
   "id": "bd8741b0-6d01-45cd-8a34-c0aa4c849575",
   "metadata": {},
   "outputs": [
    {
     "name": "stdout",
     "output_type": "stream",
     "text": [
      "Proccess in Favorite Soft Drink columns\n",
      "                 Favorite Soft Drink  Ratio\n",
      "Coca Cola/Pepsi                   32  48.48\n",
      "Fanta                             14  21.21\n",
      "7UP/Sprite                        13  19.70\n",
      "Other                              7  10.61\n",
      "****************************************************\n"
     ]
    },
    {
     "data": {
      "image/png": "[encoded data removed]",
      "text/plain": [
       "<Figure size 1170x827 with 1 Axes>"
      ]
     },
     "metadata": {},
     "output_type": "display_data"
    }
   ],
   "source": [
    "cat_summary(gender_df, 'Favorite Soft Drink', plot=True)"
   ]
  },
  {
   "cell_type": "code",
   "execution_count": 53,
   "id": "535ab31b-2fcd-4210-85aa-066d339ce372",
   "metadata": {},
   "outputs": [
    {
     "name": "stdout",
     "output_type": "stream",
     "text": [
      "Proccess in Favorite Color columns\n",
      "         Favorite Color  Ratio\n",
      "Cool                 37  56.06\n",
      "Warm                 22  33.33\n",
      "Neutral               7  10.61\n",
      "****************************************************\n"
     ]
    },
    {
     "data": {
      "image/png": "[encoded data removed]",
      "text/plain": [
       "<Figure size 1170x827 with 1 Axes>"
      ]
     },
     "metadata": {},
     "output_type": "display_data"
    },
    {
     "name": "stdout",
     "output_type": "stream",
     "text": [
      "Proccess in Favorite Music Genre columns\n",
      "                  Favorite Music Genre  Ratio\n",
      "Rock                                19  28.79\n",
      "Pop                                 17  25.76\n",
      "Electronic                           8  12.12\n",
      "Hip hop                              8  12.12\n",
      "R&B and soul                         6   9.09\n",
      "Folk/Traditional                     4   6.06\n",
      "Jazz/Blues                           4   6.06\n",
      "****************************************************\n"
     ]
    },
    {
     "data": {
      "image/png": "[encoded data removed]",
      "text/plain": [
       "<Figure size 1170x827 with 1 Axes>"
      ]
     },
     "metadata": {},
     "output_type": "display_data"
    },
    {
     "name": "stdout",
     "output_type": "stream",
     "text": [
      "Proccess in Favorite Beverage columns\n",
      "               Favorite Beverage  Ratio\n",
      "Doesn't drink                 14  21.21\n",
      "Beer                          13  19.70\n",
      "Other                         11  16.67\n",
      "Wine                          10  15.15\n",
      "Vodka                          9  13.64\n",
      "Whiskey                        9  13.64\n",
      "****************************************************\n"
     ]
    },
    {
     "data": {
      "image/png": "[encoded data removed]",
      "text/plain": [
       "<Figure size 1170x827 with 1 Axes>"
      ]
     },
     "metadata": {},
     "output_type": "display_data"
    },
    {
     "name": "stdout",
     "output_type": "stream",
     "text": [
      "Proccess in Favorite Soft Drink columns\n",
      "                 Favorite Soft Drink  Ratio\n",
      "Coca Cola/Pepsi                   32  48.48\n",
      "Fanta                             14  21.21\n",
      "7UP/Sprite                        13  19.70\n",
      "Other                              7  10.61\n",
      "****************************************************\n"
     ]
    },
    {
     "data": {
      "image/png": "[encoded data removed]",
      "text/plain": [
       "<Figure size 1170x827 with 1 Axes>"
      ]
     },
     "metadata": {},
     "output_type": "display_data"
    },
    {
     "name": "stdout",
     "output_type": "stream",
     "text": [
      "Proccess in Gender columns\n",
      "   Gender  Ratio\n",
      "F      33   50.0\n",
      "M      33   50.0\n",
      "****************************************************\n"
     ]
    },
    {
     "data": {
      "image/png": "[encoded data removed]",
      "text/plain": [
       "<Figure size 1170x827 with 1 Axes>"
      ]
     },
     "metadata": {},
     "output_type": "display_data"
    }
   ],
   "source": [
    "for col in category_cols:\n",
    "    cat_summary(gender_df, col, plot=True)"
   ]
  },
  {
   "cell_type": "code",
   "execution_count": null,
   "id": "fe854ce6-4ce1-4ff5-9850-3bbf58f67aae",
   "metadata": {},
   "outputs": [],
   "source": []
  },
  {
   "cell_type": "code",
   "execution_count": null,
   "id": "f7d888ab-b5d2-427c-8b40-64d1d8b63578",
   "metadata": {},
   "outputs": [],
   "source": []
  },
  {
   "cell_type": "code",
   "execution_count": null,
   "id": "c5643850-0a15-4921-bcf7-80f6c4356b24",
   "metadata": {},
   "outputs": [],
   "source": []
  },
  {
   "cell_type": "code",
   "execution_count": null,
   "id": "44705229-6ae1-4315-a043-76630ed4d9b7",
   "metadata": {},
   "outputs": [],
   "source": []
  },
  {
   "cell_type": "code",
   "execution_count": null,
   "id": "eaa5f170-68e0-48bd-87b2-7625a4e419c5",
   "metadata": {},
   "outputs": [],
   "source": []
  },
  {
   "cell_type": "code",
   "execution_count": null,
   "id": "b2f2ce91-591e-454a-b431-dc93d9de0731",
   "metadata": {},
   "outputs": [],
   "source": []
  },
  {
   "cell_type": "code",
   "execution_count": null,
   "id": "d89d2013-e3d9-4258-b944-b2862c122ce2",
   "metadata": {},
   "outputs": [],
   "source": []
  },
  {
   "cell_type": "code",
   "execution_count": null,
   "id": "a2bbf049-18d3-4bb9-a81b-e1cd0162b194",
   "metadata": {},
   "outputs": [],
   "source": []
  },
  {
   "cell_type": "code",
   "execution_count": null,
   "id": "bf950de9-82d4-441c-94b9-ad5aeb008bbf",
   "metadata": {},
   "outputs": [],
   "source": []
  },
  {
   "cell_type": "code",
   "execution_count": null,
   "id": "e7d96c6a-5a1c-4507-b8cb-ab9dc494fb7b",
   "metadata": {},
   "outputs": [],
   "source": []
  },
  {
   "cell_type": "code",
   "execution_count": null,
   "id": "52aa9c7b-b728-47b0-baa7-e16e57f09dd0",
   "metadata": {},
   "outputs": [],
   "source": []
  },
  {
   "cell_type": "code",
   "execution_count": null,
   "id": "642e44bf-62ed-41e0-9ccc-6570eb08125f",
   "metadata": {},
   "outputs": [],
   "source": []
  },
  {
   "cell_type": "code",
   "execution_count": null,
   "id": "8af36635-6897-46ca-8419-70729208f023",
   "metadata": {},
   "outputs": [],
   "source": []
  },
  {
   "cell_type": "code",
   "execution_count": null,
   "id": "ba28baaa-938e-4c41-ad1e-739d1b9485c3",
   "metadata": {},
   "outputs": [],
   "source": []
  },
  {
   "cell_type": "code",
   "execution_count": null,
   "id": "9c500a3f-affe-456e-bc93-89b2d31b7c2f",
   "metadata": {},
   "outputs": [],
   "source": []
  },
  {
   "cell_type": "code",
   "execution_count": null,
   "id": "9d585843-fda4-4c17-89d2-138ec20f5802",
   "metadata": {},
   "outputs": [],
   "source": []
  },
  {
   "cell_type": "code",
   "execution_count": null,
   "id": "a7b4fc64-067e-4ac1-9967-e49b3520025b",
   "metadata": {},
   "outputs": [],
   "source": []
  },
  {
   "cell_type": "code",
   "execution_count": null,
   "id": "6be9af73-07b7-4bc7-89f1-3433b4c0e173",
   "metadata": {},
   "outputs": [],
   "source": []
  },
  {
   "cell_type": "code",
   "execution_count": null,
   "id": "ce473a42-77cc-4134-be44-0b3303327c40",
   "metadata": {},
   "outputs": [],
   "source": []
  },
  {
   "cell_type": "code",
   "execution_count": null,
   "id": "0204b18a-d577-45a8-9a74-e5c04798607e",
   "metadata": {},
   "outputs": [],
   "source": []
  },
  {
   "cell_type": "code",
   "execution_count": null,
   "id": "8c0aeff2-fc31-44f0-9833-cf87aa9453e5",
   "metadata": {},
   "outputs": [],
   "source": []
  },
  {
   "cell_type": "code",
   "execution_count": null,
   "id": "eabfc6bf-a2b1-4916-b94c-33594c533763",
   "metadata": {},
   "outputs": [],
   "source": []
  },
  {
   "cell_type": "code",
   "execution_count": null,
   "id": "2125fd6b-ef0a-4d34-81bc-e74852707588",
   "metadata": {},
   "outputs": [],
   "source": []
  },
  {
   "cell_type": "code",
   "execution_count": null,
   "id": "f6e5758f-b469-412b-8e22-4f2dd9b3def4",
   "metadata": {},
   "outputs": [],
   "source": []
  },
  {
   "cell_type": "code",
   "execution_count": null,
   "id": "94aba67b-f174-4949-a88a-46f21a0d2877",
   "metadata": {},
   "outputs": [],
   "source": []
  },
  {
   "cell_type": "code",
   "execution_count": null,
   "id": "05a35ef9-6a2e-4163-9cc2-1145995577c9",
   "metadata": {},
   "outputs": [],
   "source": []
  },
  {
   "cell_type": "code",
   "execution_count": null,
   "id": "1671e60a-ab0d-4cf8-ad70-66f4c14e96ab",
   "metadata": {},
   "outputs": [],
   "source": []
  },
  {
   "cell_type": "code",
   "execution_count": null,
   "id": "f7c6ccce-ec1d-4af9-b52b-7f2b083de0d7",
   "metadata": {},
   "outputs": [],
   "source": []
  },
  {
   "cell_type": "code",
   "execution_count": null,
   "id": "5f6f003f-ef52-4225-9cf5-03be6573ec6e",
   "metadata": {},
   "outputs": [],
   "source": []
  },
  {
   "cell_type": "code",
   "execution_count": null,
   "id": "e4d357c2-434e-481e-beb3-167e1a6cb0c9",
   "metadata": {},
   "outputs": [],
   "source": []
  },
  {
   "cell_type": "code",
   "execution_count": null,
   "id": "5ed5c905-7bf2-417e-ae6b-e16e4c279191",
   "metadata": {},
   "outputs": [],
   "source": []
  },
  {
   "cell_type": "code",
   "execution_count": null,
   "id": "6ee34051-11fc-439a-ae2c-ae8da163424a",
   "metadata": {},
   "outputs": [],
   "source": []
  },
  {
   "cell_type": "code",
   "execution_count": null,
   "id": "92ecff6e-e298-43c6-afb3-ada870696194",
   "metadata": {},
   "outputs": [],
   "source": []
  },
  {
   "cell_type": "code",
   "execution_count": null,
   "id": "4e681ec4-4d09-453d-9d20-58688839c2f5",
   "metadata": {},
   "outputs": [],
   "source": []
  },
  {
   "cell_type": "code",
   "execution_count": null,
   "id": "12322089-393c-4763-a346-134de28bde3b",
   "metadata": {},
   "outputs": [],
   "source": []
  },
  {
   "cell_type": "code",
   "execution_count": null,
   "id": "8bd4ff08-dc5a-4746-86e9-3caba2e02cdf",
   "metadata": {},
   "outputs": [],
   "source": []
  },
  {
   "cell_type": "code",
   "execution_count": null,
   "id": "bde82a07-aac5-4424-a7c3-458974a865b1",
   "metadata": {},
   "outputs": [],
   "source": []
  },
  {
   "cell_type": "code",
   "execution_count": null,
   "id": "1b0a3fd3-e7fc-40e9-b554-b262360b8e25",
   "metadata": {},
   "outputs": [],
   "source": []
  },
  {
   "cell_type": "code",
   "execution_count": null,
   "id": "47d4d8df-c992-45ba-9010-8585cfdeaee2",
   "metadata": {},
   "outputs": [],
   "source": []
  },
  {
   "cell_type": "code",
   "execution_count": null,
   "id": "a044c4ad-a85b-4f52-b9c8-edc79e295401",
   "metadata": {},
   "outputs": [],
   "source": []
  },
  {
   "cell_type": "code",
   "execution_count": null,
   "id": "43d976b2-06c6-43a4-ae73-46f129e028af",
   "metadata": {},
   "outputs": [],
   "source": []
  },
  {
   "cell_type": "code",
   "execution_count": null,
   "id": "46ea5464-4f5e-476e-97e9-9e1ebb7a4495",
   "metadata": {},
   "outputs": [],
   "source": []
  },
  {
   "cell_type": "code",
   "execution_count": null,
   "id": "e02b494c-4ae1-49cd-8599-c7d263aa8a9b",
   "metadata": {},
   "outputs": [],
   "source": []
  },
  {
   "cell_type": "code",
   "execution_count": null,
   "id": "cf231ae3-3b03-4524-bc8a-a2c5ede18074",
   "metadata": {},
   "outputs": [],
   "source": []
  },
  {
   "cell_type": "code",
   "execution_count": null,
   "id": "6fd04675-7632-4ec0-82de-2279fd5fb6b8",
   "metadata": {},
   "outputs": [],
   "source": []
  },
  {
   "cell_type": "code",
   "execution_count": null,
   "id": "78685fa1-7374-4a10-b8f6-bbfeb3663601",
   "metadata": {},
   "outputs": [],
   "source": []
  },
  {
   "cell_type": "code",
   "execution_count": null,
   "id": "0e391270-810c-403e-9e51-d106ceaefd9c",
   "metadata": {},
   "outputs": [],
   "source": []
  },
  {
   "cell_type": "code",
   "execution_count": null,
   "id": "b7244f8b-dd43-4226-9d3a-96cdf905707d",
   "metadata": {},
   "outputs": [],
   "source": []
  },
  {
   "cell_type": "code",
   "execution_count": null,
   "id": "4c257f3a-5357-4b3b-afcc-a5cb17cfb2c9",
   "metadata": {},
   "outputs": [],
   "source": []
  },
  {
   "cell_type": "code",
   "execution_count": null,
   "id": "fc31e583-e1f8-48db-82f9-546722aef19a",
   "metadata": {},
   "outputs": [],
   "source": []
  },
  {
   "cell_type": "code",
   "execution_count": null,
   "id": "83e5d3d2-8d81-4b2b-9f87-0c45037cd6a7",
   "metadata": {},
   "outputs": [],
   "source": []
  },
  {
   "cell_type": "code",
   "execution_count": null,
   "id": "78ea294f-f0f9-4f78-a478-76188bdc6705",
   "metadata": {},
   "outputs": [],
   "source": []
  },
  {
   "cell_type": "code",
   "execution_count": null,
   "id": "9ac82065-9d8e-40a5-a3a2-ab9ca8236a9a",
   "metadata": {},
   "outputs": [],
   "source": []
  },
  {
   "cell_type": "code",
   "execution_count": null,
   "id": "7fc24560-9cd7-4099-b43e-a0897f152391",
   "metadata": {},
   "outputs": [],
   "source": []
  },
  {
   "cell_type": "code",
   "execution_count": null,
   "id": "cc99ec2e-5525-483d-94ac-251708ee284e",
   "metadata": {},
   "outputs": [],
   "source": []
  },
  {
   "cell_type": "code",
   "execution_count": null,
   "id": "7118ec26-4f16-44ea-954b-095de6d972ac",
   "metadata": {},
   "outputs": [],
   "source": []
  },
  {
   "cell_type": "code",
   "execution_count": null,
   "id": "44c40f78-7b97-47f7-92ae-1165875ebb24",
   "metadata": {},
   "outputs": [],
   "source": []
  },
  {
   "cell_type": "code",
   "execution_count": null,
   "id": "2f7117d2-60b8-4437-ae03-4002281e62d7",
   "metadata": {},
   "outputs": [],
   "source": []
  },
  {
   "cell_type": "code",
   "execution_count": null,
   "id": "475d7c0e-261e-4126-81c0-de5891dd9b96",
   "metadata": {},
   "outputs": [],
   "source": []
  },
  {
   "cell_type": "code",
   "execution_count": null,
   "id": "4f81ca2b-ebe0-41cf-8f76-316dfb531116",
   "metadata": {},
   "outputs": [],
   "source": []
  },
  {
   "cell_type": "code",
   "execution_count": null,
   "id": "d07fc43d-d447-4c12-911d-84a85136eca3",
   "metadata": {},
   "outputs": [],
   "source": []
  },
  {
   "cell_type": "code",
   "execution_count": null,
   "id": "92bfa270-1bcc-4f93-9562-32d771938155",
   "metadata": {},
   "outputs": [],
   "source": []
  },
  {
   "cell_type": "code",
   "execution_count": null,
   "id": "86d7ebe9-9e5a-492c-a372-76ec125b0d6d",
   "metadata": {},
   "outputs": [],
   "source": []
  },
  {
   "cell_type": "code",
   "execution_count": null,
   "id": "13242a96-880c-4ea9-ae91-7348e590e8d9",
   "metadata": {},
   "outputs": [],
   "source": []
  },
  {
   "cell_type": "code",
   "execution_count": null,
   "id": "9e86dd27-3481-42cf-80b7-52953d2904e9",
   "metadata": {},
   "outputs": [],
   "source": []
  },
  {
   "cell_type": "code",
   "execution_count": null,
   "id": "ab0a5dbc-dc29-4bbb-bb02-8e9cd3456cbd",
   "metadata": {},
   "outputs": [],
   "source": []
  },
  {
   "cell_type": "code",
   "execution_count": null,
   "id": "033f2398-4c62-4b80-8934-874509086b2e",
   "metadata": {},
   "outputs": [],
   "source": []
  },
  {
   "cell_type": "code",
   "execution_count": null,
   "id": "a8104aad-a514-4665-8f00-526603e8cd07",
   "metadata": {},
   "outputs": [],
   "source": []
  }
 ],
 "metadata": {
  "kernelspec": {
   "display_name": "dataScience",
   "language": "python",
   "name": "datascience"
  },
  "language_info": {
   "codemirror_mode": {
    "name": "ipython",
    "version": 3
   },
   "file_extension": ".py",
   "mimetype": "text/x-python",
   "name": "python",
   "nbconvert_exporter": "python",
   "pygments_lexer": "ipython3",
   "version": "3.7.9"
  }
 },
 "nbformat": 4,
 "nbformat_minor": 5
}
