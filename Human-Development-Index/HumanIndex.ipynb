{
 "cells": [
  {
   "cell_type": "markdown",
   "id": "8b8b6d4d-acfd-4772-8ab9-c77aad9ce562",
   "metadata": {},
   "source": [
    "# Human Development Index and Components"
   ]
  },
  {
   "cell_type": "markdown",
   "id": "f7625177-f7a3-420e-af81-b81b5ae32a53",
   "metadata": {},
   "source": [
    "## Import Libraries"
   ]
  },
  {
   "cell_type": "code",
   "execution_count": 2,
   "id": "f03f1e93-3274-4cdf-8a2d-92f543cd919a",
   "metadata": {},
   "outputs": [],
   "source": [
    "import pandas as pd\n",
    "import numpy as np\n",
    "import matplotlib.pyplot as plt \n",
    "import seaborn as sns\n",
    "%matplotlib inline"
   ]
  },
  {
   "cell_type": "code",
   "execution_count": null,
   "id": "05554d72-7f61-4f13-b8ab-2cbecd96f21f",
   "metadata": {},
   "outputs": [],
   "source": []
  },
  {
   "cell_type": "markdown",
   "id": "403444e9-148f-41df-8db0-b2e2f1265b4b",
   "metadata": {},
   "source": [
    "## Read Data"
   ]
  },
  {
   "cell_type": "code",
   "execution_count": 5,
   "id": "97005dc6-a7aa-410f-9597-882bd588a977",
   "metadata": {},
   "outputs": [],
   "source": [
    "data = pd.read_csv('dataset/Human.csv', encoding='latin-1')"
   ]
  },
  {
   "cell_type": "code",
   "execution_count": 6,
   "id": "43acc0aa-eb57-495e-a0a1-53c84adfeac3",
   "metadata": {},
   "outputs": [
    {
     "data": {
      "text/html": [
       "<div>\n",
       "<style scoped>\n",
       "    .dataframe tbody tr th:only-of-type {\n",
       "        vertical-align: middle;\n",
       "    }\n",
       "\n",
       "    .dataframe tbody tr th {\n",
       "        vertical-align: top;\n",
       "    }\n",
       "\n",
       "    .dataframe thead th {\n",
       "        text-align: right;\n",
       "    }\n",
       "</style>\n",
       "<table border=\"1\" class=\"dataframe\">\n",
       "  <thead>\n",
       "    <tr style=\"text-align: right;\">\n",
       "      <th></th>\n",
       "      <th>HDI rank</th>\n",
       "      <th>Country</th>\n",
       "      <th>HUMAN DEVELOPMENT</th>\n",
       "      <th>Human Development Index (HDI)</th>\n",
       "      <th>Life expectancy at birth</th>\n",
       "      <th>Expected years of schooling</th>\n",
       "      <th>Mean years of schooling</th>\n",
       "      <th>Gross national income (GNI) per capita</th>\n",
       "      <th>GNI per capita rank minus HDI rank</th>\n",
       "      <th>HDI rank.1</th>\n",
       "      <th>Unnamed: 10</th>\n",
       "      <th>Unnamed: 11</th>\n",
       "    </tr>\n",
       "  </thead>\n",
       "  <tbody>\n",
       "    <tr>\n",
       "      <th>0</th>\n",
       "      <td>1</td>\n",
       "      <td>Switzerland</td>\n",
       "      <td>VERY HIGH</td>\n",
       "      <td>0.962</td>\n",
       "      <td>84.0</td>\n",
       "      <td>16.5</td>\n",
       "      <td>13.9</td>\n",
       "      <td>66,933</td>\n",
       "      <td>5</td>\n",
       "      <td>3</td>\n",
       "      <td>NaN</td>\n",
       "      <td>NaN</td>\n",
       "    </tr>\n",
       "    <tr>\n",
       "      <th>1</th>\n",
       "      <td>2</td>\n",
       "      <td>Norway</td>\n",
       "      <td>VERY HIGH</td>\n",
       "      <td>0.961</td>\n",
       "      <td>83.2</td>\n",
       "      <td>18.2</td>\n",
       "      <td>13.0</td>\n",
       "      <td>64,660</td>\n",
       "      <td>6</td>\n",
       "      <td>1</td>\n",
       "      <td>NaN</td>\n",
       "      <td>NaN</td>\n",
       "    </tr>\n",
       "    <tr>\n",
       "      <th>2</th>\n",
       "      <td>3</td>\n",
       "      <td>Iceland</td>\n",
       "      <td>VERY HIGH</td>\n",
       "      <td>0.959</td>\n",
       "      <td>82.7</td>\n",
       "      <td>19.2</td>\n",
       "      <td>13.8</td>\n",
       "      <td>55,782</td>\n",
       "      <td>11</td>\n",
       "      <td>2</td>\n",
       "      <td>NaN</td>\n",
       "      <td>NaN</td>\n",
       "    </tr>\n",
       "    <tr>\n",
       "      <th>3</th>\n",
       "      <td>4</td>\n",
       "      <td>Hong Kong, China (SAR)</td>\n",
       "      <td>VERY HIGH</td>\n",
       "      <td>0.952</td>\n",
       "      <td>85.5</td>\n",
       "      <td>17.3</td>\n",
       "      <td>12.2</td>\n",
       "      <td>62,607</td>\n",
       "      <td>6</td>\n",
       "      <td>4</td>\n",
       "      <td>NaN</td>\n",
       "      <td>NaN</td>\n",
       "    </tr>\n",
       "    <tr>\n",
       "      <th>4</th>\n",
       "      <td>5</td>\n",
       "      <td>Australia</td>\n",
       "      <td>VERY HIGH</td>\n",
       "      <td>0.951</td>\n",
       "      <td>84.5</td>\n",
       "      <td>21.1</td>\n",
       "      <td>12.7</td>\n",
       "      <td>49,238</td>\n",
       "      <td>18</td>\n",
       "      <td>5</td>\n",
       "      <td>NaN</td>\n",
       "      <td>NaN</td>\n",
       "    </tr>\n",
       "  </tbody>\n",
       "</table>\n",
       "</div>"
      ],
      "text/plain": [
       "   HDI rank                 Country HUMAN DEVELOPMENT  \\\n",
       "0         1             Switzerland        VERY HIGH    \n",
       "1         2                  Norway        VERY HIGH    \n",
       "2         3                 Iceland        VERY HIGH    \n",
       "3         4  Hong Kong, China (SAR)        VERY HIGH    \n",
       "4         5               Australia        VERY HIGH    \n",
       "\n",
       "  Human Development Index (HDI)   Life expectancy at birth  \\\n",
       "0                          0.962                      84.0   \n",
       "1                          0.961                      83.2   \n",
       "2                          0.959                      82.7   \n",
       "3                          0.952                      85.5   \n",
       "4                          0.951                      84.5   \n",
       "\n",
       "  Expected years of schooling Mean years of schooling  \\\n",
       "0                        16.5                    13.9   \n",
       "1                        18.2                    13.0   \n",
       "2                        19.2                    13.8   \n",
       "3                        17.3                    12.2   \n",
       "4                        21.1                    12.7   \n",
       "\n",
       "  Gross national income (GNI) per capita GNI per capita rank minus HDI rank  \\\n",
       "0                                 66,933                                  5   \n",
       "1                                 64,660                                  6   \n",
       "2                                 55,782                                 11   \n",
       "3                                 62,607                                  6   \n",
       "4                                 49,238                                 18   \n",
       "\n",
       "  HDI rank.1  Unnamed: 10  Unnamed: 11  \n",
       "0          3          NaN          NaN  \n",
       "1          1          NaN          NaN  \n",
       "2          2          NaN          NaN  \n",
       "3          4          NaN          NaN  \n",
       "4          5          NaN          NaN  "
      ]
     },
     "execution_count": 6,
     "metadata": {},
     "output_type": "execute_result"
    }
   ],
   "source": [
    "data.head()"
   ]
  },
  {
   "cell_type": "code",
   "execution_count": null,
   "id": "efb69eaf-cb42-4818-ba86-50b96b15a9d7",
   "metadata": {},
   "outputs": [],
   "source": []
  },
  {
   "cell_type": "code",
   "execution_count": null,
   "id": "bac35669-7246-4a28-9bf2-c74fac2f094e",
   "metadata": {},
   "outputs": [],
   "source": []
  },
  {
   "cell_type": "code",
   "execution_count": null,
   "id": "8fa66744-fb25-4c88-8f04-721072dd7cff",
   "metadata": {},
   "outputs": [],
   "source": []
  },
  {
   "cell_type": "code",
   "execution_count": null,
   "id": "ca9df10d-ed6b-49d3-9e27-0e75f961a01b",
   "metadata": {},
   "outputs": [],
   "source": []
  },
  {
   "cell_type": "code",
   "execution_count": null,
   "id": "09996ff5-af7f-4fbe-a079-ef751af95e56",
   "metadata": {},
   "outputs": [],
   "source": []
  },
  {
   "cell_type": "code",
   "execution_count": null,
   "id": "51266891-9bab-464d-aec5-77da90dbe430",
   "metadata": {},
   "outputs": [],
   "source": []
  },
  {
   "cell_type": "code",
   "execution_count": null,
   "id": "2d79a948-a2ab-4bd9-a3c5-8a994b02b667",
   "metadata": {},
   "outputs": [],
   "source": []
  },
  {
   "cell_type": "code",
   "execution_count": null,
   "id": "2b9fd8c6-dca3-41c2-b4be-b050d1c18d20",
   "metadata": {},
   "outputs": [],
   "source": []
  },
  {
   "cell_type": "code",
   "execution_count": null,
   "id": "c6146ce6-2783-4ade-9fbb-0c67dbdd9232",
   "metadata": {},
   "outputs": [],
   "source": []
  },
  {
   "cell_type": "code",
   "execution_count": null,
   "id": "2e844766-e283-4864-80dc-8e13d55f521a",
   "metadata": {},
   "outputs": [],
   "source": []
  },
  {
   "cell_type": "code",
   "execution_count": null,
   "id": "ce62c8f3-00b4-42c9-a1c5-acc5fceea391",
   "metadata": {},
   "outputs": [],
   "source": []
  },
  {
   "cell_type": "code",
   "execution_count": null,
   "id": "d5e97585-a341-4ccf-acb0-b1cfd87984ba",
   "metadata": {},
   "outputs": [],
   "source": []
  },
  {
   "cell_type": "code",
   "execution_count": null,
   "id": "add97098-3bf7-488d-a6bc-c1cc8fcea060",
   "metadata": {},
   "outputs": [],
   "source": []
  },
  {
   "cell_type": "code",
   "execution_count": null,
   "id": "cd4127dd-fbfe-44be-9fbf-5103bd58f557",
   "metadata": {},
   "outputs": [],
   "source": []
  },
  {
   "cell_type": "code",
   "execution_count": null,
   "id": "ee00b2eb-872c-48ef-876b-6cdc1427ed77",
   "metadata": {},
   "outputs": [],
   "source": []
  },
  {
   "cell_type": "code",
   "execution_count": null,
   "id": "cc81f603-ee4f-4ee7-b674-989db6602b1a",
   "metadata": {},
   "outputs": [],
   "source": []
  },
  {
   "cell_type": "code",
   "execution_count": null,
   "id": "c4e5050c-e9d1-4944-b247-fbe5ca65f38f",
   "metadata": {},
   "outputs": [],
   "source": []
  },
  {
   "cell_type": "code",
   "execution_count": null,
   "id": "be1d87ee-5c6d-47b4-a235-3d08b6825947",
   "metadata": {},
   "outputs": [],
   "source": []
  },
  {
   "cell_type": "code",
   "execution_count": null,
   "id": "37fb6c32-f55c-4268-9805-c31a74502af8",
   "metadata": {},
   "outputs": [],
   "source": []
  },
  {
   "cell_type": "code",
   "execution_count": null,
   "id": "0fb4ad62-3820-4ce6-b2d9-b403fa52552c",
   "metadata": {},
   "outputs": [],
   "source": []
  },
  {
   "cell_type": "code",
   "execution_count": null,
   "id": "dd4915fa-da48-4e94-88e5-1db0009b3e0e",
   "metadata": {},
   "outputs": [],
   "source": []
  },
  {
   "cell_type": "code",
   "execution_count": null,
   "id": "0b7de98c-b2bb-4929-bae2-1286e08e94c1",
   "metadata": {},
   "outputs": [],
   "source": []
  },
  {
   "cell_type": "code",
   "execution_count": null,
   "id": "c32ce8cd-4ffd-4d94-8aca-edeb98b507cb",
   "metadata": {},
   "outputs": [],
   "source": []
  },
  {
   "cell_type": "code",
   "execution_count": null,
   "id": "d234e089-3419-4d63-bc51-88e0f8bf9171",
   "metadata": {},
   "outputs": [],
   "source": []
  },
  {
   "cell_type": "code",
   "execution_count": null,
   "id": "64145cdf-7c76-458f-a051-ed3558a345bd",
   "metadata": {},
   "outputs": [],
   "source": []
  },
  {
   "cell_type": "code",
   "execution_count": null,
   "id": "66ff7e9c-d8ec-47ff-b26e-b68e0fae2497",
   "metadata": {},
   "outputs": [],
   "source": []
  },
  {
   "cell_type": "code",
   "execution_count": null,
   "id": "b56670b1-1791-49b1-908f-4d6df4d13722",
   "metadata": {},
   "outputs": [],
   "source": []
  },
  {
   "cell_type": "code",
   "execution_count": null,
   "id": "b823d88c-c052-4c5b-9e14-99bc936d95e8",
   "metadata": {},
   "outputs": [],
   "source": []
  },
  {
   "cell_type": "code",
   "execution_count": null,
   "id": "c80adf0d-85d3-45e2-a8a5-473127ee37bf",
   "metadata": {},
   "outputs": [],
   "source": []
  },
  {
   "cell_type": "code",
   "execution_count": null,
   "id": "dfff2774-0ad2-4dfb-8ae8-65aa8a15b854",
   "metadata": {},
   "outputs": [],
   "source": []
  },
  {
   "cell_type": "code",
   "execution_count": null,
   "id": "e13d58af-bd23-46be-b2d1-3eb71888bff9",
   "metadata": {},
   "outputs": [],
   "source": []
  },
  {
   "cell_type": "code",
   "execution_count": null,
   "id": "a3c5159f-477c-48c1-ad6a-06d58d8565cb",
   "metadata": {},
   "outputs": [],
   "source": []
  }
 ],
 "metadata": {
  "kernelspec": {
   "display_name": "dataScience",
   "language": "python",
   "name": "datascience"
  },
  "language_info": {
   "codemirror_mode": {
    "name": "ipython",
    "version": 3
   },
   "file_extension": ".py",
   "mimetype": "text/x-python",
   "name": "python",
   "nbconvert_exporter": "python",
   "pygments_lexer": "ipython3",
   "version": "3.7.9"
  }
 },
 "nbformat": 4,
 "nbformat_minor": 5
}
