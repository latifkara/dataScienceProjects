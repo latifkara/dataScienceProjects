{
 "cells": [
  {
   "cell_type": "markdown",
   "id": "8b8b6d4d-acfd-4772-8ab9-c77aad9ce562",
   "metadata": {},
   "source": [
    "# Human Development Index and Components"
   ]
  },
  {
   "cell_type": "markdown",
   "id": "f7625177-f7a3-420e-af81-b81b5ae32a53",
   "metadata": {},
   "source": [
    "## Import Libraries"
   ]
  },
  {
   "cell_type": "code",
   "execution_count": 1,
   "id": "23e7f7c4-9f69-4ca2-918e-040fe366524a",
   "metadata": {},
   "outputs": [],
   "source": [
    "import pandas as pd\n",
    "import numpy as np\n",
    "import matplotlib.pyplot as plt \n",
    "import seaborn as sns\n",
    "from sklearn.preprocessing import StandardScaler, LabelEncoder, MinMaxScaler\n",
    "from sklearn.metrics import r2_score, mean_squared_error\n",
    "%matplotlib inline"
   ]
  },
  {
   "cell_type": "code",
   "execution_count": null,
   "id": "05554d72-7f61-4f13-b8ab-2cbecd96f21f",
   "metadata": {},
   "outputs": [],
   "source": []
  },
  {
   "cell_type": "markdown",
   "id": "403444e9-148f-41df-8db0-b2e2f1265b4b",
   "metadata": {},
   "source": [
    "## Read Data"
   ]
  },
  {
   "cell_type": "code",
   "execution_count": 2,
   "id": "97005dc6-a7aa-410f-9597-882bd588a977",
   "metadata": {},
   "outputs": [],
   "source": [
    "data = pd.read_csv('dataset/Human.csv', encoding='latin-1', delimiter=',', quotechar='\"')"
   ]
  },
  {
   "cell_type": "code",
   "execution_count": 3,
   "id": "43acc0aa-eb57-495e-a0a1-53c84adfeac3",
   "metadata": {},
   "outputs": [
    {
     "data": {
      "text/html": [
       "<div>\n",
       "<style scoped>\n",
       "    .dataframe tbody tr th:only-of-type {\n",
       "        vertical-align: middle;\n",
       "    }\n",
       "\n",
       "    .dataframe tbody tr th {\n",
       "        vertical-align: top;\n",
       "    }\n",
       "\n",
       "    .dataframe thead th {\n",
       "        text-align: right;\n",
       "    }\n",
       "</style>\n",
       "<table border=\"1\" class=\"dataframe\">\n",
       "  <thead>\n",
       "    <tr style=\"text-align: right;\">\n",
       "      <th></th>\n",
       "      <th>HDI rank</th>\n",
       "      <th>Country</th>\n",
       "      <th>HUMAN DEVELOPMENT</th>\n",
       "      <th>Human Development Index (HDI)</th>\n",
       "      <th>Life expectancy at birth</th>\n",
       "      <th>Expected years of schooling</th>\n",
       "      <th>Mean years of schooling</th>\n",
       "      <th>Gross national income (GNI) per capita</th>\n",
       "      <th>GNI per capita rank minus HDI rank</th>\n",
       "      <th>HDI rank.1</th>\n",
       "      <th>Unnamed: 10</th>\n",
       "      <th>Unnamed: 11</th>\n",
       "    </tr>\n",
       "  </thead>\n",
       "  <tbody>\n",
       "    <tr>\n",
       "      <th>0</th>\n",
       "      <td>1</td>\n",
       "      <td>Switzerland</td>\n",
       "      <td>VERY HIGH</td>\n",
       "      <td>0.962</td>\n",
       "      <td>84.0</td>\n",
       "      <td>16.5</td>\n",
       "      <td>13.9</td>\n",
       "      <td>66,933</td>\n",
       "      <td>5</td>\n",
       "      <td>3</td>\n",
       "      <td>NaN</td>\n",
       "      <td>NaN</td>\n",
       "    </tr>\n",
       "    <tr>\n",
       "      <th>1</th>\n",
       "      <td>2</td>\n",
       "      <td>Norway</td>\n",
       "      <td>VERY HIGH</td>\n",
       "      <td>0.961</td>\n",
       "      <td>83.2</td>\n",
       "      <td>18.2</td>\n",
       "      <td>13.0</td>\n",
       "      <td>64,660</td>\n",
       "      <td>6</td>\n",
       "      <td>1</td>\n",
       "      <td>NaN</td>\n",
       "      <td>NaN</td>\n",
       "    </tr>\n",
       "    <tr>\n",
       "      <th>2</th>\n",
       "      <td>3</td>\n",
       "      <td>Iceland</td>\n",
       "      <td>VERY HIGH</td>\n",
       "      <td>0.959</td>\n",
       "      <td>82.7</td>\n",
       "      <td>19.2</td>\n",
       "      <td>13.8</td>\n",
       "      <td>55,782</td>\n",
       "      <td>11</td>\n",
       "      <td>2</td>\n",
       "      <td>NaN</td>\n",
       "      <td>NaN</td>\n",
       "    </tr>\n",
       "    <tr>\n",
       "      <th>3</th>\n",
       "      <td>4</td>\n",
       "      <td>Hong Kong, China (SAR)</td>\n",
       "      <td>VERY HIGH</td>\n",
       "      <td>0.952</td>\n",
       "      <td>85.5</td>\n",
       "      <td>17.3</td>\n",
       "      <td>12.2</td>\n",
       "      <td>62,607</td>\n",
       "      <td>6</td>\n",
       "      <td>4</td>\n",
       "      <td>NaN</td>\n",
       "      <td>NaN</td>\n",
       "    </tr>\n",
       "    <tr>\n",
       "      <th>4</th>\n",
       "      <td>5</td>\n",
       "      <td>Australia</td>\n",
       "      <td>VERY HIGH</td>\n",
       "      <td>0.951</td>\n",
       "      <td>84.5</td>\n",
       "      <td>21.1</td>\n",
       "      <td>12.7</td>\n",
       "      <td>49,238</td>\n",
       "      <td>18</td>\n",
       "      <td>5</td>\n",
       "      <td>NaN</td>\n",
       "      <td>NaN</td>\n",
       "    </tr>\n",
       "  </tbody>\n",
       "</table>\n",
       "</div>"
      ],
      "text/plain": [
       "   HDI rank                 Country HUMAN DEVELOPMENT  \\\n",
       "0         1             Switzerland        VERY HIGH    \n",
       "1         2                  Norway        VERY HIGH    \n",
       "2         3                 Iceland        VERY HIGH    \n",
       "3         4  Hong Kong, China (SAR)        VERY HIGH    \n",
       "4         5               Australia        VERY HIGH    \n",
       "\n",
       "  Human Development Index (HDI)   Life expectancy at birth  \\\n",
       "0                          0.962                      84.0   \n",
       "1                          0.961                      83.2   \n",
       "2                          0.959                      82.7   \n",
       "3                          0.952                      85.5   \n",
       "4                          0.951                      84.5   \n",
       "\n",
       "  Expected years of schooling Mean years of schooling  \\\n",
       "0                        16.5                    13.9   \n",
       "1                        18.2                    13.0   \n",
       "2                        19.2                    13.8   \n",
       "3                        17.3                    12.2   \n",
       "4                        21.1                    12.7   \n",
       "\n",
       "  Gross national income (GNI) per capita GNI per capita rank minus HDI rank  \\\n",
       "0                                 66,933                                  5   \n",
       "1                                 64,660                                  6   \n",
       "2                                 55,782                                 11   \n",
       "3                                 62,607                                  6   \n",
       "4                                 49,238                                 18   \n",
       "\n",
       "  HDI rank.1  Unnamed: 10  Unnamed: 11  \n",
       "0          3          NaN          NaN  \n",
       "1          1          NaN          NaN  \n",
       "2          2          NaN          NaN  \n",
       "3          4          NaN          NaN  \n",
       "4          5          NaN          NaN  "
      ]
     },
     "execution_count": 3,
     "metadata": {},
     "output_type": "execute_result"
    }
   ],
   "source": [
    "data.head()"
   ]
  },
  {
   "cell_type": "code",
   "execution_count": 4,
   "id": "efb69eaf-cb42-4818-ba86-50b96b15a9d7",
   "metadata": {},
   "outputs": [
    {
     "data": {
      "text/plain": [
       "(195, 12)"
      ]
     },
     "execution_count": 4,
     "metadata": {},
     "output_type": "execute_result"
    }
   ],
   "source": [
    "data.shape"
   ]
  },
  {
   "cell_type": "code",
   "execution_count": 5,
   "id": "88c56ec9-a5c2-4e80-bc31-8f6d2f3029d4",
   "metadata": {},
   "outputs": [
    {
     "data": {
      "text/plain": [
       "VERY HIGH     66\n",
       "HIGH          49\n",
       "MEDIUM        44\n",
       "LOW           32\n",
       "OTHER          4\n",
       "Name: HUMAN DEVELOPMENT, dtype: int64"
      ]
     },
     "execution_count": 5,
     "metadata": {},
     "output_type": "execute_result"
    }
   ],
   "source": [
    "data['HUMAN DEVELOPMENT'].value_counts()"
   ]
  },
  {
   "cell_type": "code",
   "execution_count": 6,
   "id": "d2ebed19-914c-452b-8b48-e2de1d5e4d0b",
   "metadata": {},
   "outputs": [
    {
     "data": {
      "text/html": [
       "<div>\n",
       "<style scoped>\n",
       "    .dataframe tbody tr th:only-of-type {\n",
       "        vertical-align: middle;\n",
       "    }\n",
       "\n",
       "    .dataframe tbody tr th {\n",
       "        vertical-align: top;\n",
       "    }\n",
       "\n",
       "    .dataframe thead th {\n",
       "        text-align: right;\n",
       "    }\n",
       "</style>\n",
       "<table border=\"1\" class=\"dataframe\">\n",
       "  <thead>\n",
       "    <tr style=\"text-align: right;\">\n",
       "      <th></th>\n",
       "      <th>HDI rank</th>\n",
       "      <th>Life expectancy at birth</th>\n",
       "      <th>Unnamed: 10</th>\n",
       "      <th>Unnamed: 11</th>\n",
       "    </tr>\n",
       "    <tr>\n",
       "      <th>HUMAN DEVELOPMENT</th>\n",
       "      <th></th>\n",
       "      <th></th>\n",
       "      <th></th>\n",
       "      <th></th>\n",
       "    </tr>\n",
       "  </thead>\n",
       "  <tbody>\n",
       "    <tr>\n",
       "      <th>HIGH</th>\n",
       "      <td>90.693878</td>\n",
       "      <td>72.093878</td>\n",
       "      <td>NaN</td>\n",
       "      <td>NaN</td>\n",
       "    </tr>\n",
       "    <tr>\n",
       "      <th>LOW</th>\n",
       "      <td>175.437500</td>\n",
       "      <td>61.056250</td>\n",
       "      <td>NaN</td>\n",
       "      <td>NaN</td>\n",
       "    </tr>\n",
       "    <tr>\n",
       "      <th>MEDIUM</th>\n",
       "      <td>137.340909</td>\n",
       "      <td>66.775000</td>\n",
       "      <td>NaN</td>\n",
       "      <td>NaN</td>\n",
       "    </tr>\n",
       "    <tr>\n",
       "      <th>OTHER</th>\n",
       "      <td>193.500000</td>\n",
       "      <td>69.525000</td>\n",
       "      <td>NaN</td>\n",
       "      <td>NaN</td>\n",
       "    </tr>\n",
       "    <tr>\n",
       "      <th>VERY HIGH</th>\n",
       "      <td>33.318182</td>\n",
       "      <td>78.736364</td>\n",
       "      <td>NaN</td>\n",
       "      <td>NaN</td>\n",
       "    </tr>\n",
       "  </tbody>\n",
       "</table>\n",
       "</div>"
      ],
      "text/plain": [
       "                     HDI rank  Life expectancy at birth  Unnamed: 10  \\\n",
       "HUMAN DEVELOPMENT                                                      \n",
       "HIGH                90.693878                 72.093878          NaN   \n",
       "LOW                175.437500                 61.056250          NaN   \n",
       "MEDIUM             137.340909                 66.775000          NaN   \n",
       "OTHER              193.500000                 69.525000          NaN   \n",
       "VERY HIGH           33.318182                 78.736364          NaN   \n",
       "\n",
       "                   Unnamed: 11  \n",
       "HUMAN DEVELOPMENT               \n",
       "HIGH                       NaN  \n",
       "LOW                        NaN  \n",
       "MEDIUM                     NaN  \n",
       "OTHER                      NaN  \n",
       "VERY HIGH                  NaN  "
      ]
     },
     "execution_count": 6,
     "metadata": {},
     "output_type": "execute_result"
    }
   ],
   "source": [
    "data.groupby('HUMAN DEVELOPMENT').mean()"
   ]
  },
  {
   "cell_type": "code",
   "execution_count": null,
   "id": "410fbcbf-6385-4598-8b9f-c90de819b55e",
   "metadata": {},
   "outputs": [],
   "source": []
  },
  {
   "cell_type": "code",
   "execution_count": null,
   "id": "ff1132e7-180f-4622-920a-9afc89a76c5c",
   "metadata": {},
   "outputs": [],
   "source": []
  },
  {
   "cell_type": "code",
   "execution_count": null,
   "id": "b6f0df5f-e2a2-4441-ade5-be7a67cd51e3",
   "metadata": {},
   "outputs": [],
   "source": []
  },
  {
   "cell_type": "markdown",
   "id": "297d1da9-5faa-404e-89ad-ce3fce992d6e",
   "metadata": {},
   "source": [
    "## Analysis Data"
   ]
  },
  {
   "cell_type": "code",
   "execution_count": 7,
   "id": "8fa66744-fb25-4c88-8f04-721072dd7cff",
   "metadata": {},
   "outputs": [
    {
     "name": "stdout",
     "output_type": "stream",
     "text": [
      "<class 'pandas.core.frame.DataFrame'>\n",
      "RangeIndex: 195 entries, 0 to 194\n",
      "Data columns (total 12 columns):\n",
      " #   Column                                  Non-Null Count  Dtype  \n",
      "---  ------                                  --------------  -----  \n",
      " 0   HDI rank                                195 non-null    int64  \n",
      " 1   Country                                 195 non-null    object \n",
      " 2   HUMAN DEVELOPMENT                       195 non-null    object \n",
      " 3   Human Development Index (HDI)           195 non-null    object \n",
      " 4   Life expectancy at birth                195 non-null    float64\n",
      " 5   Expected years of schooling             195 non-null    object \n",
      " 6   Mean years of schooling                 195 non-null    object \n",
      " 7   Gross national income (GNI) per capita  195 non-null    object \n",
      " 8   GNI per capita rank minus HDI rank      195 non-null    object \n",
      " 9   HDI rank.1                              195 non-null    object \n",
      " 10  Unnamed: 10                             0 non-null      float64\n",
      " 11  Unnamed: 11                             0 non-null      float64\n",
      "dtypes: float64(3), int64(1), object(8)\n",
      "memory usage: 18.4+ KB\n"
     ]
    }
   ],
   "source": [
    "data.info()"
   ]
  },
  {
   "cell_type": "code",
   "execution_count": 8,
   "id": "ca9df10d-ed6b-49d3-9e27-0e75f961a01b",
   "metadata": {},
   "outputs": [
    {
     "data": {
      "text/html": [
       "<div>\n",
       "<style scoped>\n",
       "    .dataframe tbody tr th:only-of-type {\n",
       "        vertical-align: middle;\n",
       "    }\n",
       "\n",
       "    .dataframe tbody tr th {\n",
       "        vertical-align: top;\n",
       "    }\n",
       "\n",
       "    .dataframe thead th {\n",
       "        text-align: right;\n",
       "    }\n",
       "</style>\n",
       "<table border=\"1\" class=\"dataframe\">\n",
       "  <thead>\n",
       "    <tr style=\"text-align: right;\">\n",
       "      <th></th>\n",
       "      <th>HDI rank</th>\n",
       "      <th>Life expectancy at birth</th>\n",
       "      <th>Unnamed: 10</th>\n",
       "      <th>Unnamed: 11</th>\n",
       "    </tr>\n",
       "  </thead>\n",
       "  <tbody>\n",
       "    <tr>\n",
       "      <th>count</th>\n",
       "      <td>195.000000</td>\n",
       "      <td>195.000000</td>\n",
       "      <td>0.0</td>\n",
       "      <td>0.0</td>\n",
       "    </tr>\n",
       "    <tr>\n",
       "      <th>mean</th>\n",
       "      <td>97.815385</td>\n",
       "      <td>71.277949</td>\n",
       "      <td>NaN</td>\n",
       "      <td>NaN</td>\n",
       "    </tr>\n",
       "    <tr>\n",
       "      <th>std</th>\n",
       "      <td>56.467551</td>\n",
       "      <td>7.746484</td>\n",
       "      <td>NaN</td>\n",
       "      <td>NaN</td>\n",
       "    </tr>\n",
       "    <tr>\n",
       "      <th>min</th>\n",
       "      <td>1.000000</td>\n",
       "      <td>52.500000</td>\n",
       "      <td>NaN</td>\n",
       "      <td>NaN</td>\n",
       "    </tr>\n",
       "    <tr>\n",
       "      <th>25%</th>\n",
       "      <td>49.500000</td>\n",
       "      <td>65.700000</td>\n",
       "      <td>NaN</td>\n",
       "      <td>NaN</td>\n",
       "    </tr>\n",
       "    <tr>\n",
       "      <th>50%</th>\n",
       "      <td>97.000000</td>\n",
       "      <td>71.700000</td>\n",
       "      <td>NaN</td>\n",
       "      <td>NaN</td>\n",
       "    </tr>\n",
       "    <tr>\n",
       "      <th>75%</th>\n",
       "      <td>146.000000</td>\n",
       "      <td>76.700000</td>\n",
       "      <td>NaN</td>\n",
       "      <td>NaN</td>\n",
       "    </tr>\n",
       "    <tr>\n",
       "      <th>max</th>\n",
       "      <td>195.000000</td>\n",
       "      <td>85.900000</td>\n",
       "      <td>NaN</td>\n",
       "      <td>NaN</td>\n",
       "    </tr>\n",
       "  </tbody>\n",
       "</table>\n",
       "</div>"
      ],
      "text/plain": [
       "         HDI rank  Life expectancy at birth  Unnamed: 10  Unnamed: 11\n",
       "count  195.000000                195.000000          0.0          0.0\n",
       "mean    97.815385                 71.277949          NaN          NaN\n",
       "std     56.467551                  7.746484          NaN          NaN\n",
       "min      1.000000                 52.500000          NaN          NaN\n",
       "25%     49.500000                 65.700000          NaN          NaN\n",
       "50%     97.000000                 71.700000          NaN          NaN\n",
       "75%    146.000000                 76.700000          NaN          NaN\n",
       "max    195.000000                 85.900000          NaN          NaN"
      ]
     },
     "execution_count": 8,
     "metadata": {},
     "output_type": "execute_result"
    }
   ],
   "source": [
    "data.describe()"
   ]
  },
  {
   "cell_type": "code",
   "execution_count": 9,
   "id": "1aef6592-d093-441a-815f-08efffea2dfa",
   "metadata": {},
   "outputs": [],
   "source": [
    "countries = data['Country'].unique()"
   ]
  },
  {
   "cell_type": "code",
   "execution_count": 10,
   "id": "cf918056-7e34-4ade-9802-07151567df7d",
   "metadata": {},
   "outputs": [
    {
     "data": {
      "text/plain": [
       "(195,)"
      ]
     },
     "execution_count": 10,
     "metadata": {},
     "output_type": "execute_result"
    }
   ],
   "source": [
    "countries.shape"
   ]
  },
  {
   "cell_type": "code",
   "execution_count": null,
   "id": "16b0531a-1f42-40a1-b548-2bde19821ff0",
   "metadata": {},
   "outputs": [],
   "source": []
  },
  {
   "cell_type": "markdown",
   "id": "e1815eed-0dc9-4c96-9dee-f8b79361e7ff",
   "metadata": {},
   "source": [
    "### Missed Value"
   ]
  },
  {
   "cell_type": "code",
   "execution_count": 14,
   "id": "2b9fd8c6-dca3-41c2-b4be-b050d1c18d20",
   "metadata": {},
   "outputs": [],
   "source": [
    "data.drop(['Unnamed: 10', 'Unnamed: 11'], axis=1, inplace=True)"
   ]
  },
  {
   "cell_type": "code",
   "execution_count": 18,
   "id": "c22783de-262a-4452-a6ca-5a8db8007439",
   "metadata": {},
   "outputs": [],
   "source": [
    "data = data.replace(\"..\", np.nan)"
   ]
  },
  {
   "cell_type": "code",
   "execution_count": 30,
   "id": "51266891-9bab-464d-aec5-77da90dbe430",
   "metadata": {},
   "outputs": [
    {
     "data": {
      "text/plain": [
       "0"
      ]
     },
     "execution_count": 30,
     "metadata": {},
     "output_type": "execute_result"
    }
   ],
   "source": [
    "data.isnull().values.sum()"
   ]
  },
  {
   "cell_type": "code",
   "execution_count": 31,
   "id": "2d79a948-a2ab-4bd9-a3c5-8a994b02b667",
   "metadata": {},
   "outputs": [
    {
     "data": {
      "text/plain": [
       "HDI rank                                  0\n",
       "Country                                   0\n",
       "HUMAN DEVELOPMENT                         0\n",
       "Human Development Index (HDI)             0\n",
       "Life expectancy at birth                  0\n",
       "Expected years of schooling               0\n",
       "Mean years of schooling                   0\n",
       "Gross national income (GNI) per capita    0\n",
       "GNI per capita rank minus HDI rank        0\n",
       "HDI rank.1                                0\n",
       "dtype: int64"
      ]
     },
     "execution_count": 31,
     "metadata": {},
     "output_type": "execute_result"
    }
   ],
   "source": [
    "data.isnull().sum()"
   ]
  },
  {
   "cell_type": "code",
   "execution_count": 23,
   "id": "c6146ce6-2783-4ade-9fbb-0c67dbdd9232",
   "metadata": {},
   "outputs": [
    {
     "name": "stderr",
     "output_type": "stream",
     "text": [
      "F:\\4.yil_birinci_dnem\\Data Science\\data\\lib\\site-packages\\ipykernel_launcher.py:1: FutureWarning: Dropping of nuisance columns in DataFrame reductions (with 'numeric_only=None') is deprecated; in a future version this will raise TypeError.  Select only valid columns before calling the reduction.\n",
      "  \"\"\"Entry point for launching an IPython kernel.\n"
     ]
    }
   ],
   "source": [
    "data = data.fillna(data.median())"
   ]
  },
  {
   "cell_type": "code",
   "execution_count": 24,
   "id": "545879d1-dbeb-41eb-b009-eefa31d78f07",
   "metadata": {},
   "outputs": [],
   "source": [
    "data = data.dropna(axis=0)"
   ]
  },
  {
   "cell_type": "code",
   "execution_count": 15,
   "id": "94db78e4-4f3d-4a77-a76d-1852b525f43d",
   "metadata": {},
   "outputs": [
    {
     "data": {
      "text/plain": [
       "0      0.962\n",
       "1      0.961\n",
       "2      0.959\n",
       "3      0.952\n",
       "4      0.951\n",
       "       ...  \n",
       "190    0.385\n",
       "191       ..\n",
       "192       ..\n",
       "193       ..\n",
       "194       ..\n",
       "Name: Human Development Index (HDI) , Length: 195, dtype: object"
      ]
     },
     "execution_count": 15,
     "metadata": {},
     "output_type": "execute_result"
    }
   ],
   "source": [
    "data['Human Development Index (HDI) ']"
   ]
  },
  {
   "cell_type": "code",
   "execution_count": 25,
   "id": "2e844766-e283-4864-80dc-8e13d55f521a",
   "metadata": {},
   "outputs": [
    {
     "data": {
      "text/plain": [
       "0"
      ]
     },
     "execution_count": 25,
     "metadata": {},
     "output_type": "execute_result"
    }
   ],
   "source": [
    "data.duplicated(keep='first').sum()"
   ]
  },
  {
   "cell_type": "code",
   "execution_count": 26,
   "id": "ce62c8f3-00b4-42c9-a1c5-acc5fceea391",
   "metadata": {},
   "outputs": [
    {
     "data": {
      "text/plain": [
       "0"
      ]
     },
     "execution_count": 26,
     "metadata": {},
     "output_type": "execute_result"
    }
   ],
   "source": [
    "data.duplicated(keep='last').sum()"
   ]
  },
  {
   "cell_type": "code",
   "execution_count": 27,
   "id": "e9667008-d448-4b6c-a577-c1f93fe42c5e",
   "metadata": {},
   "outputs": [
    {
     "data": {
      "text/html": [
       "<div>\n",
       "<style scoped>\n",
       "    .dataframe tbody tr th:only-of-type {\n",
       "        vertical-align: middle;\n",
       "    }\n",
       "\n",
       "    .dataframe tbody tr th {\n",
       "        vertical-align: top;\n",
       "    }\n",
       "\n",
       "    .dataframe thead th {\n",
       "        text-align: right;\n",
       "    }\n",
       "</style>\n",
       "<table border=\"1\" class=\"dataframe\">\n",
       "  <thead>\n",
       "    <tr style=\"text-align: right;\">\n",
       "      <th></th>\n",
       "      <th>HDI rank</th>\n",
       "      <th>Country</th>\n",
       "      <th>HUMAN DEVELOPMENT</th>\n",
       "      <th>Human Development Index (HDI)</th>\n",
       "      <th>Life expectancy at birth</th>\n",
       "      <th>Expected years of schooling</th>\n",
       "      <th>Mean years of schooling</th>\n",
       "      <th>Gross national income (GNI) per capita</th>\n",
       "      <th>GNI per capita rank minus HDI rank</th>\n",
       "      <th>HDI rank.1</th>\n",
       "    </tr>\n",
       "  </thead>\n",
       "  <tbody>\n",
       "    <tr>\n",
       "      <th>0</th>\n",
       "      <td>1</td>\n",
       "      <td>Switzerland</td>\n",
       "      <td>VERY HIGH</td>\n",
       "      <td>0.962</td>\n",
       "      <td>84.0</td>\n",
       "      <td>16.5</td>\n",
       "      <td>13.9</td>\n",
       "      <td>66,933</td>\n",
       "      <td>5</td>\n",
       "      <td>3</td>\n",
       "    </tr>\n",
       "    <tr>\n",
       "      <th>1</th>\n",
       "      <td>2</td>\n",
       "      <td>Norway</td>\n",
       "      <td>VERY HIGH</td>\n",
       "      <td>0.961</td>\n",
       "      <td>83.2</td>\n",
       "      <td>18.2</td>\n",
       "      <td>13.0</td>\n",
       "      <td>64,660</td>\n",
       "      <td>6</td>\n",
       "      <td>1</td>\n",
       "    </tr>\n",
       "    <tr>\n",
       "      <th>2</th>\n",
       "      <td>3</td>\n",
       "      <td>Iceland</td>\n",
       "      <td>VERY HIGH</td>\n",
       "      <td>0.959</td>\n",
       "      <td>82.7</td>\n",
       "      <td>19.2</td>\n",
       "      <td>13.8</td>\n",
       "      <td>55,782</td>\n",
       "      <td>11</td>\n",
       "      <td>2</td>\n",
       "    </tr>\n",
       "    <tr>\n",
       "      <th>3</th>\n",
       "      <td>4</td>\n",
       "      <td>Hong Kong, China (SAR)</td>\n",
       "      <td>VERY HIGH</td>\n",
       "      <td>0.952</td>\n",
       "      <td>85.5</td>\n",
       "      <td>17.3</td>\n",
       "      <td>12.2</td>\n",
       "      <td>62,607</td>\n",
       "      <td>6</td>\n",
       "      <td>4</td>\n",
       "    </tr>\n",
       "    <tr>\n",
       "      <th>4</th>\n",
       "      <td>5</td>\n",
       "      <td>Australia</td>\n",
       "      <td>VERY HIGH</td>\n",
       "      <td>0.951</td>\n",
       "      <td>84.5</td>\n",
       "      <td>21.1</td>\n",
       "      <td>12.7</td>\n",
       "      <td>49,238</td>\n",
       "      <td>18</td>\n",
       "      <td>5</td>\n",
       "    </tr>\n",
       "    <tr>\n",
       "      <th>...</th>\n",
       "      <td>...</td>\n",
       "      <td>...</td>\n",
       "      <td>...</td>\n",
       "      <td>...</td>\n",
       "      <td>...</td>\n",
       "      <td>...</td>\n",
       "      <td>...</td>\n",
       "      <td>...</td>\n",
       "      <td>...</td>\n",
       "      <td>...</td>\n",
       "    </tr>\n",
       "    <tr>\n",
       "      <th>188</th>\n",
       "      <td>189</td>\n",
       "      <td>Niger</td>\n",
       "      <td>LOW</td>\n",
       "      <td>0.400</td>\n",
       "      <td>61.6</td>\n",
       "      <td>7.0</td>\n",
       "      <td>2.1</td>\n",
       "      <td>1,240</td>\n",
       "      <td>-3</td>\n",
       "      <td>189</td>\n",
       "    </tr>\n",
       "    <tr>\n",
       "      <th>189</th>\n",
       "      <td>190</td>\n",
       "      <td>Chad</td>\n",
       "      <td>LOW</td>\n",
       "      <td>0.394</td>\n",
       "      <td>52.5</td>\n",
       "      <td>8.0</td>\n",
       "      <td>2.6</td>\n",
       "      <td>1,364</td>\n",
       "      <td>-7</td>\n",
       "      <td>190</td>\n",
       "    </tr>\n",
       "    <tr>\n",
       "      <th>190</th>\n",
       "      <td>191</td>\n",
       "      <td>South Sudan</td>\n",
       "      <td>LOW</td>\n",
       "      <td>0.385</td>\n",
       "      <td>55.0</td>\n",
       "      <td>5.5</td>\n",
       "      <td>5.7</td>\n",
       "      <td>768</td>\n",
       "      <td>-1</td>\n",
       "      <td>191</td>\n",
       "    </tr>\n",
       "    <tr>\n",
       "      <th>193</th>\n",
       "      <td>194</td>\n",
       "      <td>Nauru</td>\n",
       "      <td>OTHER</td>\n",
       "      <td>0.739</td>\n",
       "      <td>63.6</td>\n",
       "      <td>11.7</td>\n",
       "      <td>9.3</td>\n",
       "      <td>17,730</td>\n",
       "      <td>2.0</td>\n",
       "      <td>96.0</td>\n",
       "    </tr>\n",
       "    <tr>\n",
       "      <th>194</th>\n",
       "      <td>195</td>\n",
       "      <td>Somalia</td>\n",
       "      <td>OTHER</td>\n",
       "      <td>0.739</td>\n",
       "      <td>55.3</td>\n",
       "      <td>13.4</td>\n",
       "      <td>9.3</td>\n",
       "      <td>1,018</td>\n",
       "      <td>2.0</td>\n",
       "      <td>96.0</td>\n",
       "    </tr>\n",
       "  </tbody>\n",
       "</table>\n",
       "<p>193 rows × 10 columns</p>\n",
       "</div>"
      ],
      "text/plain": [
       "     HDI rank                 Country HUMAN DEVELOPMENT  \\\n",
       "0           1             Switzerland        VERY HIGH    \n",
       "1           2                  Norway        VERY HIGH    \n",
       "2           3                 Iceland        VERY HIGH    \n",
       "3           4  Hong Kong, China (SAR)        VERY HIGH    \n",
       "4           5               Australia        VERY HIGH    \n",
       "..        ...                     ...               ...   \n",
       "188       189                   Niger               LOW   \n",
       "189       190                    Chad               LOW   \n",
       "190       191             South Sudan               LOW   \n",
       "193       194                   Nauru            OTHER    \n",
       "194       195                 Somalia            OTHER    \n",
       "\n",
       "    Human Development Index (HDI)   Life expectancy at birth  \\\n",
       "0                            0.962                      84.0   \n",
       "1                            0.961                      83.2   \n",
       "2                            0.959                      82.7   \n",
       "3                            0.952                      85.5   \n",
       "4                            0.951                      84.5   \n",
       "..                             ...                       ...   \n",
       "188                          0.400                      61.6   \n",
       "189                          0.394                      52.5   \n",
       "190                          0.385                      55.0   \n",
       "193                          0.739                      63.6   \n",
       "194                          0.739                      55.3   \n",
       "\n",
       "    Expected years of schooling Mean years of schooling  \\\n",
       "0                          16.5                    13.9   \n",
       "1                          18.2                    13.0   \n",
       "2                          19.2                    13.8   \n",
       "3                          17.3                    12.2   \n",
       "4                          21.1                    12.7   \n",
       "..                          ...                     ...   \n",
       "188                         7.0                     2.1   \n",
       "189                         8.0                     2.6   \n",
       "190                         5.5                     5.7   \n",
       "193                        11.7                     9.3   \n",
       "194                        13.4                     9.3   \n",
       "\n",
       "    Gross national income (GNI) per capita GNI per capita rank minus HDI rank  \\\n",
       "0                                   66,933                                  5   \n",
       "1                                   64,660                                  6   \n",
       "2                                   55,782                                 11   \n",
       "3                                   62,607                                  6   \n",
       "4                                   49,238                                 18   \n",
       "..                                     ...                                ...   \n",
       "188                                  1,240                                 -3   \n",
       "189                                  1,364                                 -7   \n",
       "190                                    768                                 -1   \n",
       "193                                 17,730                                2.0   \n",
       "194                                  1,018                                2.0   \n",
       "\n",
       "    HDI rank.1  \n",
       "0            3  \n",
       "1            1  \n",
       "2            2  \n",
       "3            4  \n",
       "4            5  \n",
       "..         ...  \n",
       "188        189  \n",
       "189        190  \n",
       "190        191  \n",
       "193       96.0  \n",
       "194       96.0  \n",
       "\n",
       "[193 rows x 10 columns]"
      ]
     },
     "execution_count": 27,
     "metadata": {},
     "output_type": "execute_result"
    }
   ],
   "source": [
    "data"
   ]
  },
  {
   "cell_type": "code",
   "execution_count": 28,
   "id": "82229b2a-b2bd-492e-ad07-e65477931ece",
   "metadata": {},
   "outputs": [],
   "source": [
    "data.interpolate(method='linear', limit_direction='forward', inplace=True, axis=0)"
   ]
  },
  {
   "cell_type": "code",
   "execution_count": 29,
   "id": "bfa550e1-6b55-4741-9894-98eab2b64865",
   "metadata": {},
   "outputs": [],
   "source": [
    "data.interpolate(method='linear', inplace=True, axis=0)"
   ]
  },
  {
   "cell_type": "code",
   "execution_count": null,
   "id": "574a156e-5d32-41d9-865c-4a2882328470",
   "metadata": {},
   "outputs": [],
   "source": [
    " "
   ]
  },
  {
   "cell_type": "markdown",
   "id": "fe965466-7891-40c1-911b-0f1a133c2dc9",
   "metadata": {},
   "source": [
    "### Convert data type"
   ]
  },
  {
   "cell_type": "code",
   "execution_count": 32,
   "id": "c314906c-84b2-4ac1-a6a1-0acc25236885",
   "metadata": {},
   "outputs": [],
   "source": [
    "def df_convert_dtype(df, convert_from, convert_to):\n",
    "    cols = df.select_dtypes(include=[convert_from]).columns\n",
    "    for col in cols:\n",
    "        df[col] = df[col].values.astype(convert_to)\n",
    "    return df"
   ]
  },
  {
   "cell_type": "code",
   "execution_count": 33,
   "id": "cd4127dd-fbfe-44be-9fbf-5103bd58f557",
   "metadata": {},
   "outputs": [],
   "source": [
    "numerical_data = data.iloc[:, 3:]"
   ]
  },
  {
   "cell_type": "code",
   "execution_count": 34,
   "id": "8ca68aca-6618-47aa-8930-8ad25a2765d4",
   "metadata": {},
   "outputs": [
    {
     "data": {
      "text/html": [
       "<div>\n",
       "<style scoped>\n",
       "    .dataframe tbody tr th:only-of-type {\n",
       "        vertical-align: middle;\n",
       "    }\n",
       "\n",
       "    .dataframe tbody tr th {\n",
       "        vertical-align: top;\n",
       "    }\n",
       "\n",
       "    .dataframe thead th {\n",
       "        text-align: right;\n",
       "    }\n",
       "</style>\n",
       "<table border=\"1\" class=\"dataframe\">\n",
       "  <thead>\n",
       "    <tr style=\"text-align: right;\">\n",
       "      <th></th>\n",
       "      <th>Human Development Index (HDI)</th>\n",
       "      <th>Life expectancy at birth</th>\n",
       "      <th>Expected years of schooling</th>\n",
       "      <th>Mean years of schooling</th>\n",
       "      <th>Gross national income (GNI) per capita</th>\n",
       "      <th>GNI per capita rank minus HDI rank</th>\n",
       "      <th>HDI rank.1</th>\n",
       "    </tr>\n",
       "  </thead>\n",
       "  <tbody>\n",
       "    <tr>\n",
       "      <th>0</th>\n",
       "      <td>0.962</td>\n",
       "      <td>84.0</td>\n",
       "      <td>16.5</td>\n",
       "      <td>13.9</td>\n",
       "      <td>66,933</td>\n",
       "      <td>5</td>\n",
       "      <td>3</td>\n",
       "    </tr>\n",
       "    <tr>\n",
       "      <th>1</th>\n",
       "      <td>0.961</td>\n",
       "      <td>83.2</td>\n",
       "      <td>18.2</td>\n",
       "      <td>13.0</td>\n",
       "      <td>64,660</td>\n",
       "      <td>6</td>\n",
       "      <td>1</td>\n",
       "    </tr>\n",
       "    <tr>\n",
       "      <th>2</th>\n",
       "      <td>0.959</td>\n",
       "      <td>82.7</td>\n",
       "      <td>19.2</td>\n",
       "      <td>13.8</td>\n",
       "      <td>55,782</td>\n",
       "      <td>11</td>\n",
       "      <td>2</td>\n",
       "    </tr>\n",
       "    <tr>\n",
       "      <th>3</th>\n",
       "      <td>0.952</td>\n",
       "      <td>85.5</td>\n",
       "      <td>17.3</td>\n",
       "      <td>12.2</td>\n",
       "      <td>62,607</td>\n",
       "      <td>6</td>\n",
       "      <td>4</td>\n",
       "    </tr>\n",
       "    <tr>\n",
       "      <th>4</th>\n",
       "      <td>0.951</td>\n",
       "      <td>84.5</td>\n",
       "      <td>21.1</td>\n",
       "      <td>12.7</td>\n",
       "      <td>49,238</td>\n",
       "      <td>18</td>\n",
       "      <td>5</td>\n",
       "    </tr>\n",
       "  </tbody>\n",
       "</table>\n",
       "</div>"
      ],
      "text/plain": [
       "  Human Development Index (HDI)   Life expectancy at birth  \\\n",
       "0                          0.962                      84.0   \n",
       "1                          0.961                      83.2   \n",
       "2                          0.959                      82.7   \n",
       "3                          0.952                      85.5   \n",
       "4                          0.951                      84.5   \n",
       "\n",
       "  Expected years of schooling Mean years of schooling  \\\n",
       "0                        16.5                    13.9   \n",
       "1                        18.2                    13.0   \n",
       "2                        19.2                    13.8   \n",
       "3                        17.3                    12.2   \n",
       "4                        21.1                    12.7   \n",
       "\n",
       "  Gross national income (GNI) per capita GNI per capita rank minus HDI rank  \\\n",
       "0                                 66,933                                  5   \n",
       "1                                 64,660                                  6   \n",
       "2                                 55,782                                 11   \n",
       "3                                 62,607                                  6   \n",
       "4                                 49,238                                 18   \n",
       "\n",
       "  HDI rank.1  \n",
       "0          3  \n",
       "1          1  \n",
       "2          2  \n",
       "3          4  \n",
       "4          5  "
      ]
     },
     "execution_count": 34,
     "metadata": {},
     "output_type": "execute_result"
    }
   ],
   "source": [
    "numerical_data.head()"
   ]
  },
  {
   "cell_type": "code",
   "execution_count": 35,
   "id": "bf917123-6fb1-4587-bde5-737486212fdb",
   "metadata": {},
   "outputs": [
    {
     "name": "stdout",
     "output_type": "stream",
     "text": [
      "<class 'pandas.core.frame.DataFrame'>\n",
      "Int64Index: 193 entries, 0 to 194\n",
      "Data columns (total 10 columns):\n",
      " #   Column                                  Non-Null Count  Dtype  \n",
      "---  ------                                  --------------  -----  \n",
      " 0   HDI rank                                193 non-null    int64  \n",
      " 1   Country                                 193 non-null    object \n",
      " 2   HUMAN DEVELOPMENT                       193 non-null    object \n",
      " 3   Human Development Index (HDI)           193 non-null    object \n",
      " 4   Life expectancy at birth                193 non-null    float64\n",
      " 5   Expected years of schooling             193 non-null    object \n",
      " 6   Mean years of schooling                 193 non-null    object \n",
      " 7   Gross national income (GNI) per capita  193 non-null    object \n",
      " 8   GNI per capita rank minus HDI rank      193 non-null    object \n",
      " 9   HDI rank.1                              193 non-null    object \n",
      "dtypes: float64(1), int64(1), object(8)\n",
      "memory usage: 16.6+ KB\n"
     ]
    }
   ],
   "source": [
    "data.info()"
   ]
  },
  {
   "cell_type": "code",
   "execution_count": 36,
   "id": "1b2bf671-8e30-42de-9545-f319eebcc097",
   "metadata": {},
   "outputs": [],
   "source": [
    "converted_columns = numerical_data.select_dtypes(np.object_).columns"
   ]
  },
  {
   "cell_type": "code",
   "execution_count": 37,
   "id": "a1e2da6a-886d-4914-997d-e01d4bd0285b",
   "metadata": {},
   "outputs": [
    {
     "data": {
      "text/plain": [
       "Index(['Human Development Index (HDI) ', 'Expected years of schooling',\n",
       "       'Mean years of schooling', 'Gross national income (GNI) per capita',\n",
       "       'GNI per capita rank minus HDI rank', 'HDI rank.1'],\n",
       "      dtype='object')"
      ]
     },
     "execution_count": 37,
     "metadata": {},
     "output_type": "execute_result"
    }
   ],
   "source": [
    "converted_columns"
   ]
  },
  {
   "cell_type": "code",
   "execution_count": 38,
   "id": "5c4bf00a-b3cc-431c-9b55-e1687a37ed46",
   "metadata": {},
   "outputs": [],
   "source": [
    "data['Gross national income (GNI) per capita'] = data['Gross national income (GNI) per capita'].str.replace(',', '.')"
   ]
  },
  {
   "cell_type": "code",
   "execution_count": 39,
   "id": "357de589-5d52-4343-93bc-fd86227b477f",
   "metadata": {},
   "outputs": [
    {
     "name": "stderr",
     "output_type": "stream",
     "text": [
      "F:\\4.yil_birinci_dnem\\Data Science\\data\\lib\\site-packages\\ipykernel_launcher.py:4: SettingWithCopyWarning: \n",
      "A value is trying to be set on a copy of a slice from a DataFrame.\n",
      "Try using .loc[row_indexer,col_indexer] = value instead\n",
      "\n",
      "See the caveats in the documentation: https://pandas.pydata.org/pandas-docs/stable/user_guide/indexing.html#returning-a-view-versus-a-copy\n",
      "  after removing the cwd from sys.path.\n"
     ]
    }
   ],
   "source": [
    "data[converted_columns] = df_convert_dtype(data[converted_columns], np.object_, np.float64)"
   ]
  },
  {
   "cell_type": "code",
   "execution_count": 40,
   "id": "ee00b2eb-872c-48ef-876b-6cdc1427ed77",
   "metadata": {},
   "outputs": [],
   "source": [
    "numerical_data_cols = numerical_data.columns"
   ]
  },
  {
   "cell_type": "code",
   "execution_count": null,
   "id": "5ed5705f-bdb8-49ee-b634-505c8d2f7491",
   "metadata": {},
   "outputs": [],
   "source": []
  },
  {
   "cell_type": "code",
   "execution_count": 41,
   "id": "b827592d-3c8c-4dcb-99f0-62b1d9d5f683",
   "metadata": {},
   "outputs": [],
   "source": [
    "corr = data.corr()"
   ]
  },
  {
   "cell_type": "markdown",
   "id": "2be97402-e53c-4db3-8806-24f7915f3830",
   "metadata": {},
   "source": [
    "### Visualation Data"
   ]
  },
  {
   "cell_type": "code",
   "execution_count": 42,
   "id": "de28e9a6-2c51-4190-bb78-bb283720a97a",
   "metadata": {},
   "outputs": [
    {
     "data": {
      "image/png": "[encoded data removed]",
      "text/plain": [
       "<Figure size 1400x1400 with 2 Axes>"
      ]
     },
     "metadata": {},
     "output_type": "display_data"
    }
   ],
   "source": [
    "plt.figure(figsize=(14, 14))\n",
    "ax = sns.heatmap(corr, annot=True, cmap=plt.cm.BuPu)\n",
    "ax.set(xlabel=\"\", ylabel=\"\")\n",
    "ax.xaxis.tick_top()\n",
    "plt.show()"
   ]
  },
  {
   "cell_type": "code",
   "execution_count": 43,
   "id": "c4e5050c-e9d1-4944-b247-fbe5ca65f38f",
   "metadata": {},
   "outputs": [
    {
     "data": {
      "text/html": [
       "<div>\n",
       "<style scoped>\n",
       "    .dataframe tbody tr th:only-of-type {\n",
       "        vertical-align: middle;\n",
       "    }\n",
       "\n",
       "    .dataframe tbody tr th {\n",
       "        vertical-align: top;\n",
       "    }\n",
       "\n",
       "    .dataframe thead th {\n",
       "        text-align: right;\n",
       "    }\n",
       "</style>\n",
       "<table border=\"1\" class=\"dataframe\">\n",
       "  <thead>\n",
       "    <tr style=\"text-align: right;\">\n",
       "      <th></th>\n",
       "      <th>HDI rank</th>\n",
       "      <th>Country</th>\n",
       "      <th>HUMAN DEVELOPMENT</th>\n",
       "      <th>Human Development Index (HDI)</th>\n",
       "      <th>Life expectancy at birth</th>\n",
       "      <th>Expected years of schooling</th>\n",
       "      <th>Mean years of schooling</th>\n",
       "      <th>Gross national income (GNI) per capita</th>\n",
       "      <th>GNI per capita rank minus HDI rank</th>\n",
       "      <th>HDI rank.1</th>\n",
       "    </tr>\n",
       "  </thead>\n",
       "  <tbody>\n",
       "    <tr>\n",
       "      <th>0</th>\n",
       "      <td>1</td>\n",
       "      <td>Switzerland</td>\n",
       "      <td>VERY HIGH</td>\n",
       "      <td>0.962</td>\n",
       "      <td>84.0</td>\n",
       "      <td>16.5</td>\n",
       "      <td>13.9</td>\n",
       "      <td>66.933</td>\n",
       "      <td>5.0</td>\n",
       "      <td>3.0</td>\n",
       "    </tr>\n",
       "    <tr>\n",
       "      <th>1</th>\n",
       "      <td>2</td>\n",
       "      <td>Norway</td>\n",
       "      <td>VERY HIGH</td>\n",
       "      <td>0.961</td>\n",
       "      <td>83.2</td>\n",
       "      <td>18.2</td>\n",
       "      <td>13.0</td>\n",
       "      <td>64.660</td>\n",
       "      <td>6.0</td>\n",
       "      <td>1.0</td>\n",
       "    </tr>\n",
       "    <tr>\n",
       "      <th>2</th>\n",
       "      <td>3</td>\n",
       "      <td>Iceland</td>\n",
       "      <td>VERY HIGH</td>\n",
       "      <td>0.959</td>\n",
       "      <td>82.7</td>\n",
       "      <td>19.2</td>\n",
       "      <td>13.8</td>\n",
       "      <td>55.782</td>\n",
       "      <td>11.0</td>\n",
       "      <td>2.0</td>\n",
       "    </tr>\n",
       "    <tr>\n",
       "      <th>3</th>\n",
       "      <td>4</td>\n",
       "      <td>Hong Kong, China (SAR)</td>\n",
       "      <td>VERY HIGH</td>\n",
       "      <td>0.952</td>\n",
       "      <td>85.5</td>\n",
       "      <td>17.3</td>\n",
       "      <td>12.2</td>\n",
       "      <td>62.607</td>\n",
       "      <td>6.0</td>\n",
       "      <td>4.0</td>\n",
       "    </tr>\n",
       "    <tr>\n",
       "      <th>4</th>\n",
       "      <td>5</td>\n",
       "      <td>Australia</td>\n",
       "      <td>VERY HIGH</td>\n",
       "      <td>0.951</td>\n",
       "      <td>84.5</td>\n",
       "      <td>21.1</td>\n",
       "      <td>12.7</td>\n",
       "      <td>49.238</td>\n",
       "      <td>18.0</td>\n",
       "      <td>5.0</td>\n",
       "    </tr>\n",
       "  </tbody>\n",
       "</table>\n",
       "</div>"
      ],
      "text/plain": [
       "   HDI rank                 Country HUMAN DEVELOPMENT  \\\n",
       "0         1             Switzerland        VERY HIGH    \n",
       "1         2                  Norway        VERY HIGH    \n",
       "2         3                 Iceland        VERY HIGH    \n",
       "3         4  Hong Kong, China (SAR)        VERY HIGH    \n",
       "4         5               Australia        VERY HIGH    \n",
       "\n",
       "   Human Development Index (HDI)   Life expectancy at birth  \\\n",
       "0                           0.962                      84.0   \n",
       "1                           0.961                      83.2   \n",
       "2                           0.959                      82.7   \n",
       "3                           0.952                      85.5   \n",
       "4                           0.951                      84.5   \n",
       "\n",
       "   Expected years of schooling  Mean years of schooling  \\\n",
       "0                         16.5                     13.9   \n",
       "1                         18.2                     13.0   \n",
       "2                         19.2                     13.8   \n",
       "3                         17.3                     12.2   \n",
       "4                         21.1                     12.7   \n",
       "\n",
       "   Gross national income (GNI) per capita  GNI per capita rank minus HDI rank  \\\n",
       "0                                  66.933                                 5.0   \n",
       "1                                  64.660                                 6.0   \n",
       "2                                  55.782                                11.0   \n",
       "3                                  62.607                                 6.0   \n",
       "4                                  49.238                                18.0   \n",
       "\n",
       "   HDI rank.1  \n",
       "0         3.0  \n",
       "1         1.0  \n",
       "2         2.0  \n",
       "3         4.0  \n",
       "4         5.0  "
      ]
     },
     "execution_count": 43,
     "metadata": {},
     "output_type": "execute_result"
    }
   ],
   "source": [
    "data.head()"
   ]
  },
  {
   "cell_type": "code",
   "execution_count": 44,
   "id": "be1d87ee-5c6d-47b4-a235-3d08b6825947",
   "metadata": {},
   "outputs": [],
   "source": [
    "data = data.drop('HDI rank.1', axis=1)"
   ]
  },
  {
   "cell_type": "code",
   "execution_count": 45,
   "id": "37fb6c32-f55c-4268-9805-c31a74502af8",
   "metadata": {},
   "outputs": [],
   "source": [
    "data.set_index('HDI rank', inplace=True)"
   ]
  },
  {
   "cell_type": "code",
   "execution_count": null,
   "id": "0fb4ad62-3820-4ce6-b2d9-b403fa52552c",
   "metadata": {},
   "outputs": [],
   "source": []
  },
  {
   "cell_type": "code",
   "execution_count": 46,
   "id": "0b7de98c-b2bb-4929-bae2-1286e08e94c1",
   "metadata": {},
   "outputs": [],
   "source": [
    "regions = {\n",
    "    'Africa': ['Algeria', 'Angola', 'Benin', 'Botswana', 'Burkina Faso', 'Burundi', 'Cameroon', 'Cabo Verde', 'Central African Republic', 'Chad', 'Comoros', 'Congo', 'Congo (Democratic Republic of the)', 'Côte d\\'Ivoire', 'Djibouti', 'Egypt', 'Equatorial Guinea', 'Eritrea', 'Eswatini (Kingdom of)', 'Ethiopia', 'Gabon', 'Gambia', 'Ghana', 'Guinea', 'Guinea-Bissau', 'Kenya', 'Lesotho', 'Liberia', 'Libya', 'Madagascar', 'Malawi', 'Mali', 'Mauritania', 'Mauritius', 'Morocco', 'Mozambique', 'Namibia', 'Niger', 'Nigeria', 'Rwanda', 'São Tomé and Príncipe', 'Senegal', 'Seychelles', 'Sierra Leone', 'Somalia', 'South Africa', 'South Sudan', 'Sudan', 'Tanzania', 'Togo', 'Tunisia', 'Uganda', 'Zambia', 'Zimbabwe'],\n",
    "     'Asia': ['Afghanistan', 'Armenia', 'Azerbaijan', 'Bahrain', 'Bangladesh', 'Bhutan', 'Brunei Darussalam', 'Cambodia', 'China', 'Georgia', 'India', 'Indonesia', 'Iran', 'Iraq', 'Israel', 'Japan', 'Jordan', 'Kazakhstan', 'Korea (Democratic People\\'s Republic of)', 'Korea (Republic of)', 'Kuwait', 'Kyrgyzstan', 'Lao People\\'s Democratic Republic', 'Lebanon', 'Malaysia', 'Maldives', 'Mongolia', 'Myanmar', 'Nepal', 'Oman', 'Pakistan', 'Palau', 'Philippines', 'Qatar', 'Russian Federation', 'Saudi Arabia', 'Singapore', 'Sri Lanka', 'Syrian Arab Republic', 'Tajikistan', 'Thailand', 'Timor-Leste', 'Turkey', 'Turkmenistan', 'United Arab Emirates', 'Uzbekistan', 'Vietnam', 'Yemen'],\n",
    "     'Europe': ['Albania', 'Andorra', 'Austria', 'Belarus', 'Belgium', 'Bosnia and Herzegovina', 'Bulgaria', 'Croatia', 'Cyprus', 'Czech Republic', 'Denmark', 'Estonia', 'Finland', 'France', 'Germany', 'Greece', 'Hungary', 'Iceland', 'Ireland', 'Italy', 'Latvia', 'Liechtenstein', 'Lithuania', 'Luxembourg', 'Malta', 'Monaco', 'Montenegro', 'Netherlands', 'North Macedonia', 'Norway', 'Poland', 'Portugal', 'Romania', 'San Marino', 'Serbia', 'Slovakia', 'Slovenia', 'Spain', 'Sweden', 'Switzerland', 'Ukraine', 'United Kingdom'],\n",
    "     'Oceania': ['Australia', 'Fiji', 'Kiribati', 'Marshall Islands', 'Micronesia (Federated States of)', 'Nauru', 'New Zealand', 'Palau', 'Papua New Guinea', 'Samoa', 'Solomon Islands', 'Tonga', 'Tuvalu', 'Vanuatu'],\n",
    "    'The Caribbean': ['Antigua and Barbuda', 'Bahamas', 'Barbados', 'Belize', 'Cuba', 'Dominica', 'Dominican Republic', 'Grenada', 'Guyana', 'Haiti', 'Jamaica', 'Saint Kitts and Nevis', 'Saint Lucia', 'Saint Vincent and the Grenadines', 'Suriname', 'Trinidad and Tobago'],\n",
    "     'North America': ['Canada', 'United States'],\n",
    "    'Central America': ['Costa Rica', 'El Salvador', 'Guatemala', 'Honduras', 'Mexico', 'Nicaragua', 'Panama'],\n",
    "    'South America': ['Argentina', 'Bolivia (Plurinational State of)', 'Brazil', 'Chile', 'Colombia', 'Ecuador', 'Paraguay', 'Peru', 'Uruguay', 'Venezuela (Bolivarian Republic of)']\n",
    "}\n",
    "data['Region'] = data['Country'].map({country: region for region, countries in regions.items() for country in countries})"
   ]
  },
  {
   "cell_type": "code",
   "execution_count": 50,
   "id": "c32ce8cd-4ffd-4d94-8aca-edeb98b507cb",
   "metadata": {},
   "outputs": [
    {
     "data": {
      "text/html": [
       "<div>\n",
       "<style scoped>\n",
       "    .dataframe tbody tr th:only-of-type {\n",
       "        vertical-align: middle;\n",
       "    }\n",
       "\n",
       "    .dataframe tbody tr th {\n",
       "        vertical-align: top;\n",
       "    }\n",
       "\n",
       "    .dataframe thead th {\n",
       "        text-align: right;\n",
       "    }\n",
       "</style>\n",
       "<table border=\"1\" class=\"dataframe\">\n",
       "  <thead>\n",
       "    <tr style=\"text-align: right;\">\n",
       "      <th></th>\n",
       "      <th>Country</th>\n",
       "      <th>HUMAN DEVELOPMENT</th>\n",
       "      <th>Human Development Index (HDI)</th>\n",
       "      <th>Life expectancy at birth</th>\n",
       "      <th>Expected years of schooling</th>\n",
       "      <th>Mean years of schooling</th>\n",
       "      <th>Gross national income (GNI) per capita</th>\n",
       "      <th>GNI per capita rank minus HDI rank</th>\n",
       "      <th>Region</th>\n",
       "    </tr>\n",
       "    <tr>\n",
       "      <th>HDI rank</th>\n",
       "      <th></th>\n",
       "      <th></th>\n",
       "      <th></th>\n",
       "      <th></th>\n",
       "      <th></th>\n",
       "      <th></th>\n",
       "      <th></th>\n",
       "      <th></th>\n",
       "      <th></th>\n",
       "    </tr>\n",
       "  </thead>\n",
       "  <tbody>\n",
       "    <tr>\n",
       "      <th>1</th>\n",
       "      <td>Switzerland</td>\n",
       "      <td>VERY HIGH</td>\n",
       "      <td>0.962</td>\n",
       "      <td>84.0</td>\n",
       "      <td>16.5</td>\n",
       "      <td>13.9</td>\n",
       "      <td>66.933</td>\n",
       "      <td>5.0</td>\n",
       "      <td>Europe</td>\n",
       "    </tr>\n",
       "    <tr>\n",
       "      <th>2</th>\n",
       "      <td>Norway</td>\n",
       "      <td>VERY HIGH</td>\n",
       "      <td>0.961</td>\n",
       "      <td>83.2</td>\n",
       "      <td>18.2</td>\n",
       "      <td>13.0</td>\n",
       "      <td>64.660</td>\n",
       "      <td>6.0</td>\n",
       "      <td>Europe</td>\n",
       "    </tr>\n",
       "    <tr>\n",
       "      <th>3</th>\n",
       "      <td>Iceland</td>\n",
       "      <td>VERY HIGH</td>\n",
       "      <td>0.959</td>\n",
       "      <td>82.7</td>\n",
       "      <td>19.2</td>\n",
       "      <td>13.8</td>\n",
       "      <td>55.782</td>\n",
       "      <td>11.0</td>\n",
       "      <td>Europe</td>\n",
       "    </tr>\n",
       "    <tr>\n",
       "      <th>4</th>\n",
       "      <td>Hong Kong, China (SAR)</td>\n",
       "      <td>VERY HIGH</td>\n",
       "      <td>0.952</td>\n",
       "      <td>85.5</td>\n",
       "      <td>17.3</td>\n",
       "      <td>12.2</td>\n",
       "      <td>62.607</td>\n",
       "      <td>6.0</td>\n",
       "      <td>NaN</td>\n",
       "    </tr>\n",
       "    <tr>\n",
       "      <th>5</th>\n",
       "      <td>Australia</td>\n",
       "      <td>VERY HIGH</td>\n",
       "      <td>0.951</td>\n",
       "      <td>84.5</td>\n",
       "      <td>21.1</td>\n",
       "      <td>12.7</td>\n",
       "      <td>49.238</td>\n",
       "      <td>18.0</td>\n",
       "      <td>Oceania</td>\n",
       "    </tr>\n",
       "  </tbody>\n",
       "</table>\n",
       "</div>"
      ],
      "text/plain": [
       "                         Country HUMAN DEVELOPMENT  \\\n",
       "HDI rank                                             \n",
       "1                    Switzerland        VERY HIGH    \n",
       "2                         Norway        VERY HIGH    \n",
       "3                        Iceland        VERY HIGH    \n",
       "4         Hong Kong, China (SAR)        VERY HIGH    \n",
       "5                      Australia        VERY HIGH    \n",
       "\n",
       "          Human Development Index (HDI)   Life expectancy at birth  \\\n",
       "HDI rank                                                             \n",
       "1                                  0.962                      84.0   \n",
       "2                                  0.961                      83.2   \n",
       "3                                  0.959                      82.7   \n",
       "4                                  0.952                      85.5   \n",
       "5                                  0.951                      84.5   \n",
       "\n",
       "          Expected years of schooling  Mean years of schooling  \\\n",
       "HDI rank                                                         \n",
       "1                                16.5                     13.9   \n",
       "2                                18.2                     13.0   \n",
       "3                                19.2                     13.8   \n",
       "4                                17.3                     12.2   \n",
       "5                                21.1                     12.7   \n",
       "\n",
       "          Gross national income (GNI) per capita  \\\n",
       "HDI rank                                           \n",
       "1                                         66.933   \n",
       "2                                         64.660   \n",
       "3                                         55.782   \n",
       "4                                         62.607   \n",
       "5                                         49.238   \n",
       "\n",
       "          GNI per capita rank minus HDI rank   Region  \n",
       "HDI rank                                               \n",
       "1                                        5.0   Europe  \n",
       "2                                        6.0   Europe  \n",
       "3                                       11.0   Europe  \n",
       "4                                        6.0      NaN  \n",
       "5                                       18.0  Oceania  "
      ]
     },
     "execution_count": 50,
     "metadata": {},
     "output_type": "execute_result"
    }
   ],
   "source": [
    "data.head()"
   ]
  },
  {
   "cell_type": "code",
   "execution_count": 48,
   "id": "d234e089-3419-4d63-bc51-88e0f8bf9171",
   "metadata": {},
   "outputs": [
    {
     "data": {
      "text/plain": [
       "Region\n",
       "Africa             63.0\n",
       "Asia               73.0\n",
       "Central America    72.0\n",
       "Europe             79.0\n",
       "North America      80.0\n",
       "Oceania            70.0\n",
       "South America      73.0\n",
       "The Caribbean      72.0\n",
       "Name: Life expectancy at birth, dtype: float64"
      ]
     },
     "execution_count": 48,
     "metadata": {},
     "output_type": "execute_result"
    }
   ],
   "source": [
    "data.groupby('Region')['Life expectancy at birth'].mean().round()"
   ]
  },
  {
   "cell_type": "code",
   "execution_count": 49,
   "id": "64145cdf-7c76-458f-a051-ed3558a345bd",
   "metadata": {},
   "outputs": [
    {
     "data": {
      "text/plain": [
       "Region\n",
       "Africa             11.0\n",
       "Asia               13.0\n",
       "Central America    13.0\n",
       "Europe             16.0\n",
       "North America      16.0\n",
       "Oceania            13.0\n",
       "South America      15.0\n",
       "The Caribbean      14.0\n",
       "Name: Expected years of schooling, dtype: float64"
      ]
     },
     "execution_count": 49,
     "metadata": {},
     "output_type": "execute_result"
    }
   ],
   "source": [
    "data.groupby('Region')['Expected years of schooling'].mean().round()"
   ]
  },
  {
   "cell_type": "code",
   "execution_count": 53,
   "id": "66ff7e9c-d8ec-47ff-b26e-b68e0fae2497",
   "metadata": {},
   "outputs": [
    {
     "data": {
      "text/html": [
       "<div>\n",
       "<style scoped>\n",
       "    .dataframe tbody tr th:only-of-type {\n",
       "        vertical-align: middle;\n",
       "    }\n",
       "\n",
       "    .dataframe tbody tr th {\n",
       "        vertical-align: top;\n",
       "    }\n",
       "\n",
       "    .dataframe thead th {\n",
       "        text-align: right;\n",
       "    }\n",
       "</style>\n",
       "<table border=\"1\" class=\"dataframe\">\n",
       "  <thead>\n",
       "    <tr style=\"text-align: right;\">\n",
       "      <th></th>\n",
       "      <th>Human Development Index (HDI)</th>\n",
       "      <th>Life expectancy at birth</th>\n",
       "      <th>Expected years of schooling</th>\n",
       "      <th>Mean years of schooling</th>\n",
       "      <th>Gross national income (GNI) per capita</th>\n",
       "      <th>GNI per capita rank minus HDI rank</th>\n",
       "    </tr>\n",
       "  </thead>\n",
       "  <tbody>\n",
       "    <tr>\n",
       "      <th>count</th>\n",
       "      <td>193.000000</td>\n",
       "      <td>193.000000</td>\n",
       "      <td>193.000000</td>\n",
       "      <td>193.000000</td>\n",
       "      <td>193.000000</td>\n",
       "      <td>193.000000</td>\n",
       "    </tr>\n",
       "    <tr>\n",
       "      <th>mean</th>\n",
       "      <td>0.720767</td>\n",
       "      <td>71.191710</td>\n",
       "      <td>13.520207</td>\n",
       "      <td>8.987047</td>\n",
       "      <td>32.900824</td>\n",
       "      <td>0.207254</td>\n",
       "    </tr>\n",
       "    <tr>\n",
       "      <th>std</th>\n",
       "      <td>0.149886</td>\n",
       "      <td>7.713026</td>\n",
       "      <td>2.913753</td>\n",
       "      <td>3.156786</td>\n",
       "      <td>102.546272</td>\n",
       "      <td>13.988036</td>\n",
       "    </tr>\n",
       "    <tr>\n",
       "      <th>min</th>\n",
       "      <td>0.385000</td>\n",
       "      <td>52.500000</td>\n",
       "      <td>5.500000</td>\n",
       "      <td>2.100000</td>\n",
       "      <td>1.018000</td>\n",
       "      <td>-47.000000</td>\n",
       "    </tr>\n",
       "    <tr>\n",
       "      <th>25%</th>\n",
       "      <td>0.602000</td>\n",
       "      <td>65.700000</td>\n",
       "      <td>11.700000</td>\n",
       "      <td>6.300000</td>\n",
       "      <td>4.790000</td>\n",
       "      <td>-8.000000</td>\n",
       "    </tr>\n",
       "    <tr>\n",
       "      <th>50%</th>\n",
       "      <td>0.739000</td>\n",
       "      <td>71.700000</td>\n",
       "      <td>13.400000</td>\n",
       "      <td>9.300000</td>\n",
       "      <td>12.672000</td>\n",
       "      <td>2.000000</td>\n",
       "    </tr>\n",
       "    <tr>\n",
       "      <th>75%</th>\n",
       "      <td>0.832000</td>\n",
       "      <td>76.500000</td>\n",
       "      <td>15.600000</td>\n",
       "      <td>11.400000</td>\n",
       "      <td>30.690000</td>\n",
       "      <td>9.000000</td>\n",
       "    </tr>\n",
       "    <tr>\n",
       "      <th>max</th>\n",
       "      <td>0.962000</td>\n",
       "      <td>85.500000</td>\n",
       "      <td>21.100000</td>\n",
       "      <td>14.100000</td>\n",
       "      <td>966.000000</td>\n",
       "      <td>37.000000</td>\n",
       "    </tr>\n",
       "  </tbody>\n",
       "</table>\n",
       "</div>"
      ],
      "text/plain": [
       "       Human Development Index (HDI)   Life expectancy at birth  \\\n",
       "count                      193.000000                193.000000   \n",
       "mean                         0.720767                 71.191710   \n",
       "std                          0.149886                  7.713026   \n",
       "min                          0.385000                 52.500000   \n",
       "25%                          0.602000                 65.700000   \n",
       "50%                          0.739000                 71.700000   \n",
       "75%                          0.832000                 76.500000   \n",
       "max                          0.962000                 85.500000   \n",
       "\n",
       "       Expected years of schooling  Mean years of schooling  \\\n",
       "count                   193.000000               193.000000   \n",
       "mean                     13.520207                 8.987047   \n",
       "std                       2.913753                 3.156786   \n",
       "min                       5.500000                 2.100000   \n",
       "25%                      11.700000                 6.300000   \n",
       "50%                      13.400000                 9.300000   \n",
       "75%                      15.600000                11.400000   \n",
       "max                      21.100000                14.100000   \n",
       "\n",
       "       Gross national income (GNI) per capita  \\\n",
       "count                              193.000000   \n",
       "mean                                32.900824   \n",
       "std                                102.546272   \n",
       "min                                  1.018000   \n",
       "25%                                  4.790000   \n",
       "50%                                 12.672000   \n",
       "75%                                 30.690000   \n",
       "max                                966.000000   \n",
       "\n",
       "       GNI per capita rank minus HDI rank  \n",
       "count                          193.000000  \n",
       "mean                             0.207254  \n",
       "std                             13.988036  \n",
       "min                            -47.000000  \n",
       "25%                             -8.000000  \n",
       "50%                              2.000000  \n",
       "75%                              9.000000  \n",
       "max                             37.000000  "
      ]
     },
     "execution_count": 53,
     "metadata": {},
     "output_type": "execute_result"
    }
   ],
   "source": [
    "data.describe()"
   ]
  },
  {
   "cell_type": "code",
   "execution_count": 51,
   "id": "b56670b1-1791-49b1-908f-4d6df4d13722",
   "metadata": {},
   "outputs": [
    {
     "name": "stdout",
     "output_type": "stream",
     "text": [
      "<class 'pandas.core.frame.DataFrame'>\n",
      "Int64Index: 193 entries, 1 to 195\n",
      "Data columns (total 9 columns):\n",
      " #   Column                                  Non-Null Count  Dtype  \n",
      "---  ------                                  --------------  -----  \n",
      " 0   Country                                 193 non-null    object \n",
      " 1   HUMAN DEVELOPMENT                       193 non-null    object \n",
      " 2   Human Development Index (HDI)           193 non-null    float64\n",
      " 3   Life expectancy at birth                193 non-null    float64\n",
      " 4   Expected years of schooling             193 non-null    float64\n",
      " 5   Mean years of schooling                 193 non-null    float64\n",
      " 6   Gross national income (GNI) per capita  193 non-null    float64\n",
      " 7   GNI per capita rank minus HDI rank      193 non-null    float64\n",
      " 8   Region                                  184 non-null    object \n",
      "dtypes: float64(6), object(3)\n",
      "memory usage: 15.1+ KB\n"
     ]
    }
   ],
   "source": [
    "data.info()"
   ]
  },
  {
   "cell_type": "code",
   "execution_count": 59,
   "id": "4c90670f-6363-47fe-8b96-4cb78b06815c",
   "metadata": {},
   "outputs": [],
   "source": [
    "data['Gross national income (GNI) per capita'] = data['Gross national income (GNI) per capita'].replace('..', np.nan).astype(float)"
   ]
  },
  {
   "cell_type": "code",
   "execution_count": 60,
   "id": "b823d88c-c052-4c5b-9e14-99bc936d95e8",
   "metadata": {},
   "outputs": [
    {
     "data": {
      "text/plain": [
       "Region\n",
       "Africa             52.791000\n",
       "Asia               21.611163\n",
       "Central America    13.252714\n",
       "Europe             43.419925\n",
       "North America      55.786500\n",
       "Oceania            12.518571\n",
       "South America      14.334000\n",
       "The Caribbean      14.644500\n",
       "Name: Gross national income (GNI) per capita, dtype: float64"
      ]
     },
     "execution_count": 60,
     "metadata": {},
     "output_type": "execute_result"
    }
   ],
   "source": [
    "data.groupby('Region')['Gross national income (GNI) per capita'].mean()"
   ]
  },
  {
   "cell_type": "code",
   "execution_count": null,
   "id": "c80adf0d-85d3-45e2-a8a5-473127ee37bf",
   "metadata": {},
   "outputs": [],
   "source": []
  },
  {
   "cell_type": "code",
   "execution_count": null,
   "id": "dfff2774-0ad2-4dfb-8ae8-65aa8a15b854",
   "metadata": {},
   "outputs": [],
   "source": []
  },
  {
   "cell_type": "code",
   "execution_count": null,
   "id": "e13d58af-bd23-46be-b2d1-3eb71888bff9",
   "metadata": {},
   "outputs": [],
   "source": []
  },
  {
   "cell_type": "code",
   "execution_count": null,
   "id": "a3c5159f-477c-48c1-ad6a-06d58d8565cb",
   "metadata": {},
   "outputs": [],
   "source": []
  }
 ],
 "metadata": {
  "kernelspec": {
   "display_name": "dataScience",
   "language": "python",
   "name": "datascience"
  },
  "language_info": {
   "codemirror_mode": {
    "name": "ipython",
    "version": 3
   },
   "file_extension": ".py",
   "mimetype": "text/x-python",
   "name": "python",
   "nbconvert_exporter": "python",
   "pygments_lexer": "ipython3",
   "version": "3.7.9"
  }
 },
 "nbformat": 4,
 "nbformat_minor": 5
}
