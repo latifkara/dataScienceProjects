{
 "cells": [
  {
   "cell_type": "code",
   "execution_count": 3,
   "id": "677e955f-07bf-464e-9618-4fbf1e31d77b",
   "metadata": {},
   "outputs": [],
   "source": [
    "import pandas as pd\n",
    "import numpy as np\n",
    "import seaborn as sns\n",
    "import matplotlib.pyplot as plt\n",
    "%matplotlib inline"
   ]
  },
  {
   "cell_type": "code",
   "execution_count": null,
   "id": "5ae06f26-0e44-423a-99fb-fa73d54f96e3",
   "metadata": {},
   "outputs": [],
   "source": []
  },
  {
   "cell_type": "markdown",
   "id": "fcd30aef-020c-477d-8ad6-33294c6800d0",
   "metadata": {},
   "source": []
  },
  {
   "cell_type": "code",
   "execution_count": 4,
   "id": "8a8bb153-1636-430a-8bf9-4d7236059c54",
   "metadata": {},
   "outputs": [],
   "source": [
    "health_df = pd.read_csv('dataset/Health_conditions_among_children_under_age_18__by_selected_characteristics__United_States.csv')"
   ]
  },
  {
   "cell_type": "code",
   "execution_count": 5,
   "id": "dcffa59e-d7db-4f80-ab2a-352574713244",
   "metadata": {},
   "outputs": [
    {
     "data": {
      "text/html": [
       "<div>\n",
       "<style scoped>\n",
       "    .dataframe tbody tr th:only-of-type {\n",
       "        vertical-align: middle;\n",
       "    }\n",
       "\n",
       "    .dataframe tbody tr th {\n",
       "        vertical-align: top;\n",
       "    }\n",
       "\n",
       "    .dataframe thead th {\n",
       "        text-align: right;\n",
       "    }\n",
       "</style>\n",
       "<table border=\"1\" class=\"dataframe\">\n",
       "  <thead>\n",
       "    <tr style=\"text-align: right;\">\n",
       "      <th></th>\n",
       "      <th>INDICATOR</th>\n",
       "      <th>PANEL</th>\n",
       "      <th>PANEL_NUM</th>\n",
       "      <th>UNIT</th>\n",
       "      <th>UNIT_NUM</th>\n",
       "      <th>STUB_NAME</th>\n",
       "      <th>STUB_NAME_NUM</th>\n",
       "      <th>STUB_LABEL</th>\n",
       "      <th>STUB_LABEL_NUM</th>\n",
       "      <th>YEAR</th>\n",
       "      <th>YEAR_NUM</th>\n",
       "      <th>AGE</th>\n",
       "      <th>AGE_NUM</th>\n",
       "      <th>ESTIMATE</th>\n",
       "      <th>SE</th>\n",
       "      <th>FLAG</th>\n",
       "    </tr>\n",
       "  </thead>\n",
       "  <tbody>\n",
       "    <tr>\n",
       "      <th>0</th>\n",
       "      <td>Health conditions among children under age 18</td>\n",
       "      <td>Current asthma among persons under 18 years</td>\n",
       "      <td>1</td>\n",
       "      <td>Percent of children, crude</td>\n",
       "      <td>1</td>\n",
       "      <td>Total</td>\n",
       "      <td>0</td>\n",
       "      <td>Under 18 years</td>\n",
       "      <td>0.00</td>\n",
       "      <td>1997-1999</td>\n",
       "      <td>1</td>\n",
       "      <td>Under 18 years</td>\n",
       "      <td>0.0</td>\n",
       "      <td>NaN</td>\n",
       "      <td>NaN</td>\n",
       "      <td>...</td>\n",
       "    </tr>\n",
       "    <tr>\n",
       "      <th>1</th>\n",
       "      <td>Health conditions among children under age 18</td>\n",
       "      <td>Current asthma among persons under 18 years</td>\n",
       "      <td>1</td>\n",
       "      <td>Percent of children, crude</td>\n",
       "      <td>1</td>\n",
       "      <td>Total</td>\n",
       "      <td>0</td>\n",
       "      <td>Under 18 years</td>\n",
       "      <td>0.00</td>\n",
       "      <td>2000-2002</td>\n",
       "      <td>2</td>\n",
       "      <td>Under 18 years</td>\n",
       "      <td>0.0</td>\n",
       "      <td>NaN</td>\n",
       "      <td>NaN</td>\n",
       "      <td>...</td>\n",
       "    </tr>\n",
       "    <tr>\n",
       "      <th>2</th>\n",
       "      <td>Health conditions among children under age 18</td>\n",
       "      <td>ADHD among persons under 18 years</td>\n",
       "      <td>3</td>\n",
       "      <td>Percent of children, crude</td>\n",
       "      <td>1</td>\n",
       "      <td>Age</td>\n",
       "      <td>1</td>\n",
       "      <td>10-17 years</td>\n",
       "      <td>1.22</td>\n",
       "      <td>1997-1999</td>\n",
       "      <td>1</td>\n",
       "      <td>10-17 years</td>\n",
       "      <td>2.2</td>\n",
       "      <td>7.6</td>\n",
       "      <td>0.2</td>\n",
       "      <td>NaN</td>\n",
       "    </tr>\n",
       "    <tr>\n",
       "      <th>3</th>\n",
       "      <td>Health conditions among children under age 18</td>\n",
       "      <td>ADHD among persons under 18 years</td>\n",
       "      <td>3</td>\n",
       "      <td>Percent of children, crude</td>\n",
       "      <td>1</td>\n",
       "      <td>Age</td>\n",
       "      <td>1</td>\n",
       "      <td>10-17 years</td>\n",
       "      <td>1.22</td>\n",
       "      <td>2000-2002</td>\n",
       "      <td>2</td>\n",
       "      <td>10-17 years</td>\n",
       "      <td>2.2</td>\n",
       "      <td>9.0</td>\n",
       "      <td>0.3</td>\n",
       "      <td>NaN</td>\n",
       "    </tr>\n",
       "    <tr>\n",
       "      <th>4</th>\n",
       "      <td>Health conditions among children under age 18</td>\n",
       "      <td>ADHD among persons under 18 years</td>\n",
       "      <td>3</td>\n",
       "      <td>Percent of children, crude</td>\n",
       "      <td>1</td>\n",
       "      <td>Age</td>\n",
       "      <td>1</td>\n",
       "      <td>10-17 years</td>\n",
       "      <td>1.22</td>\n",
       "      <td>2003-2005</td>\n",
       "      <td>3</td>\n",
       "      <td>10-17 years</td>\n",
       "      <td>2.2</td>\n",
       "      <td>8.9</td>\n",
       "      <td>0.3</td>\n",
       "      <td>NaN</td>\n",
       "    </tr>\n",
       "  </tbody>\n",
       "</table>\n",
       "</div>"
      ],
      "text/plain": [
       "                                       INDICATOR  \\\n",
       "0  Health conditions among children under age 18   \n",
       "1  Health conditions among children under age 18   \n",
       "2  Health conditions among children under age 18   \n",
       "3  Health conditions among children under age 18   \n",
       "4  Health conditions among children under age 18   \n",
       "\n",
       "                                         PANEL  PANEL_NUM  \\\n",
       "0  Current asthma among persons under 18 years          1   \n",
       "1  Current asthma among persons under 18 years          1   \n",
       "2            ADHD among persons under 18 years          3   \n",
       "3            ADHD among persons under 18 years          3   \n",
       "4            ADHD among persons under 18 years          3   \n",
       "\n",
       "                         UNIT  UNIT_NUM STUB_NAME  STUB_NAME_NUM  \\\n",
       "0  Percent of children, crude         1     Total              0   \n",
       "1  Percent of children, crude         1     Total              0   \n",
       "2  Percent of children, crude         1       Age              1   \n",
       "3  Percent of children, crude         1       Age              1   \n",
       "4  Percent of children, crude         1       Age              1   \n",
       "\n",
       "       STUB_LABEL  STUB_LABEL_NUM       YEAR  YEAR_NUM             AGE  \\\n",
       "0  Under 18 years            0.00  1997-1999         1  Under 18 years   \n",
       "1  Under 18 years            0.00  2000-2002         2  Under 18 years   \n",
       "2     10-17 years            1.22  1997-1999         1     10-17 years   \n",
       "3     10-17 years            1.22  2000-2002         2     10-17 years   \n",
       "4     10-17 years            1.22  2003-2005         3     10-17 years   \n",
       "\n",
       "   AGE_NUM  ESTIMATE   SE FLAG  \n",
       "0      0.0       NaN  NaN  ...  \n",
       "1      0.0       NaN  NaN  ...  \n",
       "2      2.2       7.6  0.2  NaN  \n",
       "3      2.2       9.0  0.3  NaN  \n",
       "4      2.2       8.9  0.3  NaN  "
      ]
     },
     "execution_count": 5,
     "metadata": {},
     "output_type": "execute_result"
    }
   ],
   "source": [
    "health_df.head()"
   ]
  },
  {
   "cell_type": "markdown",
   "id": "f14459b2-a232-43e6-8651-1c2f33594184",
   "metadata": {},
   "source": [
    "## Data Analysis"
   ]
  },
  {
   "cell_type": "code",
   "execution_count": 6,
   "id": "a146ff8f-46f4-4e61-9459-1ce8a63ad46b",
   "metadata": {},
   "outputs": [
    {
     "name": "stdout",
     "output_type": "stream",
     "text": [
      "<class 'pandas.core.frame.DataFrame'>\n",
      "RangeIndex: 2744 entries, 0 to 2743\n",
      "Data columns (total 16 columns):\n",
      " #   Column          Non-Null Count  Dtype  \n",
      "---  ------          --------------  -----  \n",
      " 0   INDICATOR       2744 non-null   object \n",
      " 1   PANEL           2744 non-null   object \n",
      " 2   PANEL_NUM       2744 non-null   int64  \n",
      " 3   UNIT            2744 non-null   object \n",
      " 4   UNIT_NUM        2744 non-null   int64  \n",
      " 5   STUB_NAME       2744 non-null   object \n",
      " 6   STUB_NAME_NUM   2744 non-null   int64  \n",
      " 7   STUB_LABEL      2744 non-null   object \n",
      " 8   STUB_LABEL_NUM  2744 non-null   float64\n",
      " 9   YEAR            2744 non-null   object \n",
      " 10  YEAR_NUM        2744 non-null   int64  \n",
      " 11  AGE             2744 non-null   object \n",
      " 12  AGE_NUM         2744 non-null   float64\n",
      " 13  ESTIMATE        2516 non-null   float64\n",
      " 14  SE              2516 non-null   float64\n",
      " 15  FLAG            287 non-null    object \n",
      "dtypes: float64(4), int64(4), object(8)\n",
      "memory usage: 343.1+ KB\n"
     ]
    }
   ],
   "source": [
    "health_df.info()"
   ]
  },
  {
   "cell_type": "code",
   "execution_count": 7,
   "id": "1d9a0103-cd82-487f-aa7a-d6a7240b8d1b",
   "metadata": {},
   "outputs": [
    {
     "data": {
      "text/html": [
       "<div>\n",
       "<style scoped>\n",
       "    .dataframe tbody tr th:only-of-type {\n",
       "        vertical-align: middle;\n",
       "    }\n",
       "\n",
       "    .dataframe tbody tr th {\n",
       "        vertical-align: top;\n",
       "    }\n",
       "\n",
       "    .dataframe thead th {\n",
       "        text-align: right;\n",
       "    }\n",
       "</style>\n",
       "<table border=\"1\" class=\"dataframe\">\n",
       "  <thead>\n",
       "    <tr style=\"text-align: right;\">\n",
       "      <th></th>\n",
       "      <th>count</th>\n",
       "      <th>mean</th>\n",
       "      <th>std</th>\n",
       "      <th>min</th>\n",
       "      <th>25%</th>\n",
       "      <th>50%</th>\n",
       "      <th>75%</th>\n",
       "      <th>max</th>\n",
       "    </tr>\n",
       "  </thead>\n",
       "  <tbody>\n",
       "    <tr>\n",
       "      <th>PANEL_NUM</th>\n",
       "      <td>2744.0</td>\n",
       "      <td>5.0</td>\n",
       "      <td>2.0</td>\n",
       "      <td>1.0</td>\n",
       "      <td>2.0</td>\n",
       "      <td>5.0</td>\n",
       "      <td>7.0</td>\n",
       "      <td>8.0</td>\n",
       "    </tr>\n",
       "    <tr>\n",
       "      <th>UNIT_NUM</th>\n",
       "      <td>2744.0</td>\n",
       "      <td>1.0</td>\n",
       "      <td>0.0</td>\n",
       "      <td>1.0</td>\n",
       "      <td>1.0</td>\n",
       "      <td>1.0</td>\n",
       "      <td>1.0</td>\n",
       "      <td>1.0</td>\n",
       "    </tr>\n",
       "    <tr>\n",
       "      <th>STUB_NAME_NUM</th>\n",
       "      <td>2744.0</td>\n",
       "      <td>4.0</td>\n",
       "      <td>2.0</td>\n",
       "      <td>0.0</td>\n",
       "      <td>2.0</td>\n",
       "      <td>3.0</td>\n",
       "      <td>5.0</td>\n",
       "      <td>6.0</td>\n",
       "    </tr>\n",
       "    <tr>\n",
       "      <th>STUB_LABEL_NUM</th>\n",
       "      <td>2744.0</td>\n",
       "      <td>4.0</td>\n",
       "      <td>2.0</td>\n",
       "      <td>0.0</td>\n",
       "      <td>2.0</td>\n",
       "      <td>4.0</td>\n",
       "      <td>5.0</td>\n",
       "      <td>6.0</td>\n",
       "    </tr>\n",
       "    <tr>\n",
       "      <th>YEAR_NUM</th>\n",
       "      <td>2744.0</td>\n",
       "      <td>8.0</td>\n",
       "      <td>4.0</td>\n",
       "      <td>1.0</td>\n",
       "      <td>4.0</td>\n",
       "      <td>8.0</td>\n",
       "      <td>11.0</td>\n",
       "      <td>14.0</td>\n",
       "    </tr>\n",
       "    <tr>\n",
       "      <th>AGE_NUM</th>\n",
       "      <td>2744.0</td>\n",
       "      <td>0.0</td>\n",
       "      <td>1.0</td>\n",
       "      <td>0.0</td>\n",
       "      <td>0.0</td>\n",
       "      <td>0.0</td>\n",
       "      <td>0.0</td>\n",
       "      <td>2.0</td>\n",
       "    </tr>\n",
       "    <tr>\n",
       "      <th>ESTIMATE</th>\n",
       "      <td>2516.0</td>\n",
       "      <td>8.0</td>\n",
       "      <td>4.0</td>\n",
       "      <td>1.0</td>\n",
       "      <td>5.0</td>\n",
       "      <td>7.0</td>\n",
       "      <td>11.0</td>\n",
       "      <td>22.0</td>\n",
       "    </tr>\n",
       "    <tr>\n",
       "      <th>SE</th>\n",
       "      <td>2516.0</td>\n",
       "      <td>0.0</td>\n",
       "      <td>0.0</td>\n",
       "      <td>0.0</td>\n",
       "      <td>0.0</td>\n",
       "      <td>0.0</td>\n",
       "      <td>0.0</td>\n",
       "      <td>3.0</td>\n",
       "    </tr>\n",
       "  </tbody>\n",
       "</table>\n",
       "</div>"
      ],
      "text/plain": [
       "                 count  mean  std  min  25%  50%   75%   max\n",
       "PANEL_NUM       2744.0   5.0  2.0  1.0  2.0  5.0   7.0   8.0\n",
       "UNIT_NUM        2744.0   1.0  0.0  1.0  1.0  1.0   1.0   1.0\n",
       "STUB_NAME_NUM   2744.0   4.0  2.0  0.0  2.0  3.0   5.0   6.0\n",
       "STUB_LABEL_NUM  2744.0   4.0  2.0  0.0  2.0  4.0   5.0   6.0\n",
       "YEAR_NUM        2744.0   8.0  4.0  1.0  4.0  8.0  11.0  14.0\n",
       "AGE_NUM         2744.0   0.0  1.0  0.0  0.0  0.0   0.0   2.0\n",
       "ESTIMATE        2516.0   8.0  4.0  1.0  5.0  7.0  11.0  22.0\n",
       "SE              2516.0   0.0  0.0  0.0  0.0  0.0   0.0   3.0"
      ]
     },
     "execution_count": 7,
     "metadata": {},
     "output_type": "execute_result"
    }
   ],
   "source": [
    "health_df.describe().T.round()"
   ]
  },
  {
   "cell_type": "code",
   "execution_count": 8,
   "id": "6edb43b2-c20f-43bf-b9cb-e51f8028c9c2",
   "metadata": {},
   "outputs": [
    {
     "data": {
      "text/plain": [
       "2913"
      ]
     },
     "execution_count": 8,
     "metadata": {},
     "output_type": "execute_result"
    }
   ],
   "source": [
    "health_df.isna().values.sum()"
   ]
  },
  {
   "cell_type": "code",
   "execution_count": 9,
   "id": "ce3108cb-8762-4b13-a86c-343f4fd5211e",
   "metadata": {},
   "outputs": [
    {
     "data": {
      "text/plain": [
       "INDICATOR            0\n",
       "PANEL                0\n",
       "PANEL_NUM            0\n",
       "UNIT                 0\n",
       "UNIT_NUM             0\n",
       "STUB_NAME            0\n",
       "STUB_NAME_NUM        0\n",
       "STUB_LABEL           0\n",
       "STUB_LABEL_NUM       0\n",
       "YEAR                 0\n",
       "YEAR_NUM             0\n",
       "AGE                  0\n",
       "AGE_NUM              0\n",
       "ESTIMATE           228\n",
       "SE                 228\n",
       "FLAG              2457\n",
       "dtype: int64"
      ]
     },
     "execution_count": 9,
     "metadata": {},
     "output_type": "execute_result"
    }
   ],
   "source": [
    "health_df.isna().sum()"
   ]
  },
  {
   "cell_type": "code",
   "execution_count": 10,
   "id": "bb00acfc-2178-417a-b6b1-f764db72361b",
   "metadata": {},
   "outputs": [
    {
     "data": {
      "text/plain": [
       "0       ...\n",
       "1       ...\n",
       "2       NaN\n",
       "3       NaN\n",
       "4       NaN\n",
       "       ... \n",
       "2739    NaN\n",
       "2740    NaN\n",
       "2741    NaN\n",
       "2742    NaN\n",
       "2743    NaN\n",
       "Name: FLAG, Length: 2744, dtype: object"
      ]
     },
     "execution_count": 10,
     "metadata": {},
     "output_type": "execute_result"
    }
   ],
   "source": [
    "health_df['FLAG']"
   ]
  },
  {
   "cell_type": "code",
   "execution_count": 11,
   "id": "d02d0a73-feed-4216-bb62-d0b27b2bca30",
   "metadata": {},
   "outputs": [],
   "source": [
    "health_df.drop('FLAG', inplace=True, axis=1)"
   ]
  },
  {
   "cell_type": "code",
   "execution_count": null,
   "id": "fb3857b9-b319-4566-9a60-df6a04c58165",
   "metadata": {},
   "outputs": [],
   "source": []
  },
  {
   "cell_type": "markdown",
   "id": "e9709352-d158-4ca8-8797-5f5c74695fa1",
   "metadata": {},
   "source": [
    "### Missed Value"
   ]
  },
  {
   "cell_type": "code",
   "execution_count": 12,
   "id": "8289a6d3-74e2-4aec-879f-a83e1e66e111",
   "metadata": {},
   "outputs": [],
   "source": [
    "health_df.interpolate(method='linear', limit_direction='forward', inplace=True, axis=0)"
   ]
  },
  {
   "cell_type": "code",
   "execution_count": 13,
   "id": "4fa660db-5e27-4408-a2cc-23c68eebb28b",
   "metadata": {},
   "outputs": [],
   "source": [
    "health_df.dropna(axis=0, inplace=True)"
   ]
  },
  {
   "cell_type": "code",
   "execution_count": null,
   "id": "3cb95af4-7f78-4373-9a20-ec4936e1ec9a",
   "metadata": {},
   "outputs": [],
   "source": []
  },
  {
   "cell_type": "code",
   "execution_count": 14,
   "id": "683bd25d-e1bb-4457-b421-96be81b07291",
   "metadata": {},
   "outputs": [],
   "source": [
    "def df_convert_dtype(df, convert_from, convert_to):\n",
    "    cols = df.select_dtypes(include=[convert_from]).columns\n",
    "    for col in cols:\n",
    "        df[col] = df[col].values.astype(convert_to)\n",
    "    return df"
   ]
  },
  {
   "cell_type": "code",
   "execution_count": 15,
   "id": "066bb945-256c-4bea-82a5-8f60ddb97f73",
   "metadata": {},
   "outputs": [],
   "source": [
    "numeric_cols = health_df.select_dtypes(np.number).columns"
   ]
  },
  {
   "cell_type": "code",
   "execution_count": 16,
   "id": "3681814a-a270-4e44-9cbd-9f5a63966099",
   "metadata": {},
   "outputs": [],
   "source": [
    "health_df = df_convert_dtype(health_df, np.int64, np.float64)"
   ]
  },
  {
   "cell_type": "code",
   "execution_count": 17,
   "id": "306d9052-f6d1-49d2-b337-d56b6380a4f9",
   "metadata": {},
   "outputs": [
    {
     "name": "stdout",
     "output_type": "stream",
     "text": [
      "<class 'pandas.core.frame.DataFrame'>\n",
      "Int64Index: 2742 entries, 2 to 2743\n",
      "Data columns (total 15 columns):\n",
      " #   Column          Non-Null Count  Dtype  \n",
      "---  ------          --------------  -----  \n",
      " 0   INDICATOR       2742 non-null   object \n",
      " 1   PANEL           2742 non-null   object \n",
      " 2   PANEL_NUM       2742 non-null   float64\n",
      " 3   UNIT            2742 non-null   object \n",
      " 4   UNIT_NUM        2742 non-null   float64\n",
      " 5   STUB_NAME       2742 non-null   object \n",
      " 6   STUB_NAME_NUM   2742 non-null   float64\n",
      " 7   STUB_LABEL      2742 non-null   object \n",
      " 8   STUB_LABEL_NUM  2742 non-null   float64\n",
      " 9   YEAR            2742 non-null   object \n",
      " 10  YEAR_NUM        2742 non-null   float64\n",
      " 11  AGE             2742 non-null   object \n",
      " 12  AGE_NUM         2742 non-null   float64\n",
      " 13  ESTIMATE        2742 non-null   float64\n",
      " 14  SE              2742 non-null   float64\n",
      "dtypes: float64(8), object(7)\n",
      "memory usage: 342.8+ KB\n"
     ]
    }
   ],
   "source": [
    "health_df.info()"
   ]
  },
  {
   "cell_type": "code",
   "execution_count": 28,
   "id": "094be591-dcbc-4266-84fb-2522efd0266f",
   "metadata": {},
   "outputs": [
    {
     "data": {
      "text/plain": [
       "array(['Age', 'Total', 'Sex', 'Race', 'Hispanic origin and race',\n",
       "       'Percent of poverty level',\n",
       "       'Health insurance status at the time of interview'], dtype=object)"
      ]
     },
     "execution_count": 28,
     "metadata": {},
     "output_type": "execute_result"
    }
   ],
   "source": [
    "health_df['STUB_NAME'].unique()"
   ]
  },
  {
   "cell_type": "code",
   "execution_count": 29,
   "id": "03683403-15a4-4fd4-9578-63162d52c556",
   "metadata": {},
   "outputs": [
    {
     "data": {
      "text/html": [
       "<div>\n",
       "<style scoped>\n",
       "    .dataframe tbody tr th:only-of-type {\n",
       "        vertical-align: middle;\n",
       "    }\n",
       "\n",
       "    .dataframe tbody tr th {\n",
       "        vertical-align: top;\n",
       "    }\n",
       "\n",
       "    .dataframe thead th {\n",
       "        text-align: right;\n",
       "    }\n",
       "</style>\n",
       "<table border=\"1\" class=\"dataframe\">\n",
       "  <thead>\n",
       "    <tr style=\"text-align: right;\">\n",
       "      <th></th>\n",
       "      <th>PANEL_NUM</th>\n",
       "      <th>UNIT_NUM</th>\n",
       "      <th>STUB_NAME_NUM</th>\n",
       "      <th>STUB_LABEL_NUM</th>\n",
       "      <th>YEAR_NUM</th>\n",
       "      <th>AGE_NUM</th>\n",
       "      <th>ESTIMATE</th>\n",
       "      <th>SE</th>\n",
       "    </tr>\n",
       "    <tr>\n",
       "      <th>STUB_NAME</th>\n",
       "      <th></th>\n",
       "      <th></th>\n",
       "      <th></th>\n",
       "      <th></th>\n",
       "      <th></th>\n",
       "      <th></th>\n",
       "      <th></th>\n",
       "      <th></th>\n",
       "    </tr>\n",
       "  </thead>\n",
       "  <tbody>\n",
       "    <tr>\n",
       "      <th>Age</th>\n",
       "      <td>4.566667</td>\n",
       "      <td>1.0</td>\n",
       "      <td>1.0</td>\n",
       "      <td>1.1880</td>\n",
       "      <td>7.500000</td>\n",
       "      <td>1.75619</td>\n",
       "      <td>8.411429</td>\n",
       "      <td>0.299762</td>\n",
       "    </tr>\n",
       "    <tr>\n",
       "      <th>Health insurance status at the time of interview</th>\n",
       "      <td>4.500000</td>\n",
       "      <td>1.0</td>\n",
       "      <td>6.0</td>\n",
       "      <td>6.1325</td>\n",
       "      <td>7.500000</td>\n",
       "      <td>0.00000</td>\n",
       "      <td>8.107366</td>\n",
       "      <td>0.365402</td>\n",
       "    </tr>\n",
       "    <tr>\n",
       "      <th>Hispanic origin and race</th>\n",
       "      <td>4.500000</td>\n",
       "      <td>1.0</td>\n",
       "      <td>4.0</td>\n",
       "      <td>4.1825</td>\n",
       "      <td>7.500000</td>\n",
       "      <td>0.00000</td>\n",
       "      <td>8.493527</td>\n",
       "      <td>0.345759</td>\n",
       "    </tr>\n",
       "    <tr>\n",
       "      <th>Percent of poverty level</th>\n",
       "      <td>4.500000</td>\n",
       "      <td>1.0</td>\n",
       "      <td>5.0</td>\n",
       "      <td>5.2500</td>\n",
       "      <td>7.500000</td>\n",
       "      <td>0.00000</td>\n",
       "      <td>8.454911</td>\n",
       "      <td>0.409152</td>\n",
       "    </tr>\n",
       "    <tr>\n",
       "      <th>Race</th>\n",
       "      <td>4.500000</td>\n",
       "      <td>1.0</td>\n",
       "      <td>3.0</td>\n",
       "      <td>3.3500</td>\n",
       "      <td>7.500000</td>\n",
       "      <td>0.00000</td>\n",
       "      <td>8.419792</td>\n",
       "      <td>0.857217</td>\n",
       "    </tr>\n",
       "    <tr>\n",
       "      <th>Sex</th>\n",
       "      <td>4.500000</td>\n",
       "      <td>1.0</td>\n",
       "      <td>2.0</td>\n",
       "      <td>2.1500</td>\n",
       "      <td>7.500000</td>\n",
       "      <td>0.00000</td>\n",
       "      <td>8.361161</td>\n",
       "      <td>0.271875</td>\n",
       "    </tr>\n",
       "    <tr>\n",
       "      <th>Total</th>\n",
       "      <td>4.926829</td>\n",
       "      <td>1.0</td>\n",
       "      <td>0.0</td>\n",
       "      <td>0.0000</td>\n",
       "      <td>7.646341</td>\n",
       "      <td>0.00000</td>\n",
       "      <td>8.671951</td>\n",
       "      <td>0.198780</td>\n",
       "    </tr>\n",
       "  </tbody>\n",
       "</table>\n",
       "</div>"
      ],
      "text/plain": [
       "                                                  PANEL_NUM  UNIT_NUM  \\\n",
       "STUB_NAME                                                               \n",
       "Age                                                4.566667       1.0   \n",
       "Health insurance status at the time of interview   4.500000       1.0   \n",
       "Hispanic origin and race                           4.500000       1.0   \n",
       "Percent of poverty level                           4.500000       1.0   \n",
       "Race                                               4.500000       1.0   \n",
       "Sex                                                4.500000       1.0   \n",
       "Total                                              4.926829       1.0   \n",
       "\n",
       "                                                  STUB_NAME_NUM  \\\n",
       "STUB_NAME                                                         \n",
       "Age                                                         1.0   \n",
       "Health insurance status at the time of interview            6.0   \n",
       "Hispanic origin and race                                    4.0   \n",
       "Percent of poverty level                                    5.0   \n",
       "Race                                                        3.0   \n",
       "Sex                                                         2.0   \n",
       "Total                                                       0.0   \n",
       "\n",
       "                                                  STUB_LABEL_NUM  YEAR_NUM  \\\n",
       "STUB_NAME                                                                    \n",
       "Age                                                       1.1880  7.500000   \n",
       "Health insurance status at the time of interview          6.1325  7.500000   \n",
       "Hispanic origin and race                                  4.1825  7.500000   \n",
       "Percent of poverty level                                  5.2500  7.500000   \n",
       "Race                                                      3.3500  7.500000   \n",
       "Sex                                                       2.1500  7.500000   \n",
       "Total                                                     0.0000  7.646341   \n",
       "\n",
       "                                                  AGE_NUM  ESTIMATE        SE  \n",
       "STUB_NAME                                                                      \n",
       "Age                                               1.75619  8.411429  0.299762  \n",
       "Health insurance status at the time of interview  0.00000  8.107366  0.365402  \n",
       "Hispanic origin and race                          0.00000  8.493527  0.345759  \n",
       "Percent of poverty level                          0.00000  8.454911  0.409152  \n",
       "Race                                              0.00000  8.419792  0.857217  \n",
       "Sex                                               0.00000  8.361161  0.271875  \n",
       "Total                                             0.00000  8.671951  0.198780  "
      ]
     },
     "execution_count": 29,
     "metadata": {},
     "output_type": "execute_result"
    }
   ],
   "source": [
    "health_df.groupby('STUB_NAME').mean()"
   ]
  },
  {
   "cell_type": "code",
   "execution_count": 30,
   "id": "432b14fb-295e-4594-bee1-b5cb178b4e73",
   "metadata": {},
   "outputs": [
    {
     "data": {
      "text/html": [
       "<div>\n",
       "<style scoped>\n",
       "    .dataframe tbody tr th:only-of-type {\n",
       "        vertical-align: middle;\n",
       "    }\n",
       "\n",
       "    .dataframe tbody tr th {\n",
       "        vertical-align: top;\n",
       "    }\n",
       "\n",
       "    .dataframe thead th {\n",
       "        text-align: right;\n",
       "    }\n",
       "</style>\n",
       "<table border=\"1\" class=\"dataframe\">\n",
       "  <thead>\n",
       "    <tr style=\"text-align: right;\">\n",
       "      <th></th>\n",
       "      <th>PANEL_NUM</th>\n",
       "      <th>UNIT_NUM</th>\n",
       "      <th>STUB_NAME_NUM</th>\n",
       "      <th>STUB_LABEL_NUM</th>\n",
       "      <th>YEAR_NUM</th>\n",
       "      <th>AGE_NUM</th>\n",
       "      <th>ESTIMATE</th>\n",
       "      <th>SE</th>\n",
       "    </tr>\n",
       "    <tr>\n",
       "      <th>STUB_NAME</th>\n",
       "      <th></th>\n",
       "      <th></th>\n",
       "      <th></th>\n",
       "      <th></th>\n",
       "      <th></th>\n",
       "      <th></th>\n",
       "      <th></th>\n",
       "      <th></th>\n",
       "    </tr>\n",
       "  </thead>\n",
       "  <tbody>\n",
       "    <tr>\n",
       "      <th>Age</th>\n",
       "      <td>1918.0</td>\n",
       "      <td>420.0</td>\n",
       "      <td>420.0</td>\n",
       "      <td>498.96</td>\n",
       "      <td>3150.0</td>\n",
       "      <td>737.6</td>\n",
       "      <td>3532.8</td>\n",
       "      <td>125.90</td>\n",
       "    </tr>\n",
       "    <tr>\n",
       "      <th>Health insurance status at the time of interview</th>\n",
       "      <td>2016.0</td>\n",
       "      <td>448.0</td>\n",
       "      <td>2688.0</td>\n",
       "      <td>2747.36</td>\n",
       "      <td>3360.0</td>\n",
       "      <td>0.0</td>\n",
       "      <td>3632.1</td>\n",
       "      <td>163.70</td>\n",
       "    </tr>\n",
       "    <tr>\n",
       "      <th>Hispanic origin and race</th>\n",
       "      <td>2016.0</td>\n",
       "      <td>448.0</td>\n",
       "      <td>1792.0</td>\n",
       "      <td>1873.76</td>\n",
       "      <td>3360.0</td>\n",
       "      <td>0.0</td>\n",
       "      <td>3805.1</td>\n",
       "      <td>154.90</td>\n",
       "    </tr>\n",
       "    <tr>\n",
       "      <th>Percent of poverty level</th>\n",
       "      <td>2016.0</td>\n",
       "      <td>448.0</td>\n",
       "      <td>2240.0</td>\n",
       "      <td>2352.00</td>\n",
       "      <td>3360.0</td>\n",
       "      <td>0.0</td>\n",
       "      <td>3787.8</td>\n",
       "      <td>183.30</td>\n",
       "    </tr>\n",
       "    <tr>\n",
       "      <th>Race</th>\n",
       "      <td>3024.0</td>\n",
       "      <td>672.0</td>\n",
       "      <td>2016.0</td>\n",
       "      <td>2251.20</td>\n",
       "      <td>5040.0</td>\n",
       "      <td>0.0</td>\n",
       "      <td>5658.1</td>\n",
       "      <td>576.05</td>\n",
       "    </tr>\n",
       "    <tr>\n",
       "      <th>Sex</th>\n",
       "      <td>1008.0</td>\n",
       "      <td>224.0</td>\n",
       "      <td>448.0</td>\n",
       "      <td>481.60</td>\n",
       "      <td>1680.0</td>\n",
       "      <td>0.0</td>\n",
       "      <td>1872.9</td>\n",
       "      <td>60.90</td>\n",
       "    </tr>\n",
       "    <tr>\n",
       "      <th>Total</th>\n",
       "      <td>404.0</td>\n",
       "      <td>82.0</td>\n",
       "      <td>0.0</td>\n",
       "      <td>0.00</td>\n",
       "      <td>627.0</td>\n",
       "      <td>0.0</td>\n",
       "      <td>711.1</td>\n",
       "      <td>16.30</td>\n",
       "    </tr>\n",
       "  </tbody>\n",
       "</table>\n",
       "</div>"
      ],
      "text/plain": [
       "                                                  PANEL_NUM  UNIT_NUM  \\\n",
       "STUB_NAME                                                               \n",
       "Age                                                  1918.0     420.0   \n",
       "Health insurance status at the time of interview     2016.0     448.0   \n",
       "Hispanic origin and race                             2016.0     448.0   \n",
       "Percent of poverty level                             2016.0     448.0   \n",
       "Race                                                 3024.0     672.0   \n",
       "Sex                                                  1008.0     224.0   \n",
       "Total                                                 404.0      82.0   \n",
       "\n",
       "                                                  STUB_NAME_NUM  \\\n",
       "STUB_NAME                                                         \n",
       "Age                                                       420.0   \n",
       "Health insurance status at the time of interview         2688.0   \n",
       "Hispanic origin and race                                 1792.0   \n",
       "Percent of poverty level                                 2240.0   \n",
       "Race                                                     2016.0   \n",
       "Sex                                                       448.0   \n",
       "Total                                                       0.0   \n",
       "\n",
       "                                                  STUB_LABEL_NUM  YEAR_NUM  \\\n",
       "STUB_NAME                                                                    \n",
       "Age                                                       498.96    3150.0   \n",
       "Health insurance status at the time of interview         2747.36    3360.0   \n",
       "Hispanic origin and race                                 1873.76    3360.0   \n",
       "Percent of poverty level                                 2352.00    3360.0   \n",
       "Race                                                     2251.20    5040.0   \n",
       "Sex                                                       481.60    1680.0   \n",
       "Total                                                       0.00     627.0   \n",
       "\n",
       "                                                  AGE_NUM  ESTIMATE      SE  \n",
       "STUB_NAME                                                                    \n",
       "Age                                                 737.6    3532.8  125.90  \n",
       "Health insurance status at the time of interview      0.0    3632.1  163.70  \n",
       "Hispanic origin and race                              0.0    3805.1  154.90  \n",
       "Percent of poverty level                              0.0    3787.8  183.30  \n",
       "Race                                                  0.0    5658.1  576.05  \n",
       "Sex                                                   0.0    1872.9   60.90  \n",
       "Total                                                 0.0     711.1   16.30  "
      ]
     },
     "execution_count": 30,
     "metadata": {},
     "output_type": "execute_result"
    }
   ],
   "source": [
    "health_df.groupby('STUB_NAME').sum()"
   ]
  },
  {
   "cell_type": "code",
   "execution_count": null,
   "id": "cb3ea364-f0a6-4f80-be1a-529a0b333a5d",
   "metadata": {},
   "outputs": [],
   "source": []
  },
  {
   "cell_type": "code",
   "execution_count": 32,
   "id": "202276ff-79f5-468d-bfd0-0c746adc26a8",
   "metadata": {},
   "outputs": [
    {
     "data": {
      "text/plain": [
       "0"
      ]
     },
     "execution_count": 32,
     "metadata": {},
     "output_type": "execute_result"
    }
   ],
   "source": [
    "health_df.duplicated(keep='first').sum()"
   ]
  },
  {
   "cell_type": "code",
   "execution_count": 33,
   "id": "b1f1c4a1-7a23-4403-b7be-a9b8cb8b0cf5",
   "metadata": {},
   "outputs": [
    {
     "data": {
      "text/plain": [
       "0"
      ]
     },
     "execution_count": 33,
     "metadata": {},
     "output_type": "execute_result"
    }
   ],
   "source": [
    "health_df.duplicated(keep='last').sum()"
   ]
  },
  {
   "cell_type": "code",
   "execution_count": null,
   "id": "03ee57e1-474e-4242-a7db-8cf4a78fedf6",
   "metadata": {},
   "outputs": [],
   "source": []
  },
  {
   "cell_type": "markdown",
   "id": "be1c4bec-d072-41d4-8e70-5b9297d66ebb",
   "metadata": {},
   "source": [
    "### Visulization Data"
   ]
  },
  {
   "cell_type": "code",
   "execution_count": 40,
   "id": "cb69be2c-d534-4d0a-8f4d-cfa30beb7f35",
   "metadata": {},
   "outputs": [
    {
     "data": {
      "text/plain": [
       "<AxesSubplot:>"
      ]
     },
     "execution_count": 40,
     "metadata": {},
     "output_type": "execute_result"
    },
    {
     "data": {
      "image/png": "[encoded data removed]",
      "text/plain": [
       "<Figure size 640x480 with 1 Axes>"
      ]
     },
     "metadata": {},
     "output_type": "display_data"
    }
   ],
   "source": [
    "health_df['PANEL'].value_counts().plot(kind='bar')"
   ]
  },
  {
   "cell_type": "code",
   "execution_count": 42,
   "id": "6a31b579-a8af-433a-afb5-c07e5f122631",
   "metadata": {},
   "outputs": [
    {
     "data": {
      "text/plain": [
       "<AxesSubplot:>"
      ]
     },
     "execution_count": 42,
     "metadata": {},
     "output_type": "execute_result"
    },
    {
     "data": {
      "image/png": "[encoded data removed]",
      "text/plain": [
       "<Figure size 640x480 with 1 Axes>"
      ]
     },
     "metadata": {},
     "output_type": "display_data"
    }
   ],
   "source": [
    "health_df['AGE'].value_counts().sort_values().plot()"
   ]
  },
  {
   "cell_type": "code",
   "execution_count": null,
   "id": "fbaab6c3-97c2-4645-8b65-4accc7c7ac0c",
   "metadata": {},
   "outputs": [],
   "source": []
  },
  {
   "cell_type": "code",
   "execution_count": null,
   "id": "b91754cd-6d9b-4cd4-b786-a2721bcc0dae",
   "metadata": {},
   "outputs": [],
   "source": []
  },
  {
   "cell_type": "code",
   "execution_count": null,
   "id": "cf1dd2a7-d100-4e38-bc48-ef91d943e9b4",
   "metadata": {},
   "outputs": [],
   "source": []
  },
  {
   "cell_type": "code",
   "execution_count": null,
   "id": "ce70a094-5f3c-442e-b2ad-3a05a3f12bf0",
   "metadata": {},
   "outputs": [],
   "source": []
  },
  {
   "cell_type": "code",
   "execution_count": null,
   "id": "34032f49-783e-43d4-9b44-e8e623b970be",
   "metadata": {},
   "outputs": [],
   "source": []
  },
  {
   "cell_type": "code",
   "execution_count": null,
   "id": "b9807e41-5245-484a-b3f8-027fd0bf9505",
   "metadata": {},
   "outputs": [],
   "source": []
  },
  {
   "cell_type": "code",
   "execution_count": null,
   "id": "d7f8893b-3ef5-4ec2-ab7b-5ddcc91135f9",
   "metadata": {},
   "outputs": [],
   "source": []
  },
  {
   "cell_type": "code",
   "execution_count": null,
   "id": "0b1a3394-9b07-4c26-967c-ee36aa9207ae",
   "metadata": {},
   "outputs": [],
   "source": []
  },
  {
   "cell_type": "code",
   "execution_count": null,
   "id": "836d16ba-79e8-4c06-adf9-6d24401eb615",
   "metadata": {},
   "outputs": [],
   "source": []
  },
  {
   "cell_type": "code",
   "execution_count": null,
   "id": "c3b00e48-58ba-4d83-9d77-816a8502a8e2",
   "metadata": {},
   "outputs": [],
   "source": []
  },
  {
   "cell_type": "code",
   "execution_count": null,
   "id": "ac434dba-fac6-4af6-912e-01ea45f73c2d",
   "metadata": {},
   "outputs": [],
   "source": []
  },
  {
   "cell_type": "code",
   "execution_count": null,
   "id": "26b0e238-c1ee-4a8f-921f-e22c2f613f1e",
   "metadata": {},
   "outputs": [],
   "source": []
  },
  {
   "cell_type": "code",
   "execution_count": null,
   "id": "be5a59c6-bba7-4d86-90e8-85b0dabc3084",
   "metadata": {},
   "outputs": [],
   "source": []
  }
 ],
 "metadata": {
  "kernelspec": {
   "display_name": "dataScience",
   "language": "python",
   "name": "datascience"
  },
  "language_info": {
   "codemirror_mode": {
    "name": "ipython",
    "version": 3
   },
   "file_extension": ".py",
   "mimetype": "text/x-python",
   "name": "python",
   "nbconvert_exporter": "python",
   "pygments_lexer": "ipython3",
   "version": "3.7.9"
  }
 },
 "nbformat": 4,
 "nbformat_minor": 5
}
